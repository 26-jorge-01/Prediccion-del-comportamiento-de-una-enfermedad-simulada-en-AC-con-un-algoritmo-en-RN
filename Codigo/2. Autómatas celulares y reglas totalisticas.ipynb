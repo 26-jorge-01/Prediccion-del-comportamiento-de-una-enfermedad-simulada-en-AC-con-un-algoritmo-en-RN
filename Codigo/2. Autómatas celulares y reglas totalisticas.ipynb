{
 "cells": [
  {
   "cell_type": "markdown",
   "id": "8bd81b52",
   "metadata": {},
   "source": [
    "# Autómatas celulares\n",
    "\n",
    "Los autómatas celulares son una herramienta para modelar sistemas dinámicos y complejos de manera discreta. Entán compuestos por un conjunto finito de celdas capaces de adquirir distintos estados o valores de acuerdo con unas reglas de comportamiento.\n",
    "\n",
    "De manera formal definiremos a un autómata celular como la tupla $A = (\\mathcal{L}, \\tau, \\Sigma, \\phi)$, donde:\n",
    "\n",
    "* $\\mathcal{L}$ es un espacio discreto d-dimensional dividido de manera uniforme.\n",
    "* $\\Sigma$ es el conjunto de todos los posibles estados del autómata celular.\n",
    "* $\\tau$ es un sistema de vecindades definido a partir de las vecindades de cada celda o célula.\n",
    "* $\\phi:\\overbrace{\\Sigma\\times\\Sigma\\times\\cdots\\times\\Sigma}^{N}\\to\\Sigma$ es la regla de transición (o evolución) que define la manera en la que se actualiza el estado de cada celda teniendo en cuenta sus $N$ vecinos.\n",
    "\n",
    "$\\textbf{Observación:}$ Trabajaremos sobre espacios discretos de dos dimensiones salvo se indique lo contrario.\n",
    "\n",
    "Antes de continuar con la definición de las reglas para nuestros modelos epidemiológicos, debemos profundizar algunos de conceptos anteriores:\n",
    "\n",
    "Tipicamente cuando se desarrollan análisis con autómatas celulares se trabaja con sistemas de vecindades definidos a partir de la vecindad de Moore o de la vecindad de Von neumann. Esta vecindad se compone de todas las células que rodean a la ubicada en alguna posición $i,j$ en nuestro espacio, la definimos como \n",
    "\n",
    "$$\\mathcal{V}_M(x_{i,j}) = \\{x_{k,l}||i-k|,|j-l|\\leq1\\text{, con }k,l\\in\\mathbb{Z}\\}$$\n",
    "\n",
    "Por otro lado encontramos a la vecindad de Von neumman, esta vecindad se compone de las celdas que rodean a la ubicada en la posición $i,j$ sin contar a los que se encuentran en las \"esquinas\". Se define como:\n",
    "\n",
    "$$\\mathcal{V}_V(x_{i,j}) = \\{x_{k,l}||i-k|+|j-l|\\leq1\\text{, con }k,l\\in\\mathbb{Z}\\}$$"
   ]
  },
  {
   "cell_type": "code",
   "execution_count": 1,
   "id": "9f6fe192",
   "metadata": {},
   "outputs": [
    {
     "data": {
      "image/png": "[encoded data removed]",
      "text/plain": [
       "<Figure size 576x216 with 2 Axes>"
      ]
     },
     "metadata": {
      "needs_background": "light"
     },
     "output_type": "display_data"
    }
   ],
   "source": [
    "import numpy as np\n",
    "import matplotlib.pyplot as plt\n",
    "from IPython.core.pylabtools import figsize\n",
    "from EpidemiologicalModels.DefineSpaceInCA import *\n",
    "\n",
    "Vecindad_Moore = np.zeros((3,3)); Vecindad_Moore[1,1] = 2\n",
    "Vecindad_Von_Neumann = np.ones((3,3))\n",
    "Vecindad_Von_Neumann[0:,1] = 0; Vecindad_Von_Neumann[1,0:] = 0; Vecindad_Von_Neumann[1,1] = 2\n",
    "\n",
    "figsize(8,3)\n",
    "\n",
    "plt.subplot(1,2,1)\n",
    "plt.title(\"Vecindad de Von Neumann\")\n",
    "plt.imshow(color(Von_Neumann(Vecindad_Von_Neumann,1,1)[0]),cmap=\"nipy_spectral\", interpolation='nearest')\n",
    "\n",
    "plt.subplot(1,2,2)\n",
    "plt.title(\"Vecindad de Moore\")\n",
    "plt.imshow(color(Moore(Vecindad_Moore,1,1)[0]), cmap=\"nipy_spectral\",interpolation='nearest')\n",
    "\n",
    "plt.show()"
   ]
  },
  {
   "cell_type": "markdown",
   "id": "6f096852",
   "metadata": {},
   "source": [
    "En cuanto a la condición de frontera sobre mnuestro espacio para trabajar con este tipo de vecindades usaremos los bordes de tipo absorvente[5], en los que se consideran unicamente los vecinos dentro de los limites del sistema. Para poder trabajar con este tipo de bordes es necesario aumentar el tamaño de nuestro espacio tanto como la dimensión de la vecindad nos lo indique. \n",
    "\n",
    "![texto del enlace](Imagenes/condicionFrontera.PNG)\n",
    "\n",
    "En el diagrama anterior podemos apreciar la manera en la que se toman los vecinos de los individuos cercanos a los bordes, adicionalmente se aprecian los estados que conseraremos para nuestros análisis, es decir, $\\Sigma=\\{\\text{susceptibles, infectados, recuperados, muertos, espacios vacios}\\} = \\{S,I,R,M,V\\}$.\n",
    "\n",
    "Existen dos tipos de reglas de evolución para autómatas celulares, las determinísticas y las totalísticas. Las $\\textbf{reglas deterministicas}$ son aquellas en las que se determina un estado para cada posible configuración del vecindario, esto complica demasiado las cosas en un sistema de dos dimensiones ya que podemos tener $5^{5^9}$ configuraciones para la vecindad de Moore y $5^{5^5}$ configuraciones para la vecindad de Von neumann[5].\n",
    "\n",
    "En el caso de las $\\textbf{reglas totalísticas}$ se definen los estados a partir de propiedades sobre las vecindades, por ejemplo se podria tener una regla que se aplique solo si hay 3 de 9 vecinos susceptibles o 1 de 6 recuperados. Este tipo de regla facilita en gran medida la construcción de análisis sobre autómatas celulares ya que se requiere de un menor almacenamiento en memoria para la cantidad de posibles casos.\n",
    "\n",
    "En nuestro caso usaremos el tipo de regla totalística en el que la célula central se considera unicamente para determinar la condición en la que se aplica la regla de evolución y no para definir la propiedad en la que se aplica directamente la regla.\n",
    "\n",
    "# Reglas de evolución para modelos epidemiológicos\n",
    "\n",
    "Para definir las reglas de evolución para nuestros autómatas celulares partiremos desde los modelos mas simplificados, analizando los posibles escenarios que se pueden describir por medio de los modelos clásicos para posteriormente validar los comportamientos simulados a partir de nuestros autómatas celulares.\n",
    "\n",
    "Antes de continuar, consideraremos las siguientes notaciones:\n",
    "*  La célula en la posición $i,j$ se representará como $x_{i,j}$.\n",
    "*  Denotaremos a $\\pi^t(x_{i,j})$ como el estado de la celda $i,j$ en el momento $t$.\n",
    "*  La cantidad de individuos que posean el estado $X$ en el tiempo $t$ en la vecindad de $i,j$ se denotara como $\\sigma(\\mathcal{V}(x_{i,j}),X,t)$.\n",
    "*  La cantidad de vecinos de la célula $i,j$ se representará como $\\#\\mathcal{V}(x_i,j)$.\n",
    "\n",
    "El primer caso que veremos será el del modelo SIS sin natalidad ni mortalidad, es decir, $\\mu=\\theta=0$.\n",
    "\n",
    "## El modelo SIS sin natalidad ni mortalidad\n",
    "\n",
    "Dados $\\beta$ y $\\alpha$ las tasas de infección y de recuperación respectivamente, el modelo SIS nos afirma que para $R_0=\\frac{\\beta}{\\alpha}>1$ la enfermedad será endemica. Repliquemos esté escenario de manera local sobre una celda:\n",
    "\n",
    "* Supongamos por un momento que la célula es susceptible con $R_0>1$, esto significa que la probabilidad de adquirir la enfermedad luego de tener contacto con algún infectado es más alta que la probabilidad de que se mantenga sana luego de dicho contacto, pues $\\beta>\\alpha$. Adicionalmente, si la célula tiene más de un vecino infectado, la probabilidad de infectarse crecerá. De ese modo, para un valor aleatorio $\\rho\\in[0,1]$ generado uniformemente se tendrá que:\n",
    "\n",
    "$$\"\\text{Sea }\\pi^t(x_{i,j})=S\\text{ y suponga que }\\rho>\\frac{\\beta}{\\alpha}\\frac{\\sigma(\\mathcal{V}(x_{i,j}),I,t)}{\\#\\mathcal{V}(x_{i,j})}\\text{, entonces }\\pi^{t+1}(x_{i,j})=I\\text{, en caso contrario }\\pi^{t+1}(x_{i,j})=S\"$$\n",
    "\n",
    "* En el caso en el que la célula está infectada, $R_0>1$ se entiende como que la probabilidad de mantenerse infectado es mayor a la probabilidad de recuperarse. Al igual que en el caso anterior, si hay más de un individuo infectado en la vecindad de un infectado es más probable que la célula se mantenga infectada, de ese modo:\n",
    "\n",
    "$$\"\\text{Sea }\\pi^t(x_{i,j})=I\\text{ y suponga que }\\rho\\leq\\frac{\\beta}{\\alpha}\\frac{\\sigma(\\mathcal{V}(x_{i,j}),I,t)}{\\#\\mathcal{V}(x_{i,j})}\\text{, entonces }\\pi^{t+1}(x_{i,j})=S\\text{, en caso contrario }\\pi^{t+1}(x_{i,j})=I\"$$\n",
    "\n",
    "Analicemos ahora el caso en el que $R_0<1$:\n",
    "\n",
    "* Si suponemos que la célula esta infectada, la probabilidad de curarse es mayor que la de mantenerse enfermo dado que $\\alpha>\\beta$. En este caso la probabilidad de recuperarse disminuira en función de la cantidad de infectados en la vecindad, con lo cual\n",
    "\n",
    "$$\"\\text{Sea }\\pi^t(x_{i,j})=I\\text{ y suponga que }\\rho>\\frac{\\beta}{\\alpha}\\frac{\\sigma(\\mathcal{V}(x_{i,j}),I,t)}{\\#\\mathcal{V}(x_{i,j})}\\text{, entonces }\\pi^{t+1}(x_{i,j})=I\\text{, en caso contrario }\\pi^{t+1}(x_{i,j})=S\"$$\n",
    "\n",
    "* Finalmente, si suponemos que la celda es susceptible, la probabilidad de infectarse es menor que la probabilidad de mantenerse sana de modo que\n",
    "\n",
    "$$\"\\text{Sea }\\pi^t(x_{i,j})=S\\text{ y suponga que }\\rho\\leq\\frac{\\beta}{\\alpha}\\frac{\\sigma(\\mathcal{V}(x_{i,j}),I,t)}{\\#\\mathcal{V}(x_{i,j})}\\text{, entonces }\\pi^{t+1}(x_{i,j})=S\\text{, en caso contrario }\\pi^{t+1}(x_{i,j})=I\"$$\n",
    "\n",
    "Podemos expresar cada uno de los escenarios anteriormente mencionados por medio de la siguiente expresión:\n",
    "\n",
    "\\begin{equation}\n",
    "\\phi_{ij}^{t+1}(\\alpha,\\beta)=\\left\\{\\begin{array}{ll}\n",
    "S & \\textrm{, si }\\rho\\leq\\frac{\\beta}{\\alpha}\\cdot \\frac{\\sigma(\\mathcal{V}(x_{i,j}),I,t)}{\\#\\mathcal{V}(x_{i,j})} \\\\\n",
    "I & \\textrm{, en otro caso}\n",
    "\\end{array}\\right.\n",
    "\\end{equation}\n",
    "\n",
    "Denotaremos la aplicación de la regla $\\phi_{ij}^{t+1}(\\alpha,\\beta)$ en todas las celdas del espacio $\\mathcal{L}$ como $\\phi^{t+1}(\\alpha,\\beta)$.\n",
    "\n",
    "## El modelo SIR sin natalidad ni mortalidad\n",
    "\n",
    "El modelo SIR describe el comportamiento entre tres estados por medio de dos relaciones, la que está presente cuando se pasa del estado S al estado I y la que describe el paso del estado I al estado R. Nosotros ya definimos una de estas relaciones, la del estado S al estado I con la regla de evolución $\\phi^t(\\alpha,\\beta)$. Ahora definiremos la regla para el cambio del estado I al estado R:\n",
    "\n",
    "Dado que la recuperación de una célula infectada no depende de ningún tipo de interacción con celdas recuperadas no se considerará el estado de los vecinos, en lugar de eso partiremos del concepto de $\\alpha$, el cual nos indica que un individuo infectado tiene una probabilidad $\\alpha$ de recuperarse, o lo que es equivalente, que $\\alpha$ de la población infectada se recupera.\n",
    "\n",
    "Aplicaremos la regla $\\phi^{t+1}(\\alpha,\\beta)$ unicamente sobre todos los individuos susceptibles y posteriormente tomaremos la proporción $\\alpha$ de celdas infectadas que se recuperaran por unidad de tiempo.\n",
    "\n",
    "## Natalidad y mortalidad (Pendiente)\n",
    "## Muerte por enfermedad (Pendiente)"
   ]
  },
  {
   "cell_type": "markdown",
   "id": "2e1eff88",
   "metadata": {},
   "source": [
    "1. Simulating Complex Systems by Cellular Automata\n",
    "2. MODELING INFECTIOUS DISEASES USING GLOBAL STOCHASTIC CELLULAR AUTOMATA\n",
    "3. Epidemiological modeling with a population density map-based cellular automata simulation system\n",
    "4. Descripción y Aplicaciones de los Autómatas Celulares\n",
    "5. Autómatas Celulares y su Aplicación en Computación"
   ]
  },
  {
   "cell_type": "code",
   "execution_count": null,
   "id": "3cea0bb7",
   "metadata": {},
   "outputs": [],
   "source": []
  }
 ],
 "metadata": {
  "kernelspec": {
   "display_name": "Python 3",
   "language": "python",
   "name": "python3"
  },
  "language_info": {
   "codemirror_mode": {
    "name": "ipython",
    "version": 3
   },
   "file_extension": ".py",
   "mimetype": "text/x-python",
   "name": "python",
   "nbconvert_exporter": "python",
   "pygments_lexer": "ipython3",
   "version": "3.8.8"
  }
 },
 "nbformat": 4,
 "nbformat_minor": 5
}
