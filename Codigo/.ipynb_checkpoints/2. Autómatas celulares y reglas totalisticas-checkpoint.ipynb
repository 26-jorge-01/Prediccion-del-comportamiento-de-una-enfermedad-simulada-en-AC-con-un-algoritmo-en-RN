{
 "cells": [
  {
   "cell_type": "markdown",
   "id": "2e1eff88",
   "metadata": {},
   "source": [
    "1. Simulating Complex Systems by Cellular Automata\n",
    "2. MODELING INFECTIOUS DISEASES USING GLOBAL STOCHASTIC CELLULAR AUTOMATA\n",
    "3. Epidemiological modeling with a population density map-based cellular automata simulation system\n",
    "4. Descripción y Aplicaciones de los Autómatas Celulares\n",
    "5. Autómatas Celulares y su Aplicación en Computación"
   ]
  },
  {
   "cell_type": "code",
   "execution_count": null,
   "id": "3cea0bb7",
   "metadata": {},
   "outputs": [],
   "source": []
  }
 ],
 "metadata": {
  "kernelspec": {
   "display_name": "Python 3",
   "language": "python",
   "name": "python3"
  },
  "language_info": {
   "codemirror_mode": {
    "name": "ipython",
    "version": 3
   },
   "file_extension": ".py",
   "mimetype": "text/x-python",
   "name": "python",
   "nbconvert_exporter": "python",
   "pygments_lexer": "ipython3",
   "version": "3.8.8"
  }
 },
 "nbformat": 4,
 "nbformat_minor": 5
}
