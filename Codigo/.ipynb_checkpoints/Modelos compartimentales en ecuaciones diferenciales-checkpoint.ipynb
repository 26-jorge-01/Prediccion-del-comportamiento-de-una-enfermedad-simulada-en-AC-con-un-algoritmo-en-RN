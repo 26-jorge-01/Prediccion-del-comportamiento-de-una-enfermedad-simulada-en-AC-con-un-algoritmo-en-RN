{
 "cells": [
  {
   "cell_type": "code",
   "execution_count": 5,
   "id": "a93431d0",
   "metadata": {},
   "outputs": [],
   "source": [
    "from EpidemiologicalModels.CompartmentalModelsInEDOS import *\n",
    "\n",
    "# Parámetros del modelo\n",
    "beta =  0.5 # Tasa de contagio\n",
    "alpha =  0.2 # Tasa de recuperación (días que dura en promedio la enfermedad)\n",
    "mu = 1/(75*365) # Tasa de natalidad / mortalidad\n",
    "theta = 0.4 # 0.1 # Tasa de muerte por enfermedad\n",
    "\n",
    "# Funciones del modelo\n",
    "def S_function(values, beta = beta, mu = mu, theta = theta):\n",
    "    # S' = mu - theta*alpha*I + alpha*I - mu*S - beta*S*I\n",
    "    # S' = mu*(1 - S) + (1 - theta)*alpha*I - beta*S*I\n",
    "    return mu*(1 - values[0]) + (1 - theta)*alpha*values[1] - beta*values[0]*values[1]\n",
    "\n",
    "def I_function(values, alpha = alpha, beta = beta, mu = mu, theta = theta):\n",
    "    # I' = beta*S*I - alpha*I - mu*I + theta*alpha*I\n",
    "    # I' = beta*S*I - (1 - theta)*alpha*I - mu*I\n",
    "    return beta*values[0]*values[1] - (1 - theta)*alpha*values[1] - mu*values[1]\n",
    "\n",
    "listOfFunctions = [S_function, I_function]\n",
    "initialValues = [0.9, 0.1]"
   ]
  },
  {
   "cell_type": "code",
   "execution_count": 6,
   "id": "09d917c1",
   "metadata": {},
   "outputs": [
    {
     "data": {
      "image/png": "[encoded data removed]",
      "text/plain": [
       "<Figure size 432x288 with 1 Axes>"
      ]
     },
     "metadata": {
      "needs_background": "light"
     },
     "output_type": "display_data"
    }
   ],
   "source": [
    "# Solución discreta del modelo\n",
    "discreteSolutions = CompartmentalModelsInEDOS(listOfFunctions, initialValues)\n",
    "discreteSolutions.n_iterations(1100)\n",
    "# discreteSolutions.ModelSolutions()\n",
    "discreteSolutions.plotSolutions([\"Susceptibles\", \"Infectados\"],[\"y\",\"r\"])\n",
    "# discreteSolutions.PrintParameters()"
   ]
  },
  {
   "cell_type": "code",
   "execution_count": 7,
   "id": "0a685961",
   "metadata": {},
   "outputs": [],
   "source": [
    "# Parámetros del modelo\n",
    "beta =  0.5 # Tasa de contagio\n",
    "alpha =  0.2 # Tasa de recuperación (días que dura en promedio la enfermedad)\n",
    "\n",
    "# Funciones del modelo\n",
    "def S_function(values, beta=beta, mu = mu, theta = theta):\n",
    "    # S' = -beta*S*I + mu*(1 - S) + theta*alpha*I\n",
    "    return mu*(1 - values[0]) - beta*values[0]*values[1] + alpha*theta*values[1]\n",
    "\n",
    "def I_function(values, alpha=alpha, beta=beta, mu = mu, theta = theta):\n",
    "    # I' = beta*S*I - mu*I - theta*alpha*I - (1 - theta)*alpha*I \n",
    "    # I' = beta*S*I - mu*I - alpha*I\n",
    "    return beta*values[0]*values[1] - values[1]*(alpha + mu)\n",
    "\n",
    "def R_function(values, alpha=alpha, mu = mu, theta = theta):\n",
    "    # R' = (1 - theta)*alpha*I - mu*R\n",
    "    return (1 - theta)*alpha*values[1] \n",
    "\n",
    "listOfFunctions = [S_function, I_function, R_function]\n",
    "initialValues = [0.9, 0.1, 0]"
   ]
  },
  {
   "cell_type": "code",
   "execution_count": 8,
   "id": "e9049e42",
   "metadata": {},
   "outputs": [
    {
     "name": "stdout",
     "output_type": "stream",
     "text": [
      "h: 0.1 \n",
      "n_iterations: 1100 \n",
      "differentialEquations: [<function S_function at 0x000001B4B9A16670>, <function I_function at 0x000001B4B9ACEE50>, <function R_function at 0x000001B4B9ACEEE0>]\n",
      "        \n"
     ]
    }
   ],
   "source": [
    "# Solución discreta del modelo\n",
    "discreteSolutions = CompartmentalModelsInEDOS(listOfFunctions, initialValues)\n",
    "discreteSolutions.n_iterations(1100)\n",
    "# discreteSolutions.ModelSolutions()\n",
    "# discreteSolutions.plotSolutions([\"Susceptibles\", \"Infectados\", \"Recuperados\"],[\"y\", \"r\", \"g\"])\n",
    "discreteSolutions.PrintParameters()"
   ]
  },
  {
   "cell_type": "code",
   "execution_count": null,
   "id": "7bca66a7",
   "metadata": {},
   "outputs": [],
   "source": []
  }
 ],
 "metadata": {
  "kernelspec": {
   "display_name": "Python 3",
   "language": "python",
   "name": "python3"
  },
  "language_info": {
   "codemirror_mode": {
    "name": "ipython",
    "version": 3
   },
   "file_extension": ".py",
   "mimetype": "text/x-python",
   "name": "python",
   "nbconvert_exporter": "python",
   "pygments_lexer": "ipython3",
   "version": "3.8.8"
  }
 },
 "nbformat": 4,
 "nbformat_minor": 5
}
