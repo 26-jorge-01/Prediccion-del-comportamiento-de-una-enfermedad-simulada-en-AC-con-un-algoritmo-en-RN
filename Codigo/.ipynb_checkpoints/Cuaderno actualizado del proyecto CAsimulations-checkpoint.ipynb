{
 "cells": [
  {
   "cell_type": "markdown",
   "metadata": {
    "id": "wfTpfmkMwi4r"
   },
   "source": [
    "# Proyecto CAsimulations"
   ]
  },
  {
   "cell_type": "markdown",
   "metadata": {
    "id": "aD_v_OylwYf7"
   },
   "source": [
    "## Preliminares"
   ]
  },
  {
   "cell_type": "code",
   "execution_count": 1,
   "metadata": {
    "colab": {
     "base_uri": "https://localhost:8080/"
    },
    "executionInfo": {
     "elapsed": 3370,
     "status": "ok",
     "timestamp": 1611848811579,
     "user": {
      "displayName": "jorge andres ibañez huertas",
      "photoUrl": "https://lh3.googleusercontent.com/a-/AOh14GhxtY1gv0TE-_5I14fAFDQvitQd7o-GQS0CPcZFxw=s64",
      "userId": "08569590861585362554"
     },
     "user_tz": 300
    },
    "id": "bDrTh1O6-4v5",
    "outputId": "dd1ad0c2-6fb8-40ce-db24-82aa7fb4c78d"
   },
   "outputs": [
    {
     "name": "stdout",
     "output_type": "stream",
     "text": [
      "Requirement already satisfied: opencv-python in e:\\herramientas\\lib\\site-packages (4.5.2.52)\n",
      "Requirement already satisfied: numpy>=1.17.3 in e:\\herramientas\\lib\\site-packages (from opencv-python) (1.20.1)\n"
     ]
    }
   ],
   "source": [
    "!pip install opencv-python"
   ]
  },
  {
   "cell_type": "code",
   "execution_count": 2,
   "metadata": {
    "colab": {
     "base_uri": "https://localhost:8080/"
    },
    "executionInfo": {
     "elapsed": 5891,
     "status": "ok",
     "timestamp": 1611848814133,
     "user": {
      "displayName": "jorge andres ibañez huertas",
      "photoUrl": "https://lh3.googleusercontent.com/a-/AOh14GhxtY1gv0TE-_5I14fAFDQvitQd7o-GQS0CPcZFxw=s64",
      "userId": "08569590861585362554"
     },
     "user_tz": 300
    },
    "id": "-nBSh-gyMFQe",
    "outputId": "e13fba1a-1393-48be-a1bd-14be13c12084"
   },
   "outputs": [
    {
     "name": "stdout",
     "output_type": "stream",
     "text": [
      "Requirement already satisfied: opencv-contrib-python in e:\\herramientas\\lib\\site-packages (4.5.2.52)\n",
      "Requirement already satisfied: numpy>=1.17.3 in e:\\herramientas\\lib\\site-packages (from opencv-contrib-python) (1.20.1)\n"
     ]
    }
   ],
   "source": [
    "!pip install opencv-contrib-python"
   ]
  },
  {
   "cell_type": "code",
   "execution_count": 3,
   "metadata": {
    "executionInfo": {
     "elapsed": 5868,
     "status": "ok",
     "timestamp": 1611848814135,
     "user": {
      "displayName": "jorge andres ibañez huertas",
      "photoUrl": "https://lh3.googleusercontent.com/a-/AOh14GhxtY1gv0TE-_5I14fAFDQvitQd7o-GQS0CPcZFxw=s64",
      "userId": "08569590861585362554"
     },
     "user_tz": 300
    },
    "id": "31Ujb3dH--mT"
   },
   "outputs": [],
   "source": [
    "import numpy as np\n",
    "import matplotlib.pyplot as plt\n",
    "import cv2\n",
    "import string\n",
    "import pandas as pd\n",
    "import glob\n",
    "import random \n",
    "from skimage.color import rgb2gray\n",
    "import seaborn as sns\n",
    "import scipy.integrate as spi\n",
    "import math \n",
    "from sklearn import linear_model\n",
    "from sklearn.metrics import mean_squared_error, r2_score\n",
    "import sklearn\n",
    "from IPython.core.pylabtools import figsize"
   ]
  },
  {
   "cell_type": "code",
   "execution_count": 4,
   "metadata": {
    "executionInfo": {
     "elapsed": 5845,
     "status": "ok",
     "timestamp": 1611848814136,
     "user": {
      "displayName": "jorge andres ibañez huertas",
      "photoUrl": "https://lh3.googleusercontent.com/a-/AOh14GhxtY1gv0TE-_5I14fAFDQvitQd7o-GQS0CPcZFxw=s64",
      "userId": "08569590861585362554"
     },
     "user_tz": 300
    },
    "id": "-4JMJvDu7kdC"
   },
   "outputs": [],
   "source": [
    "def spline3(A):     #spline cubico para la lista de coordenadas A \n",
    "    n = len(A); alpha = []; spline = []\n",
    "    a = []; h = []; x = []; y = []*(n-1); C = [0]*n\n",
    "    l = [1]; B = [0] ; g = [0]; gn = 0\n",
    "    for i in range(n):\n",
    "        a.append(A[i][1])\n",
    "    for i in range(n-1):\n",
    "        xh = A[i+1][0]-A[i][0]; h.append(xh)\n",
    "    for i in range(1, n-1):\n",
    "        xa = (3/h[i])*(a[i+1]-a[i])-(3/h[i-1])*(a[i]-a[i-1]); alpha.append(xa)\n",
    "    for i in range(1, n-1):\n",
    "        xl = 2*(A[i+1][0]-A[i-1][0])-h[i-1]*B[i-1]; l.append(xl)\n",
    "        xb = h[i]/l[i]; B.append(xb)\n",
    "        xg = (alpha[i-1]-h[i-1]*g[i-1])/l[i]; g.append(xg)\n",
    "    l.append(1); g.append(0)\n",
    "    for i in range(n-1):\n",
    "        j = (n-1)-(i+1)\n",
    "        xC = g[j]-B[j]*C[j+1]; C[j] = xC\n",
    "        xy = ((a[j+1]-a[j])/h[j])-(h[j]/3)*(C[j+1]+2*C[j]); y.append(xy)\n",
    "        xx = (C[j+1]-C[j])/(3*h[j]); x.append(xx)\n",
    "    for i in range(n-1):\n",
    "        j=(n-1)-(i+1)\n",
    "        S3 = [a[i],y[j],C[i],x[j]]; spline.append(S3)\n",
    "    return np.array(spline)"
   ]
  },
  {
   "cell_type": "code",
   "execution_count": 5,
   "metadata": {
    "executionInfo": {
     "elapsed": 5834,
     "status": "ok",
     "timestamp": 1611848814137,
     "user": {
      "displayName": "jorge andres ibañez huertas",
      "photoUrl": "https://lh3.googleusercontent.com/a-/AOh14GhxtY1gv0TE-_5I14fAFDQvitQd7o-GQS0CPcZFxw=s64",
      "userId": "08569590861585362554"
     },
     "user_tz": 300
    },
    "id": "4OBc45UEoOkv"
   },
   "outputs": [],
   "source": [
    "def graficas(variables, etiquetas, colores, title, limit=True):\n",
    "    if len(etiquetas) != len(variables):\n",
    "        print(\"La cantidad de etiquetas debe ser igual a la cantidad de variables\")\n",
    "    elif len(colores) != len(variables):\n",
    "        print(\"La cantidad de colores debe ser igual a la cantidad de variables\")\n",
    "    else:\n",
    "        for j in range(len(variables)):\n",
    "            funcion = []; cond = []; x = []; y = []\n",
    "            A = variables[j]\n",
    "            SP = spline3(A)\n",
    "            for i in range(len(spline3(A))):\n",
    "                xa = np.linspace(A[i,0],A[i+1,0] - 0.0001,11); x = np.concatenate((x,xa))\n",
    "                ya = SP[i,0] + SP[i,1]*(xa-A[i,0]) + SP[i,2]*(xa-A[i,0])**2 + SP[i,3]*(xa-A[i,0])**3\n",
    "                y = np.concatenate((y,ya))\n",
    "            plt.plot(x,y,c = colores[j],label = etiquetas[j])\n",
    "    if limit == True:\n",
    "        plt.plot(x, x**0, 'k--')\n",
    "        plt.ylim(0,1.05)\n",
    "    plt.title(title)\n",
    "    plt.xlabel(\"Time\")\n",
    "    plt.legend(loc=0)\n",
    "    plt.show()"
   ]
  },
  {
   "cell_type": "code",
   "execution_count": 6,
   "metadata": {},
   "outputs": [],
   "source": [
    "def insideCopy(system,extraRows=0,extraColumns=0):\n",
    "    \"\"\"Copia del sistema en un entorno extendido\n",
    "    extraRows    => Cantidad de filas extra del entorno\n",
    "    extraColumns => Cantidad de columnas extra del entorno\"\"\"\n",
    "    nRows,nColumns = system.shape\n",
    "    copy = -np.ones((nRows+(extraRows*2),nColumns+(extraColumns*2)))\n",
    "    for row in range(nRows):\n",
    "        for column in range(nColumns):\n",
    "            copy[row+extraRows][column+extraColumns] = system[row][column]\n",
    "    return copy"
   ]
  },
  {
   "cell_type": "code",
   "execution_count": 7,
   "metadata": {
    "executionInfo": {
     "elapsed": 5821,
     "status": "ok",
     "timestamp": 1611848814137,
     "user": {
      "displayName": "jorge andres ibañez huertas",
      "photoUrl": "https://lh3.googleusercontent.com/a-/AOh14GhxtY1gv0TE-_5I14fAFDQvitQd7o-GQS0CPcZFxw=s64",
      "userId": "08569590861585362554"
     },
     "user_tz": 300
    },
    "id": "9dvaQg5nA7LL"
   },
   "outputs": [],
   "source": [
    "def color(system):                 \n",
    "    \"\"\"\n",
    "    Transformación que permite visualizar el sistema a color\n",
    "    \"\"\"\n",
    "    n,m = system.shape  #dim(A) = nm\n",
    "    systemCopy = insideCopy(system)\n",
    "    for i in range(n):\n",
    "        for j in range(m):\n",
    "            if systemCopy[i][j] == 0:    \n",
    "                systemCopy[i][j] = 190  # individuos susceptibles == color amarillo\n",
    "            if systemCopy[i][j] == 1:    \n",
    "                systemCopy[i][j] = 240  # individuos infectados == color rojo\n",
    "            if systemCopy[i][j] == 2:    \n",
    "                systemCopy[i][j] = 115  # individuos recuperados == color verde\n",
    "            if systemCopy[i][j] == -1:   \n",
    "                systemCopy[i][j] = 0    # espacios vacios == color negro\n",
    "            if systemCopy[i][j] == 3:\n",
    "                systemCopy[i][j] = 256\n",
    "    increasedSystem = insideCopy(systemCopy,1,1)\n",
    "    increasedSystem[0][0] = 0; increasedSystem[n+1][m+1] = 256  \n",
    "    return increasedSystem"
   ]
  },
  {
   "cell_type": "markdown",
   "metadata": {
    "id": "Wt-1EKYPwrgT"
   },
   "source": [
    "## Introducción"
   ]
  },
  {
   "cell_type": "markdown",
   "metadata": {
    "id": "jrX9mkXFmiXs"
   },
   "source": [
    "## Autómatas celulares"
   ]
  },
  {
   "cell_type": "markdown",
   "metadata": {
    "id": "0KKcyTfOmsOB"
   },
   "source": [
    "Los autómatas celulares son un modelo matemático capaz de describir el comportamiento de diferentes sistemas dinámicos, están compuestos por un conjunto de agentes (también llamados celdas, células, individuos o píxeles) que toman algún valor o \"estado\".\n",
    "\n",
    "El estado de cada agente es alterado en mediciones discretas de tiempo, usualmente esta alteración del estado del agente depende del comportamiento sus individuos cercanos también llamados vecinos, la regla que describe la relación entre el conjunto de estados, el agente y sus vecinos está determinada por una expresión matemática la cual se conoce la regla de evolución local.\n",
    "\n",
    "A continuación definiremos de una manera más formal los elementos básicos que posee un autómata celular:\n",
    "\n",
    "**Definición 2.1.** Definimos al espacio n-dimensional finito de evolución $\\mathbb{S}$ como el sistema $\\mathbb{S}$. Cada división homogénea del sistema será conocido como un agente o individuo del sistema.\n",
    "\n",
    "**Definición 2.2.** Denotaremos como $\\sum$ al conjunto de estados que un agente puede tomar, observe que necesariamente $\\sum$ es finito.\n",
    "\n",
    "***Observación.*** Debido a que cada agente toma un único valor de $\\sum$, podemos interpretar a $\\sum$ como una partición de $\\mathbb{S}$, los elementos de $\\sum$ estarían dados por conjuntos de agentes con un estado especifico. Note que al tratarse de un sistema dinámico, las particiones de $\\mathbb{S}$ también cambian por cada unidad de tiempo.\n",
    "\n",
    "**Definición 2.3.** Definimos la vecindad de un agente $x$ como el conjunto de individuos cercanos a $x$.\n",
    "\n",
    "**Definición 2.4.** La regla de evolución local que asigna a cada agente un elemento de $\\sum$ en base a su vecindad es conocida como una función local.\n",
    "\n",
    "***Observación.*** Es importante resaltar la complejidad que puede llegar a tener un autómata celular, esto debido al comportamiento en cada vecindad y a su estructura topológica (característica que será estudiada más adelante). \n",
    "\n",
    "Para optimizar los procesos con autómatas celulares resulta bastante útil implementar *reglas totalísticas* y *reglas semi-totalísticas*, las cuales definiremos a continuación:\n",
    "\n",
    "**Definición 2.5.** Definimos una regla totalística como una regla de evolución que asigna un elemento de $\\sum$ a la suma de los valores de los elementos que forman la vecindad, estos valores determinan el comportamiento de todas las vecindades cuya suma de valores de sus elementos corresponda a un mismo valor.\n",
    "\n",
    "**Definición 2.6.** Una regla semi-totalística es similar a una regla totalística, la diferencia radica en que la célula central es considerada únicamente para determinar en que condición debe evaluarse la suma de los valores de sus vecinos, el valor de la célula central no se considera al realizar dicha suma.\n",
    "\n",
    "En el caso de sistemas 2-dimensionales encontramos una gran cantidad de vecindades, entre las mas conocidas encontramos la vecindad de Von Neumann la cual considera a la célula central y a los individuos ubicados a la izquierda, derecha, arriba y abajo y la vecindad de Moore la cual añade los individuos diagonales a la vecindad de Von Neumann. Para los intereses del proyecto, se decidió trabajar con vecindades de Moore. "
   ]
  },
  {
   "cell_type": "code",
   "execution_count": 8,
   "metadata": {
    "executionInfo": {
     "elapsed": 5809,
     "status": "ok",
     "timestamp": 1611848814138,
     "user": {
      "displayName": "jorge andres ibañez huertas",
      "photoUrl": "https://lh3.googleusercontent.com/a-/AOh14GhxtY1gv0TE-_5I14fAFDQvitQd7o-GQS0CPcZFxw=s64",
      "userId": "08569590861585362554"
     },
     "user_tz": 300
    },
    "id": "H9btTJ-nuv2y"
   },
   "outputs": [],
   "source": [
    "def Moore(system,i,j):\n",
    "    \"\"\"\n",
    "    Definición de la vecindad de Moore\n",
    "    \"\"\"\n",
    "    vicinityOf_ij = np.zeros((3,3))      \n",
    "    vicinityOf_ij[0][0] = system[i-1][j-1]\n",
    "    vicinityOf_ij[0][1] = system[i-1][j]\n",
    "    vicinityOf_ij[0][2] = system[i-1][j+1]    \n",
    "    vicinityOf_ij[1][0] = system[i][j-1]\n",
    "    vicinityOf_ij[1][1] = system[i][j]\n",
    "    vicinityOf_ij[1][2] = system[i][j+1]      \n",
    "    vicinityOf_ij[2][0] = system[i+1][j-1]\n",
    "    vicinityOf_ij[2][1] = system[i+1][j]\n",
    "    vicinityOf_ij[2][2] = system[i+1][j+1]    \n",
    "    # Los valores en su vecindad, junto con la coordenada de la célula\n",
    "    # principal\n",
    "    return [vicinityOf_ij,[1,1]]   \n",
    "\n",
    "def Von_Neumann(system,i,j):\n",
    "    \"\"\"\n",
    "    Definición de la vecindad de Von Neumann\n",
    "    \"\"\"\n",
    "    vicinityOf_ij = -np.ones((3,3))              \n",
    "    vicinityOf_ij[0][1] = system[i-1][j]\n",
    "    vicinityOf_ij[1][0] = system[i][j-1]\n",
    "    vicinityOf_ij[1][1] = system[i][j]\n",
    "    vicinityOf_ij[1][2] = system[i][j+1]      \n",
    "    vicinityOf_ij[2][1] = system[i+1][j]      \n",
    "    # Los valores en su vecindad, junto con la coordenada de la célula \n",
    "    # principal\n",
    "    return [vicinityOf_ij,[1,1]]  \n",
    "\n",
    "def identificador(neighborhoodType,system,i,j):\n",
    "    \"\"\"\n",
    "    Reconoce a function como la vecindad del agente en la posición ij en el \n",
    "    sistema\n",
    "    \"\"\"\n",
    "    vicinityOf_ij = neighborhoodType(system,i,j)[0]\n",
    "    masterCell = [neighborhoodType(system,i,j)[1]]\n",
    "    # Los valores en su vecindad, junto con la coordenada de la célula \n",
    "    # principal\n",
    "    return (vicinityOf_ij, masterCell)  "
   ]
  },
  {
   "cell_type": "code",
   "execution_count": 9,
   "metadata": {
    "executionInfo": {
     "elapsed": 5795,
     "status": "ok",
     "timestamp": 1611848814139,
     "user": {
      "displayName": "jorge andres ibañez huertas",
      "photoUrl": "https://lh3.googleusercontent.com/a-/AOh14GhxtY1gv0TE-_5I14fAFDQvitQd7o-GQS0CPcZFxw=s64",
      "userId": "08569590861585362554"
     },
     "user_tz": 300
    },
    "id": "KSJ4TV5fnGuw"
   },
   "outputs": [
    {
     "data": {
      "image/png": "[encoded data removed]",
      "text/plain": [
       "<Figure size 576x216 with 2 Axes>"
      ]
     },
     "metadata": {
      "needs_background": "light"
     },
     "output_type": "display_data"
    }
   ],
   "source": [
    "Vecindad_Moore = np.zeros((3,3)); Vecindad_Moore[1,1] = 2\n",
    "Vecindad_Von_Neumann = np.ones((3,3))\n",
    "Vecindad_Von_Neumann[0:,1]=0; Vecindad_Von_Neumann[1,0:]=0; Vecindad_Von_Neumann[1,1]=2\n",
    "\n",
    "figsize(8,3)\n",
    "\n",
    "plt.subplot(1,2,1)\n",
    "plt.title(\"Vecindad de Von Neumann\")\n",
    "plt.imshow(color(Von_Neumann(Vecindad_Von_Neumann,1,1)[0]),cmap=\"nipy_spectral\", interpolation='nearest')\n",
    "\n",
    "plt.subplot(1,2,2)\n",
    "plt.title(\"Vecindad de Moore\")\n",
    "plt.imshow(color(Moore(Vecindad_Moore,1,1)[0]), cmap=\"nipy_spectral\",interpolation='nearest')\n",
    "\n",
    "plt.show()"
   ]
  },
  {
   "cell_type": "markdown",
   "metadata": {
    "id": "u4isBsfo14qM"
   },
   "source": [
    "## Modelo $SIS$ en autómatas y una comparación con el modelo clásico"
   ]
  },
  {
   "cell_type": "markdown",
   "metadata": {
    "id": "Zfy2ETX82A7f"
   },
   "source": [
    "Antes de profundizar en la implementación de un modelo $SIS$ en autómatas celulares debemos entender el comportamiento de los modelos clásicos de este tipo."
   ]
  },
  {
   "cell_type": "markdown",
   "metadata": {
    "id": "sZjWuy_W2LMP"
   },
   "source": [
    "### Modelo $SIS$ en EDO's\n",
    "\n",
    "Los diversos estados del modelo serán:\n",
    "\n",
    "$$\\begin{array}{ccccc}\n",
    "    & \\small{\\beta SI} & & \\small{\\alpha I} & \\\\\n",
    "    S & \\longrightarrow & I & \\longrightarrow & S\n",
    "\\end{array}$$\n",
    "\n",
    "Para formular el modelo epidemiológico usaremos las derivadas para expresar los cambios en los estados del modelo, así el sistema de ecuaciones es precisamente \n",
    "\n",
    "\\begin{align*}\n",
    "    S'&=-\\beta SI+\\alpha SI\\\\\n",
    "    I'&=\\beta SI-\\alpha SI\n",
    "\\end{align*}\n",
    "\n",
    "Suponemos que se cumplen las condiciones iniciales:\n",
    "$$\\begin{array}{ccc}\n",
    "    S(0)=S_0\\geq0 & I(0)=I_0\\geq0 & S(t)+I(t)=1\n",
    "\\end{array}$$\n",
    "\n",
    "Para este modelo, como se vio en la sección anterior, $b(a)=\\beta$ y además $F(a)=e^{-\\alpha\\beta}$ ya que $p(a)=\\alpha$ (tasa de recuperación), por lo tanto de la formulación de $R_0$ tenemos que\n",
    "\n",
    "$$R_0=\\frac{\\beta}{\\alpha}$$\n",
    "\n",
    "Como se vio en [2], si $R_0<1$ la enfermedad acaba desapareciendo y si por otro lado $R_0>1$ la enfermedad puede ser endémica; al resolver por el método de Euler el sistema de ecuaciones tenemos que\n",
    "\n",
    "\\begin{align}\n",
    "S_{n+1}&=S_n+h\\cdot(-\\beta S_n I_n+\\alpha I_n)\\\\\n",
    "I_{n+1}&=I_n+h\\cdot(\\beta S_n\\cdot I_n-\\alpha I_n)\n",
    "\\end{align}"
   ]
  },
  {
   "cell_type": "code",
   "execution_count": 10,
   "metadata": {
    "executionInfo": {
     "elapsed": 5783,
     "status": "ok",
     "timestamp": 1611848814139,
     "user": {
      "displayName": "jorge andres ibañez huertas",
      "photoUrl": "https://lh3.googleusercontent.com/a-/AOh14GhxtY1gv0TE-_5I14fAFDQvitQd7o-GQS0CPcZFxw=s64",
      "userId": "08569590861585362554"
     },
     "user_tz": 300
    },
    "id": "vyLaRpFKJlcH"
   },
   "outputs": [
    {
     "data": {
      "image/png": "[encoded data removed]",
      "text/plain": [
       "<Figure size 576x216 with 2 Axes>"
      ]
     },
     "metadata": {
      "needs_background": "light"
     },
     "output_type": "display_data"
    }
   ],
   "source": [
    "N = 1\n",
    "'''time step'''\n",
    "TS = 1.0 \n",
    "ND = 40.0 #tiempo de analisis de la enfermedad (en meses)\n",
    "S0 = 0.9\n",
    "I0 = 0.1\n",
    "mu = 1/75\n",
    "INPUT = (S0, I0)\n",
    "\n",
    "def SIS_modelEquations(INP,t):  \n",
    "    Y = np.zeros((2))\n",
    "    V = INP\n",
    "    '''Las ecuaciones diferenciales'''\n",
    "    Y[0] = -b*V[0]*V[1]+a*V[1]+mu-mu*V[0]\n",
    "    Y[1] = b*V[0]*V[1]-a*V[1]-mu*V[1]\n",
    "    return Y \n",
    "\n",
    "def SIS_plot(ND,TS,INP):\n",
    "    t_start = 0.0; t_end = ND; t_inc = TS\n",
    "    t_range = np.arange(t_start, t_end+t_inc, t_inc)\n",
    "    RES1 = spi.odeint(SIS_modelEquations,INPUT,t_range)\n",
    "    x=np.arange(0,t_end,0.01)\n",
    "    plt.plot(x, x**0, 'k--')\n",
    "    plt.plot(RES1[:,0]*N, '-y', label='Susceptible')\n",
    "    plt.plot(RES1[:,1]*N, '-r', label='Infected')\n",
    "    plt.legend(loc=0)\n",
    "    plt.xlabel('Time')\n",
    "    plt.ylim(0, 1.05)\n",
    "    plt.savefig('sirpy')\n",
    "\n",
    "#----Ejemplos-----\n",
    "\n",
    "a=0.2; b=0.5\n",
    "plt.subplot(1,2,1)\n",
    "plt.title(\"a=0.2, b=0.5\")\n",
    "SIS_plot(ND,TS,INPUT)\n",
    "\n",
    "a=0.2; b=0.05\n",
    "plt.subplot(1,2,2)\n",
    "plt.title(\"a=0.2, b=0.05\")\n",
    "SIS_plot(ND,TS,INPUT)\n",
    "\n",
    "plt.show()"
   ]
  },
  {
   "cell_type": "markdown",
   "metadata": {
    "id": "g-0xajA_ePZR"
   },
   "source": [
    "![texto del enlace](https://docs.google.com/drawings/d/e/2PACX-1vTtQV8RDaO5UVoU0w2wMHYv-gdVBGMieCxN4FD0Ji68dK0fi7bN6z4dQBfMgW6Dth4emoMDapRucCqT/pub?w=739&h=271)"
   ]
  },
  {
   "cell_type": "markdown",
   "metadata": {
    "id": "8_FAQ-Z92P7u"
   },
   "source": [
    "### La regla base de evolución y una implementación del modelo $SIS$ en autómatas celulares"
   ]
  },
  {
   "cell_type": "markdown",
   "metadata": {
    "id": "gKD0XRAx2lZt"
   },
   "source": [
    "Para conseguir una correcta definición de nuestra regla de evolución local debemos considerar unos casos particulares basándonos en reglas del tipo semi-totalístico.\n",
    "\n",
    "*Notación.* Al tratarse de un sistema 2-dimensional finito, es posible realizar una enumeración sobre los individuos del sistema con respecto a la fila y la columna donde se encuentran, con lo cual denotaremos por $x_{ij}^t$ al valor del agente en la fila $i$ y columna $j$ en el tiempo $t$.\n",
    "\n",
    "Denotaremos además a la cantidad de individuos en la vecindad de $x_{ij}$ con algún estado particular $X$ en un tiempo $t$ como $N_{ij}^t(X)$, dicho de otra manera, $N_{ij}^t(X)$ es el cardinal del elemento $X$ de la partición $\\sum$ sobre $\\mathbb{S}$ en el tiempo $t$.\n",
    "\n",
    "* Si un agente es susceptible a adquirir la enfermedad y la probabilidad de infectarse es mayor que la probabilidad de mantenerse sano, es decir $\\beta>\\alpha$, entonces la regla de evolución local esta dada por\n",
    "\n",
    "$$\\textrm{\"Si }x_{ij}^t\\in S\\textrm{, }N_{ij}^t(I)>N_{ij}^t(S)\\textrm{ y }\\rho>\\frac{\\beta}{\\alpha}\\cdot\\frac{N_{ij}^t(I)}{8}\\textrm{, entonces }x_{ij}^{t+1}\\in I\\textrm{\"}$$\n",
    "\n",
    "Donde $\\rho$ es un valor aleatorio entre $0$ y $1$.\n",
    "* Si un agente esta infectado y la probabilidad de seguir enfermo es mayor a la probabilidad de curarse, es decir $\\beta>\\alpha$, entonces la regla de evolución estará dada por\n",
    "\n",
    "$$\\textrm{\"Si }x_{ij}^t\\in I\\textrm{ y }\\rho<\\frac{\\beta}{\\alpha}\\cdot\\frac{N_{ij}^t(I)}{8}\\textrm{, entonces }x_{ij}^{t+1}\\in I\\textrm{\"}$$\n",
    "* Si un individuo tiene la cualidad de ser susceptible y la probabilidad de mantenerse sano es mayor a la probabilidad de enfermarse, es decir $\\alpha>\\beta$, nuestra regla de evolución será\n",
    "\n",
    "$$\\textrm{\"Si }x_{ij}^t\\in S\\textrm{ y }\\rho\\geq\\frac{\\beta}{\\alpha}\\cdot\\frac{N_{ij}^t(I)}{8}\\textrm{, entonces }x_{ij}^{t+1}\\in S\\textrm{\"}$$\n",
    "* Si un individuo pertenece al conjunto de infectados y la probabilidad de curarse es mayor que la probabilidad de seguir enfermo, es decir $\\alpha>\\beta$, entonces\n",
    "$$\\textrm{\"Si }x_{ij}^t\\in I\\textrm{, }N_{ij}^t(I)< N_{ij}^t(S)\\textrm{ y }\\rho\\leq\\frac{\\beta}{\\alpha}\\cdot\\frac{N_{ij}^t(I)}{8}\\textrm{, entonces }x_{ij}^{t+1}\\in S\\textrm{\"}$$\n",
    "\n",
    "Es posible reunir cada uno de los eventos anteriores en una sola regla de evolución local, dicha regla será conocida como la regla base de interacción local.\n",
    "\n",
    "**Definición 3.1.** Dadas las tasas de recuperación $\\alpha$ e infección $\\beta$, con $N_{ij}(I)$ igual a la cantidad de agentes infectados en la vecindad, la regla de evolución para el agente $x_{ij}^{t+1}$ será:\n",
    "\n",
    "\\begin{equation}\n",
    "    \\phi_{ij}^t(\\alpha,\\beta)=\\left\\{\n",
    "    \\begin{array}{cc}\n",
    "    x_{ij}^{t+1}\\in S & \\textrm{si }\\rho\\leq\\frac{\\beta}{\\alpha}\\cdot\\frac{N_{ij}^t(I)}{8}\\\\\n",
    "    x_{ij}^{t+1}\\in I & \\textrm{en otro caso}\n",
    "    \\end{array}\n",
    "    \\right.\n",
    "\\end{equation}\n",
    "\n",
    "donde $\\rho$ es un valor aleatorio entre $0$ y $1$. Si esta regla se aplica a cada uno de los individuos del sistema $\\mathbb{S}$, la regla se aplicaría de manera \"global\", con lo cual definimos a $\\Phi^t(\\mathbb{S})$ a dicha aplicación sobre el sistema $\\mathbb{S}$.\n",
    "\n",
    "*Observación.* Note que en la ecuación anterior, los individuos susceptibles pueden adquirir el estado de infección bajo cierta probabilidad $\\hat{\\beta}$, mientras que los individuos infectados pueden adquirir la cualidad de susceptibilidad bajo una probabilidad $\\hat{\\alpha}$, con lo cual nos encontramos ante un comportamiento del tipo $SIS$, de esta manera, la regla que describe el modelo $SIS$ en autómatas celulares estará dado por la definición 3.1."
   ]
  },
  {
   "cell_type": "code",
   "execution_count": 11,
   "metadata": {},
   "outputs": [],
   "source": [
    "# Identificación de los estados\n",
    "# 0 --> Susceptible; 1 --> Infectado; 2 --> Recuperados; -1 --> Espacios vacios\n",
    "\n",
    "class systemMetrics:\n",
    "    \"\"\"Metricas que se monitorean por cada modelo:\n",
    "    statusInTheSystem      => Cantidad de individuos por estado\n",
    "    numberOfIndividuals    => Cantidad de individuos en el sistema \n",
    "    percentagesInTheSystem => Cantidad normalizada de individuos por estado\"\"\"\n",
    "    def __init__(self,system,states,i=None, j=None):\n",
    "        self.system = system; self.states = states\n",
    "        self.nRows,self.nColums = system.shape\n",
    "        self.i, self.j = i, j # Si el sistema es una vecindad\n",
    "    \n",
    "    def statusInTheSystem(self, percentages=True):\n",
    "        \"\"\"Lista con las cantidades de individuos por cada estado\n",
    "        percentages == True  => Valores normalizados\n",
    "        percentages == False => Valores enteros\"\"\"\n",
    "        globalMetrics = [0]*len(self.states)\n",
    "        for row in range(self.nRows):\n",
    "            for column in range(self.nColums):\n",
    "                if self.system[row][column] in self.states:\n",
    "                    state = self.states.index(self.system[row][column])\n",
    "                    globalMetrics[state] += 1\n",
    "        if self.i != None and self.j != None:\n",
    "            if self.system[self.i][self.j] in self.states:\n",
    "                state = self.states.index(self.system[self.i][self.j])\n",
    "                globalMetrics[state] -= 1\n",
    "        if percentages == False:\n",
    "            return globalMetrics\n",
    "        else:\n",
    "            percentage = []\n",
    "            for state in globalMetrics:\n",
    "                percentage.append(state/self.numberOfIndividuals())    \n",
    "            return percentage\n",
    "    \n",
    "    def numberOfIndividuals(self):\n",
    "        \"\"\"Cantidad de individuos en el sistema\"\"\"\n",
    "        self.totalIndividuals = sum(self.statusInTheSystem(percentages=False))\n",
    "        if self.i != None and self.j != None:\n",
    "            if self.system[self.i][self.j] in self.states:\n",
    "                self.totalIndividuals += 1     \n",
    "        return self.totalIndividuals"
   ]
  },
  {
   "cell_type": "code",
   "execution_count": 12,
   "metadata": {},
   "outputs": [],
   "source": [
    "def baseRuleEvolution(alpha,beta,neighborhood,i,j):\n",
    "    \"\"\"Regla totalística que describe el cambio entre los estados S e I de manera local\"\"\"\n",
    "    n,m = neighborhood.shape\n",
    "    # Conteo de infectados, susceptibles y espacios vacios en la vecindad de ij\n",
    "    numberOfSusceptible,numberOfInfected,numberOfHoles = systemMetrics(neighborhood,[0,1,-1],i,j).statusInTheSystem(False)\n",
    "    rho = random.random()\n",
    "    neighborhoodCopy = insideCopy(neighborhood)\n",
    "    # La tranformación de un espacio vacio es vacio\n",
    "    if neighborhood[1][1] != -1 and neighborhood[1][1] != 2 and neighborhood[1][1] != 3:\n",
    "        # Si hay infectados en la vecindad\n",
    "        if numberOfInfected > 0:\n",
    "            # Condición para transición al estado S \n",
    "            localInfectionRate = (beta/alpha)*(numberOfInfected/((n*m-1)-numberOfHoles))\n",
    "            if numberOfInfected <= numberOfSusceptible and rho >= localInfectionRate: \n",
    "                neighborhoodCopy[i][j] = 0  # Pasa al estado S\n",
    "            else:\n",
    "                neighborhoodCopy[i][j] = 1  # Pasa al estado I\n",
    "        else:\n",
    "            neighborhoodCopy[i][j] = neighborhood[i][j]\n",
    "    return neighborhoodCopy[i][j]"
   ]
  },
  {
   "cell_type": "code",
   "execution_count": 13,
   "metadata": {},
   "outputs": [],
   "source": [
    "def dataVisualization(data,states):\n",
    "    \"\"\"Separa los tipos de datos en 3 grupos: duplas, valores y estados del sistema\n",
    "    data   => Lista de evoluciones tras aplicar el modelo epidemiológico\n",
    "    states => Estados que considera el modelo\"\"\"\n",
    "    percentages = []; amountsIndividuals = []\n",
    "    for state in range(len(states)):\n",
    "        percentages.append([])\n",
    "    for iteration in range(len(data)):\n",
    "        systemUpdate = data[iteration]\n",
    "        metrics = systemMetrics(systemUpdate,states)\n",
    "        percentageData = metrics.statusInTheSystem()\n",
    "        for percentageList in percentages:\n",
    "            percentageList.append(percentageData[percentages.index(percentageList)])\n",
    "    for state in range(len(states)):\n",
    "        amountsIndividuals.append(np.array((range(len(data)),percentages[state])).transpose())\n",
    "    return [amountsIndividuals,percentages,data]\n",
    "\n",
    "def appliedModel(modelFunction,system,n_iterations,theSystemHasAges=False,systemAges=None):\n",
    "    \"\"\"Aplica el modelo 'modelFunction' una cantidad nIterations de veces\n",
    "    modelFunction => Regla de evolución del modelo\n",
    "    n_iterations  => Cantidad de veces que va a iterar el modelo\n",
    "    theSystemHasAges => Se usa para los modelos que tienen en cuenta la edad de los individuos\n",
    "    systemAges => Edades que se consideran en el sistema (por defecto no existe)\"\"\"\n",
    "    systemChanges = [system] \n",
    "    if theSystemHasAges == False:\n",
    "        iteration = 0\n",
    "        while iteration <= n_iterations:\n",
    "            iteration += 1\n",
    "            systemChanges.append(modelFunction(systemChanges[iteration-1]))\n",
    "        return systemChanges  \n",
    "    else:\n",
    "        systemAgesEvolutions = [systemAges]\n",
    "        iteration = 0       \n",
    "        while iteration <= n_iterations:                        \n",
    "            iteration = iteration + 1   \n",
    "            updateSystem = modelFunction(systemChanges[iteration-1],systemAgesEvolutions[iteration-1],iteration)\n",
    "            systemChanges.append(updateSystem[0])\n",
    "            systemAgesEvolutions.append(updateSystem[1])\n",
    "        return systemChanges    "
   ]
  },
  {
   "cell_type": "code",
   "execution_count": 14,
   "metadata": {},
   "outputs": [],
   "source": [
    "def mediumData(dataPerSimulation,states,n_iterations,n_simulations):\n",
    "    \"\"\"Organiza la información de cada simulación\n",
    "    dataPerSimulation => Lista con los datos por estado\n",
    "    states => Estados que se consideran\"\"\"\n",
    "    percentages = []; amountsIndividuals = []\n",
    "    for state in range(len(states)):\n",
    "        percentages.append([])\n",
    "    for iteration in range(n_iterations):\n",
    "        for state in states:\n",
    "            rate = 0\n",
    "            for simulation in range(n_simulations):\n",
    "                rate += dataPerSimulation[states.index(state)][simulation][iteration]/n_simulations\n",
    "            percentages[states.index(state)].append(rate)\n",
    "    for state in range(len(states)):\n",
    "        amountsIndividuals.append(np.array((range(n_iterations),percentages[state])).transpose())\n",
    "    return [amountsIndividuals,percentages]\n",
    "\n",
    "def appliedMediumData(modelFunction,system,initialPercentageInfected,states,n_iterations,n_simulations):\n",
    "    \"\"\"Aplica el modelo epidemiológico en n_simulations\n",
    "    modelFunction => Función basica del modelo epidemiológico\n",
    "    initialPercentageInfected => Porcentaje de infectados en el momento inicial\n",
    "    states => Estados que se consideran\"\"\"\n",
    "    mediumStates = []\n",
    "    stationarySystem = system\n",
    "    for state in states:\n",
    "        mediumStates.append([])\n",
    "    for simulation in range(n_simulations):\n",
    "        infectedSystem = initialCondition(initialPercentageInfected,stationarySystem)\n",
    "        evolution = modelFunction(n_iterations,True,infectedSystem)[1]\n",
    "        for state in range(len(states)):\n",
    "            mediumStates[state].append(evolution[state])\n",
    "    return mediumData(mediumStates,states,n_iterations,n_simulations)"
   ]
  },
  {
   "cell_type": "code",
   "execution_count": 15,
   "metadata": {},
   "outputs": [],
   "source": [
    "class sis:\n",
    "    data = None; evolutions = None\n",
    "    \n",
    "    def __init__(self,alpha,beta,system,extraRows,extraColumns,neighborhoodType):\n",
    "        \"\"\"Modelo SIS\n",
    "        alpha => Tasa de recuperación        \n",
    "        beta  => Tasa de infección\n",
    "        extraRows    => Cantidad de filas extra del entorno\n",
    "        extraColumns => Cantidad de columnas extra del entorno\n",
    "        neighborhoodType => Tipo de vecindad que va a considerar para el análisis\"\"\"\n",
    "        self.alpha = alpha; self.beta = beta \n",
    "        self.system = system; self.nRows, self.nColumns = system.shape\n",
    "        self.neighborhoodType = neighborhoodType; self.extraRows = extraRows; self.extraColumns = extraColumns\n",
    "    \n",
    "    def basicRule(self,updateSystem):\n",
    "        \"\"\"Aplica la regla base de evolución al sistema updateSystem\"\"\"\n",
    "        extendedSystem = insideCopy(updateSystem,self.extraRows,self.extraColumns)\n",
    "        numberOfInfected = systemMetrics(updateSystem,[1]).statusInTheSystem(False)[0]\n",
    "        if numberOfInfected > 0:\n",
    "            systemUpdate = np.zeros((self.nRows,self.nColumns))\n",
    "            for i in range(self.nRows):\n",
    "                for j in range(self.nColumns):\n",
    "                    vecinityOf_ij, masterCell = identificador(self.neighborhoodType,extendedSystem,\n",
    "                                                              i+self.extraRows,j+self.extraColumns)\n",
    "                    # Aplica la regla base de evolución local y guarda los valores en systemUpdate\n",
    "                    systemUpdate[i][j] = baseRuleEvolution(self.alpha,self.beta,vecinityOf_ij,\n",
    "                                                           masterCell[0][0],masterCell[0][1])\n",
    "            return systemUpdate\n",
    "        else: \n",
    "            return updateSystem\n",
    "    \n",
    "    def basicModel(self,n_iterations,modifiedSystem=False,system=None):\n",
    "        \"\"\"Aplica el modelo n_iterations veces\"\"\"\n",
    "        # Se aplica el modelo SIS n veces\n",
    "        if modifiedSystem == False:\n",
    "            evolutions = appliedModel(self.basicRule,self.system,n_iterations)\n",
    "        else:\n",
    "            evolutions = appliedModel(self.basicRule,system,n_iterations)\n",
    "        visualization = dataVisualization(evolutions,[0,1])\n",
    "        self.data = visualization[0]; self.evolutions = visualization[2]\n",
    "        return visualization\n",
    "    \n",
    "    def metricsPlot(self,n_iterations,title=\"Modelo SIS\"):\n",
    "        \"\"\"Gráfica la evolución de los estados en n_iterations\"\"\"\n",
    "        if self.data == None:\n",
    "            visualization = self.basicModel(n_iterations,self.system)\n",
    "            self.data = visualization[0]; self.evolutions = visualization[2]\n",
    "        col = [\"y\",\"r\"]\n",
    "        eti = [\"susceptibles\", \"infectados\"]\n",
    "        graficas(self.data, eti, col, title)\n",
    "        \n",
    "    def evolutionsPlot(self,n_iterations,specificIteration):\n",
    "        \"\"\"Gráfica una evolución especifica del conjunto de evoluciones generadas tras aplicar el modelo\"\"\"\n",
    "        if self.evolutions == None:\n",
    "            visualization = self.basicModel(n_iterations)\n",
    "            self.data = visualization[0]; self.evolutions = visualization[2]\n",
    "        plt.imshow(color(self.evolutions[specificIteration]),cmap=\"nipy_spectral\",interpolation='nearest')\n",
    "        \n",
    "    def mediumCurves(self,initialPercentageInfected,n_iterations,n_simulations):\n",
    "        \"\"\"Curvas promedio del modelo\"\"\"\n",
    "        return appliedMediumData(self.basicModel,self.system,initialPercentageInfected,[0,1],n_iterations,n_simulations)"
   ]
  },
  {
   "cell_type": "code",
   "execution_count": 16,
   "metadata": {},
   "outputs": [],
   "source": [
    "#-----Condición inicial------\n",
    "\n",
    "def stateCoordinates(system, stateIndicator):\n",
    "    \"\"\"\n",
    "    Enlista los agentes que tengan un estado especifico\n",
    "    stateIndicator : \n",
    "    0 -> Susceptibles; 1 -> Infectados; 2 -> Recuperados; \n",
    "    -1 -> Espacios vacios; 3 -> Fallecidos\n",
    "    \"\"\"\n",
    "    n,m = system.shape \n",
    "    coordinates = []\n",
    "    for i in range(n):\n",
    "        for j in range(m):\n",
    "            if system[i,j] == stateIndicator:  \n",
    "                coordinates.append([i,j])\n",
    "    return coordinates\n",
    "\n",
    "def statePercentageInSpace(a,b,state,spatialState=0):\n",
    "    \"\"\"Porcentaje de individuos con el estado en el espacio (a de cada b tienen el estado)\n",
    "    a,b => Porcentage visto como fracción\n",
    "    state => Estado que van a adquirir los individuos\n",
    "    spatialState => Estado que se considera como base para el cambio al estado state\"\"\"\n",
    "    space = spatialState*np.ones((1,b))\n",
    "    percentageInSpace = [] \n",
    "    for j in range(a):\n",
    "        i = random.randint(1,b-1) \n",
    "        space[0][i] = state\n",
    "    for m in range(1,b):\n",
    "        percentageInSpace.append(int(space[0][m]))  \n",
    "    return percentageInSpace\n",
    "\n",
    "def initialCondition(initialPercentageInfected,system):\n",
    "    \"\"\"Condición inicial aplicada al sistema\n",
    "    initialPercentageInfected => Porcentage inicial de infectados en el sistema\"\"\"\n",
    "    susceptibleCoordinates = stateCoordinates(system,0)\n",
    "    n,m = system.shape  # dim(A) = n*m\n",
    "    # Se toma la función techo para redondear a un entero la cantidad inicial \n",
    "    # de infectados \n",
    "    initialInfectedNumber = math.ceil(len(susceptibleCoordinates)*\n",
    "                                      initialPercentageInfected)\n",
    "    # Lista de posiciones de los idividuos que se infectaron y de los que se \n",
    "    # mantuvieron sanos al aplicar la condicion inicial\n",
    "    percentageInSpace = statePercentageInSpace(initialInfectedNumber,len(susceptibleCoordinates)+1,1)\n",
    "    systemCopy = insideCopy(system)\n",
    "    for i in range(len(percentageInSpace)):\n",
    "        #Los vectores en las posiciones descritas en la lista \n",
    "        # percentageInSpace adquieren el estado de infección\n",
    "        systemCopy[susceptibleCoordinates[i][0]][susceptibleCoordinates[i][1]] = percentageInSpace[i]\n",
    "    return systemCopy"
   ]
  },
  {
   "cell_type": "markdown",
   "metadata": {
    "id": "G_hk4pzD89pu"
   },
   "source": [
    "### Comparación entre el modelo clásico y la implementación en autómatas celulares"
   ]
  },
  {
   "cell_type": "markdown",
   "metadata": {
    "id": "-ByZiVf69HvF"
   },
   "source": [
    "*   **La enfermedad A:** Cuenta con una tasa de recuperación $\\alpha$ del $20\\%$, mientras que su tasa de infección $\\beta$ es del $5\\%$.\n",
    "\n",
    "Se analizó en un periodo de 30 días (si tomáramos como unidad de tiempo base a los días) tanto en el modelo clásico, como en la implementación del modelo $SIS$ en autómatas celulares, tomando una población inicial de individuos infectados del $10\\%$. \n",
    "\n",
    "De acuerdo con lo descrito en [5], la enfermedad tenderá a desaparecer de la población debido a que el indicador $R_0=\\frac{\\beta}{\\alpha}=0.25< 1$, los resultados obtenidos en ambos modelos se describen en la siguiente figura:"
   ]
  },
  {
   "cell_type": "code",
   "execution_count": 17,
   "metadata": {},
   "outputs": [
    {
     "data": {
      "image/png": "[encoded data removed]",
      "text/plain": [
       "<Figure size 576x216 with 1 Axes>"
      ]
     },
     "metadata": {
      "needs_background": "light"
     },
     "output_type": "display_data"
    },
    {
     "data": {
      "image/png": "[encoded data removed]",
      "text/plain": [
       "<Figure size 576x216 with 1 Axes>"
      ]
     },
     "metadata": {
      "needs_background": "light"
     },
     "output_type": "display_data"
    }
   ],
   "source": [
    "a=0.2; b=0.5\n",
    "system = initialCondition(0.1, np.zeros((30,30)))\n",
    "SM = sis(a, b, system, 1, 1, Moore); SM.basicModel(40)\n",
    "SVN = sis(a, b, system, 1, 1, Von_Neumann); SVN.basicModel(40)\n",
    "\n",
    "plt.subplot(1,2,1)\n",
    "SM.metricsPlot(40,title=\"Moore\")\n",
    "\n",
    "plt.subplot(1,2,2)\n",
    "SVN.metricsPlot(40,title=\"von Neumann\")"
   ]
  },
  {
   "cell_type": "markdown",
   "metadata": {
    "id": "mbmpbDbJfuzP"
   },
   "source": [
    "![texto del enlace](https://docs.google.com/drawings/d/e/2PACX-1vQfs6GNzJyFyUJ1dqiWLnbSLHW9exyAKCXkkfCR5MIuZBSm5SmSa7IkaULhd2YvkHzY8Q9Cey32KuFe/pub?w=713&h=526)"
   ]
  },
  {
   "cell_type": "markdown",
   "metadata": {
    "id": "hcpjHznWACSw"
   },
   "source": [
    "Para el caso de la implementación en autómatas celulares se tomo una población de 900 individuos (sistema $30\\times30$) y se observaron diferentes evoluciones basados en diferentes condiciones iniciales, tomemos por ejemplo una enfermedad cuyas tasas de infección y recuperación estén dadas por $\\beta=0.3$ y $\\alpha=0.2$ respectivamente, dentro de las posibles configuraciones de condición inicial de ubicación de infectados encontramos los siguientes comportamientos:"
   ]
  },
  {
   "cell_type": "code",
   "execution_count": 18,
   "metadata": {},
   "outputs": [],
   "source": [
    "# La ubicación inicial de infectados como factor clave en la velocidad de convergencia\n",
    "\n",
    "def initialLocation(n,m,initialPercentageInfected,position=\"random\",percentageOfInfectedMisplaced=0):\n",
    "    \"\"\"\n",
    "    ubicación inicial de infectados\n",
    "    \n",
    "    position : random\n",
    "               northwest  north   northeast\n",
    "               west       center  east\n",
    "               southwest  south   southeast\n",
    "    \"\"\"\n",
    "    if position == \"random\":\n",
    "        return initialCondition(initialPercentageInfected,np.zeros((n,m)))\n",
    "    else: \n",
    "        # Se divide la zona rectángular en 9 bloques\n",
    "        a = int(n/3); b = int(m/3)\n",
    "        system = initialCondition(initialPercentageInfected*percentageOfInfectedMisplaced,\n",
    "                                  np.zeros((n,m)))\n",
    "        infectedBlock = initialCondition(initialPercentageInfected-percentageOfInfectedMisplaced,\n",
    "                                         np.zeros((a,b)))\n",
    "        if position == \"northwest\":\n",
    "            for i in range(a):\n",
    "                for j in range(b):\n",
    "                    system[i][j] = infectedBlock[i][j]\n",
    "        elif position == \"north\":\n",
    "            for i in range(a):\n",
    "                for j in range(b,2*b):\n",
    "                    system[i][j] = infectedBlock[i][j-b]\n",
    "        elif position == \"northeast\":\n",
    "            for i in range(a):\n",
    "                for j in range(2*b,3*b):\n",
    "                    system[i][j] = infectedBlock[i][j-2*b]\n",
    "        elif position == \"west\":\n",
    "            for i in range(a,a*2):\n",
    "                for j in range(b):\n",
    "                    system[i][j] = infectedBlock[i-a][j]\n",
    "        elif position == \"center\":\n",
    "            for i in range(a,a*2):\n",
    "                for j in range(b,2*b):\n",
    "                    system[i][j] = infectedBlock[i-a][j-b]\n",
    "        elif position == \"east\":\n",
    "            for i in range(a,a*2):\n",
    "                for j in range(2*b,3*b):\n",
    "                    system[i][j]=infectedBlock[i-a][j-2*b]\n",
    "        elif position == \"southwest\":\n",
    "            for i in range(2*a,3*a):\n",
    "                for j in range(b):\n",
    "                    system[i][j] = infectedBlock[i-2*a][j]\n",
    "        elif position == \"south\":\n",
    "            for i in range(2*a,3*a):\n",
    "                for j in range(b,2*b):\n",
    "                    system[i][j] = infectedBlock[i-2*a][j-b]\n",
    "        elif position == \"southeast\":\n",
    "            for i in range(2*a,3*a):\n",
    "                for j in range(2*b,3*b):\n",
    "                    system[i][j] = infectedBlock[i-2*a][j-2*b]\n",
    "        return system"
   ]
  },
  {
   "cell_type": "code",
   "execution_count": null,
   "metadata": {},
   "outputs": [],
   "source": [
    "evolution1 = sis(0.2,0.3,initialLocation(30,30,0.1,\"random\"),1,1,Moore)\n",
    "evolution2 = sis(0.2,0.3,initialLocation(30,30,0.1,\"center\"),1,1,Moore)\n",
    "evolution3 = sis(0.2,0.3,initialLocation(30,30,0.1,\"southeast\"),1,1,Moore)\n",
    "\n",
    "plt.subplot(3,3,1)\n",
    "plt.title(\"t = 0\")\n",
    "evolution1.evolutionsPlot(30,0)\n",
    "\n",
    "plt.subplot(3,3,2)\n",
    "plt.title(\"t = 5\")\n",
    "evolution1.evolutionsPlot(30,5)\n",
    "\n",
    "plt.subplot(3,3,3)\n",
    "plt.title(\"t = 10\")\n",
    "evolution1.evolutionsPlot(30,10)\n",
    "\n",
    "plt.subplot(3,3,4)\n",
    "evolution2.evolutionsPlot(30,0)\n",
    "\n",
    "plt.subplot(3,3,5)\n",
    "evolution2.evolutionsPlot(30,5)\n",
    "\n",
    "plt.subplot(3,3,6)\n",
    "evolution2.evolutionsPlot(30,10)\n",
    "\n",
    "plt.subplot(3,3,7)\n",
    "evolution3.evolutionsPlot(30,0)\n",
    "\n",
    "plt.subplot(3,3,8)\n",
    "evolution3.evolutionsPlot(30,5)\n",
    "\n",
    "plt.subplot(3,3,9)\n",
    "evolution3.evolutionsPlot(30,10)\n",
    "\n",
    "plt.show()"
   ]
  },
  {
   "cell_type": "markdown",
   "metadata": {
    "id": "Gms95OxJheAl"
   },
   "source": [
    "![texto del enlace](https://docs.google.com/drawings/d/e/2PACX-1vSJ1-tBPX7piJe6Jl8-nMrAJCebVx21NxoN8uWnIucbVODVHpH4sctN9FjrbwThRtLVtlgvVMkcVx1g/pub?w=717&h=700)"
   ]
  },
  {
   "cell_type": "markdown",
   "metadata": {
    "id": "VTFsYDkXBato"
   },
   "source": [
    "En la figura anterior podemos observar claramente que de acuerdo a la condición inicial de ubicación de infectados, el comportamiento de la enfermedad puede cambiar, esto en el sentido de la velocidad de convergencia de las soluciones. A continuación podemos visualizar la manera en la que la ubicación inicial de la población inicial (con respecto a los puntos cardinales) afecta la velocidad de convergencia para ambos estados:"
   ]
  },
  {
   "cell_type": "code",
   "execution_count": null,
   "metadata": {
    "executionInfo": {
     "elapsed": 6046,
     "status": "ok",
     "timestamp": 1611848814507,
     "user": {
      "displayName": "jorge andres ibañez huertas",
      "photoUrl": "https://lh3.googleusercontent.com/a-/AOh14GhxtY1gv0TE-_5I14fAFDQvitQd7o-GQS0CPcZFxw=s64",
      "userId": "08569590861585362554"
     },
     "user_tz": 300
    },
    "id": "AslBJDXdBepv"
   },
   "outputs": [],
   "source": [
    "SIS1 = sis(0.2,0.5,initialLocation(30,30,0.1,\"northwest\"),1,1,Moore).basicModel(10)[0]\n",
    "SIS2 = sis(0.2,0.5,initialLocation(30,30,0.1,\"north\"),1,1,Moore).basicModel(10)[0]\n",
    "SIS3 = sis(0.2,0.5,initialLocation(30,30,0.1,\"northeast\"),1,1,Moore).basicModel(10)[0]\n",
    "SIS4 = sis(0.2,0.5,initialLocation(30,30,0.1,\"west\"),1,1,Moore).basicModel(10)[0]\n",
    "SIS5 = sis(0.2,0.5,initialLocation(30,30,0.1,\"center\"),1,1,Moore).basicModel(10)[0]\n",
    "SIS6 = sis(0.2,0.5,initialLocation(30,30,0.1,\"east\"),1,1,Moore).basicModel(10)[0]\n",
    "SIS7 = sis(0.2,0.5,initialLocation(30,30,0.1,\"southwest\"),1,1,Moore).basicModel(10)[0]\n",
    "SIS8 = sis(0.2,0.5,initialLocation(30,30,0.1,\"south\"),1,1,Moore).basicModel(10)[0]\n",
    "SIS9 = sis(0.2,0.5,initialLocation(30,30,0.1,\"southeast\"),1,1,Moore).basicModel(10)[0]\n",
    "SIS10 = sis(0.2,0.5,initialLocation(30,30,0.1,\"random\"),1,1,Moore).basicModel(10)[0]\n",
    "\n",
    "var_s = [SIS1[0], SIS2[0], SIS3[0], SIS4[0], SIS5[0], SIS6[0], SIS7[0],SIS8[0], SIS9[0], SIS10[0]]\n",
    "var_i = [SIS1[1], SIS2[1], SIS3[1], SIS4[1], SIS5[1], SIS6[1], SIS7[1],SIS8[1], SIS9[1], SIS10[1]]\n",
    "col_dis = [\"g\",\"gold\",\"peru\",\"c\",\"magenta\",\"darkorange\",\"royalblue\",\"mediumorchid\",\"r\",\"lime\"]\n",
    "eti_dis = [\"northwest\", \"north\", \"northeast\", \"west\", \"central\", \"east\", \"southwest\", \"south\", \"southeast\", \"random\"]\n",
    "\n",
    "plt.subplot(1,2,1)\n",
    "graficas(var_s, eti_dis, col_dis,\"Initial condition - State S\")\n",
    "\n",
    "plt.subplot(1,2,2)\n",
    "graficas(var_i, eti_dis, col_dis,\"Initial condition - State I\")\n",
    "\n",
    "plt.show()"
   ]
  },
  {
   "cell_type": "markdown",
   "metadata": {
    "id": "aN8N9AsnjEI8"
   },
   "source": [
    "![texto del enlace](https://docs.google.com/drawings/d/e/2PACX-1vTasFeDMLg49KgWFqpmLGRIJwtClpbXDHTVTEg15H6HyA6eDRFXKXtH9tw93zf-K4udHDNyg6kGWwvj/pub?w=709&h=275)"
   ]
  },
  {
   "cell_type": "markdown",
   "metadata": {
    "id": "31CphsD-CPSm"
   },
   "source": [
    "La cualidad de ubicar de una manera diferente a los individuos infectados no es posible en el modelo clásico, resultando en una limitación de dicho modelo para el análisis de fenómenos epidemiológicos del tipo $SIS$.\n",
    "\n",
    "Por otro lado, por la manera en la que se describió la regla base de evolución, podemos observar un cambio importante en el indicador $R_0$. En el modelo clásico este indicador depende únicamente de las tasas de infección y recuperación, mientras que en la implementación en AC, vemos que claramente este depende no solo de las tasas de infección y recuperación, sino que incluye una alteración en la probabilidad de infectarse (o de mantenerse infectado) de acuerdo con el comportamiento de sus células vecinas.\n",
    "\n",
    "Es importante mencionar que las soluciones generadas por el modelo clásico y la implementación en AC no siempre convergen al mismo valor, esto se debe a la alteración en la evolución del agente generada por el comportamiento de su vecindad. \n",
    "\n",
    "Consideremos por ejemplo, una enfermedad en la que su tasa de infección sea $\\beta=0.5$ y su tasa de recuperación este dada por $\\alpha=0.2$, en el modelo clásico tenemos un indicador $R_0=2.5>1$ lo cual implica que la enfermedad podría llegar ser endémica [5]. Esta conclusión no se ve afectada en la implementación en autómatas celulares, sin embargo, podemos encontrar una diferencia en los valores a los cuales convergen las soluciones:"
   ]
  },
  {
   "cell_type": "markdown",
   "metadata": {
    "id": "3faAyjj2j8Nd"
   },
   "source": [
    "![texto del enlace](https://docs.google.com/drawings/d/e/2PACX-1vRGN8BjfWWAXRlWp16j-de_bOM_MeR-qsp4KVkkOfn0836wrnBmujYow1So8paD01AbClC-oWQ-d6fy/pub?w=714&h=500)"
   ]
  },
  {
   "cell_type": "markdown",
   "metadata": {
    "id": "mUS1cLerCr38"
   },
   "source": [
    "Una cualidad que resulta bastante interesante en la implementación en autómatas celulares es la posibilidad de definir zonas de riesgo a partir de mapas de calor del sistema hasta un periodo de tiempo arbitrario; este atributo no se encuentra en el modelo clásico debido a que no se define de manera concreta la estructura del sistema."
   ]
  },
  {
   "cell_type": "code",
   "execution_count": 19,
   "metadata": {},
   "outputs": [],
   "source": [
    "def heatmap(evolutionsOfSystem,state):\n",
    "    \"\"\"Mapa de calor para la población infectada (SIR_Model[6])\"\"\"\n",
    "    stateHeatMap = []\n",
    "    n,m = evolutionsOfSystem[0].shape\n",
    "    for iteration in range(len(evolutionsOfSystem)):\n",
    "        stateMatrix = np.zeros((n,m))\n",
    "        for row in range(n):\n",
    "            for column in range(m):\n",
    "                if evolutionsOfSystem[iteration][row][column] == state:\n",
    "                    stateMatrix[row][column] = 1\n",
    "        stateHeatMap.append(stateMatrix)\n",
    "    average = 1/len(stateHeatMap)*np.sum(stateHeatMap,axis=0)\n",
    "    sns.heatmap(average, center=0, cmap='viridis',  fmt='.3f')"
   ]
  },
  {
   "cell_type": "code",
   "execution_count": null,
   "metadata": {
    "executionInfo": {
     "elapsed": 6014,
     "status": "ok",
     "timestamp": 1611848814513,
     "user": {
      "displayName": "jorge andres ibañez huertas",
      "photoUrl": "https://lh3.googleusercontent.com/a-/AOh14GhxtY1gv0TE-_5I14fAFDQvitQd7o-GQS0CPcZFxw=s64",
      "userId": "08569590861585362554"
     },
     "user_tz": 300
    },
    "id": "fmbQWs3UC-S-"
   },
   "outputs": [],
   "source": [
    "SIS_info_system_hm_M = sis(0.2,0.5,initialLocation(30,30,0.1,\"northwest\"),1,1,Moore).basicModel(30)[2]\n",
    "SIS_info_system_hm_VN = sis(0.2,0.5,initialLocation(30,30,0.1,\"northwest\"),1,1,Von_Neumann).basicModel(30)[2]\n",
    "\n",
    "#---Mapas de calor de la enfermedad en 30 tics----\n",
    "\n",
    "plt.subplot(1,2,1)\n",
    "plt.title(\"Vecindad de Moore\") \n",
    "heatmap(SIS_info_system_hm_M,1)\n",
    "\n",
    "plt.subplot(1,2,2)\n",
    "plt.title(\"Vecindad de Von Neumann\")\n",
    "heatmap(SIS_info_system_hm_VN,1)"
   ]
  },
  {
   "cell_type": "markdown",
   "metadata": {
    "id": "Rv5MhJhLkwYv"
   },
   "source": [
    "![texto del enlace](https://docs.google.com/drawings/d/e/2PACX-1vR5kOPAjexc79AAPx-ESYHST9NjXwQzzoHkMF-TUori4GMJjaQ9uOwzR8JM2GpB2YhSOLO0bohjJSoa/pub?w=674&h=259)"
   ]
  },
  {
   "cell_type": "markdown",
   "metadata": {
    "id": "g2_N6vTHDLc2"
   },
   "source": [
    "En la figura anterior, podemos identificar las zonas de alto riesgo por el color amarillo, estas zonas representan los espacios en los cuales los individuos estuvieron infectados por un mayor tiempo, mientras que por otro lado tenemos las zonas verdes o zonas de bajo riesgo, en estas ubicaciones la enfermedad pudo no haber estado presente por mucho tiempo o simplemente pudo no haberlas alcanzado."
   ]
  },
  {
   "cell_type": "markdown",
   "metadata": {
    "id": "AokbfXvADN3t"
   },
   "source": [
    "## Modelo $SIR$ en autómatas celulares y una comparación con el modelo clásico"
   ]
  },
  {
   "cell_type": "markdown",
   "metadata": {
    "id": "H-zLsYIiDjw8"
   },
   "source": [
    "Antes de poder describir las reglas que se implementaron para describir el comportamiento del modelo $SIR$ en autómatas celulares, es de vital importancia que conozcamos el funcionamiento de un modelo $SIR$."
   ]
  },
  {
   "cell_type": "markdown",
   "metadata": {
    "id": "aOWubO1ExIGq"
   },
   "source": [
    "### Modelo $SIR$ en EDO’s"
   ]
  },
  {
   "cell_type": "markdown",
   "metadata": {
    "id": "WHIAIeb7zs-H"
   },
   "source": [
    "Las ecuaciones (1) describen el cambio en las poblaciones, identificando los estados susceptibles, infectados y recuperados con $S$, $I$ y $R$ respectivamente, la fecha de recuperación de los parámetros $\\alpha$, tasa de infección $\\beta$ y tasa de mortalidad por enfermedad $\\theta$ están determinados por la enfermedad, por otro lado, la tasa de natalidad / mortalidad $\\mu$ Es estimado por la población."
   ]
  },
  {
   "cell_type": "markdown",
   "metadata": {
    "id": "iKL54DM00EPu"
   },
   "source": [
    "\\begin{equation}\n",
    "\\left\\{\n",
    "\\begin{array}{ccc}\n",
    "    S' & = & -\\beta SI+\\mu(1-S)\\\\\n",
    "    I' & = & \\beta SI-\\mu I-\\alpha I\\\\\n",
    "    R' & = & (1-\\theta)\\alpha I-\\mu R\n",
    "\\end{array}\\right.\n",
    "\\end{equation}"
   ]
  },
  {
   "cell_type": "markdown",
   "metadata": {
    "id": "LIGyZ2OS0IAf"
   },
   "source": [
    "Usando python podemos describir las soluciones de este modelo, a continuación hay dos enfermedades que simulan condiciones diferenciales para $R_0$ [1], en ambas simulaciones fue considerado $\\mu=1/(75∗12)$, lo que significa que la tasa de natalidad individual es de 75 años"
   ]
  },
  {
   "cell_type": "markdown",
   "metadata": {
    "id": "rZA68hBe0S1a"
   },
   "source": [
    "\n",
    "\n",
    "*   **Disease A** has infection and recovery rate $\\beta = 0.05$, $\\alpha= 0.2$ by month, respectively. It was considerate that $40\\%$ the population infected, death by disease.\n",
    "*   **Disease B** has the same disease conditions A but, changing the infection rate to $\\beta = 0.5$.\n",
    "\n"
   ]
  },
  {
   "cell_type": "markdown",
   "metadata": {
    "id": "y43F-z9H028t"
   },
   "source": [
    "Como en [1], estudiamos ambas enfermedades en un período de 150 años, con condiciones iniciales $S(0)=0.4$, $I(0)=0.1$ y $R(0)=0$.\n",
    "\n",
    "Como se define en [1], el indicador $R_0=\\frac{\\beta}{\\alpha+\\mu}$ para la enfermedad A es $0,2486<1$ y para la enfermedad B es $2,4862>1$, esto implica que la enfermedad A desaparecerá y, por otro lado, el comportamiento de la enfermedad B es \"estable\" con el tiempo."
   ]
  },
  {
   "cell_type": "code",
   "execution_count": null,
   "metadata": {
    "executionInfo": {
     "elapsed": 6002,
     "status": "ok",
     "timestamp": 1611848814513,
     "user": {
      "displayName": "jorge andres ibañez huertas",
      "photoUrl": "https://lh3.googleusercontent.com/a-/AOh14GhxtY1gv0TE-_5I14fAFDQvitQd7o-GQS0CPcZFxw=s64",
      "userId": "08569590861585362554"
     },
     "user_tz": 300
    },
    "id": "eijDJzCTEA0C"
   },
   "outputs": [],
   "source": [
    "# N=1\n",
    "# '''time step'''\n",
    "# TS=1.0 \n",
    "# ND=40.0 #tiempo de analisis de la enfermedad (en meses)\n",
    "# S0=0.9\n",
    "# I0=0.1\n",
    "# mu=0\n",
    "# theta=0\n",
    "# INPUT = (S0, I0, 0.0)\n",
    "\n",
    "# def SIR_modelEquations(INP,t):  \n",
    "#     Y=np.zeros((3))\n",
    "#     V = INP\n",
    "#     '''Las ecuaciones diferenciales'''\n",
    "#     Y[0] = -b*V[0]*V[1]+mu*(1-V[0])\n",
    "#     Y[1] = b*V[0]*V[1]-mu*V[1]-a*V[1]\n",
    "#     Y[2] = (1-theta)*a*V[1]-mu*V[2]\n",
    "#     return Y \n",
    "\n",
    "# def SIR_plot(ND,TS,INP):\n",
    "#     t_start = 0.0; t_end = ND; t_inc = TS\n",
    "#     t_range = np.arange(t_start, t_end+t_inc, t_inc)\n",
    "#     RES1 = spi.odeint(diff_SIR,INPUT,t_range)\n",
    "#     x=np.arange(0,t_end,0.01)\n",
    "#     plt.plot(x, x**0, 'k--')\n",
    "#     plt.plot(RES1[:,0]*N, '-y', label='Susceptible')\n",
    "#     plt.plot(RES1[:,1]*N, '-r', label='Infected')\n",
    "#     plt.plot(RES1[:,2]*N, '-g', label='Recovered')\n",
    "#     plt.legend(loc=0)\n",
    "#     plt.xlabel('Time')\n",
    "#     plt.ylim(0, 1.05)\n",
    "\n",
    "#---Ejemplos-----\n",
    "\n",
    "#a=0.2; b=0.5\n",
    "#plt.subplot(1,2,1)\n",
    "#plt.title(\"a=0.2, b=0.5\")\n",
    "#SIR_plot(ND,TS,INPUT)\n",
    "\n",
    "#a=0.2; b=0.05\n",
    "#plt.subplot(1,2,2)\n",
    "#plt.title(\"a=0.2, b=0.05\")\n",
    "#SIR_plot(ND,TS,INPUT)\n",
    "\n",
    "#plt.show()"
   ]
  },
  {
   "cell_type": "markdown",
   "metadata": {
    "id": "UKZgPfFylcGP"
   },
   "source": [
    "![texto del enlace](https://docs.google.com/drawings/d/e/2PACX-1vTw4iaiCJtPk7wicuBFXo11yn97vs2M9OvAbzOSaSW4uzv67_757Fzr1tJG9H2KRldIauw2prHViC28/pub?w=720&h=271)"
   ]
  },
  {
   "cell_type": "markdown",
   "metadata": {
    "id": "hL7QWG5iE4Pb"
   },
   "source": [
    "### Las reglas de evolución entre estados y una implementación del modelo $SIR$ en autómatas celulares"
   ]
  },
  {
   "cell_type": "markdown",
   "metadata": {
    "id": "c8CSB5ASE_dB"
   },
   "source": [
    "Debido a la naturaleza del modelo $SIR$, se decidió implementar reglas de evolución de acuerdo con RBE (la regla base de evolución), es decir, los agentes susceptibles podrán adquirir el estado de infección o bien mantenerse susceptibles, los individuos infectados podrán curarse de la enfermedad o mantenerse infectados (a diferencia del modelo $SIS$, los individuos que se infecten no podrán adquirir el estado de $S$) y finalmente, los individuos recuperados solo tienen la posibilidad de mantenerse recuperados, una vez dicho esto, es momento de definir las reglas de evolución para la implementación del modelo en AC."
   ]
  },
  {
   "cell_type": "markdown",
   "metadata": {
    "id": "FyLSW0G9FSgc"
   },
   "source": [
    "#### La regla de interacción $SI$"
   ]
  },
  {
   "cell_type": "markdown",
   "metadata": {
    "id": "NkC_xNMAFWGC"
   },
   "source": [
    "Al tratarse de una regla que actúa únicamente sobre los individuos susceptibles, debemos considerar solo dos de los cuatro casos descritos en la regla base de evolución (casos 1 y 3). De este modo, podemos definir a la regla de evolución $SI$ como una restricción de la regla base de evolución que actúa exclusivamente sobre los agentes susceptibles.\n",
    "\n",
    "**Definición 4.1.** Conoceremos como regla de interacción $SI$ a la restricción de la regla base de evolución sobre el conjunto de individuos susceptibles, dicho de otra forma, \n",
    "\\begin{equation}\n",
    "    \\psi_{ij}^t(\\alpha,\\beta) := \\left\\{\n",
    "    \\begin{array}{cl}\n",
    "        \\phi_{ij}^t(\\alpha, \\beta) & \\textrm{si }x_{ij}^t\\in S\\\\\n",
    "        x_{ij}^t & \\textrm{en caso contrario}\n",
    "    \\end{array}\n",
    "    \\right.\n",
    "\\end{equation}\n",
    "Donde $\\varphi_{ij}^t$ denota la regla de interacción $SI$ sobre el agente en la posición $ij$ en el tiempo $t$. De manera similar a como se definió la regla base de evolución global se define la regla de interacción $SI$ global, denotada por $\\Psi^t$.\n",
    "\n",
    "*Observación.* Note que la función $\\Psi^t$ actúa como la función identidad sobre los individuos que no son susceptibles, dejándolos con el mismo valor de su iteración anterior."
   ]
  },
  {
   "cell_type": "code",
   "execution_count": 23,
   "metadata": {},
   "outputs": [],
   "source": [
    "class sir:\n",
    "    data = None; evolutions = None\n",
    "    def __init__(self,alpha,beta,system,extraRows,extraColumns,neighborhoodType):\n",
    "        \"\"\"Modelo SIR\n",
    "        alpha => Tasa de recuperación        \n",
    "        beta  => Tasa de infección\n",
    "        extraRows    => Cantidad de filas extra del entorno\n",
    "        extraColumns => Cantidad de columnas extra del entorno\n",
    "        neighborhoodType => Tipo de vecindad que va a considerar para el análisis\"\"\"\n",
    "        self.alpha = alpha; self.beta = beta\n",
    "        self.system = system; self.nRows, self.nColumns = system.shape\n",
    "        self.neighborhoodType = neighborhoodType; self.extraRows = extraRows; self.extraColumns = extraColumns\n",
    "        \n",
    "    def __siRule(self,updatedSystem): \n",
    "        \"\"\"Regla S -> I\"\"\"\n",
    "        extendedSystem = insideCopy(updatedSystem,self.extraRows,self.extraColumns)\n",
    "        systemUpdate = np.zeros((self.nRows,self.nColumns))\n",
    "        for row in range(self.nRows):\n",
    "            for column in range(self.nColumns): \n",
    "                vecinityOf_ij, masterCell = identificador(self.neighborhoodType,extendedSystem, \n",
    "                                                          row+self.extraRows,column+self.extraColumns)\n",
    "                if updatedSystem[row][column] == 0:\n",
    "                    # Si el estado de la célula es susceptible aplique la regla base de interaccion local\n",
    "                    systemUpdate[row][column] = baseRuleEvolution(self.alpha,self.beta,vecinityOf_ij,\n",
    "                                                                masterCell[0][0],masterCell[0][1])\n",
    "                else:\n",
    "                    systemUpdate[row][column] = updatedSystem[row][column]\n",
    "        return systemUpdate  \n",
    "    \n",
    "    def __irRule(self,previousSystem):      \n",
    "        \"\"\"Regla I -> R\"\"\"\n",
    "        infectedCoordinates = stateCoordinates(previousSystem,1)\n",
    "        # alpha de los infectados se curará\n",
    "        initialRecoveredNumber = math.ceil(len(infectedCoordinates)*self.alpha)\n",
    "        percentageInSpace = statePercentageInSpace(initialRecoveredNumber,len(infectedCoordinates)+1,2,1)\n",
    "        systemCopy = insideCopy(previousSystem)\n",
    "        for i in range(len(percentageInSpace)):\n",
    "            # Los individuos que se recuperarón se envian a la posición que tenian en el estado I  \n",
    "            systemCopy[infectedCoordinates[i][0]][infectedCoordinates[i][1]]=percentageInSpace[i]\n",
    "        return systemCopy\n",
    "    \n",
    "    def basicRule(self,previousSystem):   \n",
    "        \"\"\"Aplica la regla de evolución al sistema previousSystem\"\"\"\n",
    "        # Primero se evalua cuales individuos se curarán\n",
    "        updatedStates_IR = self.__irRule(previousSystem)      \n",
    "        # Los que no se curarón siguen infectando la población susceptible\n",
    "        updatedStates_SI = self.__siRule(updatedStates_IR)  \n",
    "        return updatedStates_SI\n",
    "    \n",
    "    def basicModel(self,n_iterations,modifiedSystem=False,system=None):\n",
    "        \"\"\"Aplica el modelo n_iterations veces\"\"\"\n",
    "        # Se aplica el modelo SIS n veces\n",
    "        if modifiedSystem == False:\n",
    "            evolutions = appliedModel(self.basicRule,self.system,n_iterations)\n",
    "        else:\n",
    "            evolutions = appliedModel(self.basicRule,system,n_iterations)\n",
    "        visualization = dataVisualization(evolutions,[0,1,2])\n",
    "        self.data = visualization[0]; self.evolutions = visualization[2]\n",
    "        return visualization\n",
    "    \n",
    "    def metricsPlot(self,n_iterations,title=\"Modelo SIR\"):\n",
    "        \"\"\"Gráfica la evolución de los estados en n_iterations\"\"\"\n",
    "        if self.data == None:\n",
    "            visualization = self.basicModel(n_iterations)\n",
    "            self.data = visualization[0]; self.evolutions = visualization[2]\n",
    "        col = [\"y\",\"r\",\"g\"]\n",
    "        eti = [\"susceptibles\", \"infectados\", \"recuperados\"]\n",
    "        graficas(self.data, eti, col, title)\n",
    "        \n",
    "    def evolutionsPlot(self,n_iterations,specificIteration):\n",
    "        \"\"\"Gráfica una evolución especifica del conjunto de evoluciones generadas tras aplicar el modelo\"\"\"\n",
    "        if self.evolutions == None:\n",
    "            visualization = self.basicModel(n_iterations)\n",
    "            self.data = visualization[0]; self.evolutions = visualization[2]\n",
    "        plt.imshow(color(self.evolutions[specificIteration]),cmap=\"nipy_spectral\",interpolation='nearest')\n",
    "    \n",
    "    def mediumCurves(self,initialPercentageInfected,n_iterations,n_simulations):\n",
    "        return appliedMediumData(self.basicModel,self.system,initialPercentageInfected,[0,1,2],n_iterations,n_simulations)"
   ]
  },
  {
   "cell_type": "markdown",
   "metadata": {
    "id": "g8XfP__CF8Vt"
   },
   "source": [
    "#### La regla de interacción $IR$"
   ]
  },
  {
   "cell_type": "markdown",
   "metadata": {
    "id": "kJIgfSavVdS8"
   },
   "source": [
    "Usualmente la tasa de recuperación $\\alpha$ se toma como una probabilidad individual, es decir, cada individuo tiene una probabilidad $\\alpha$ de recuperarse de una enfermedad. En nuestra implementación, la tasa de recuperación se toma en el sentido global, esto implica que si por ejemplo tenemos un sistema de 1000 individuos y una enfermedad con tasa de recuperación $\\alpha=0.2$, el $20\\%$ de los individuos infectados se recuperarán de dicha enfermedad sin importar su ubicación o el tiempo en el que se mantuvieron enfermos.\n",
    "\n",
    "**Definición 4.2.** Definimos la regla de interacción $IR$ como una aplicación de $I$ en $I\\cup R$, tal que para un parámetro $\\alpha$ dado, $1-\\alpha$ individuos de $I$ se mantendrán en el estado $I$ y el $\\alpha\\%$ restante adoptará la condición de inmunidad o recuperación. \n",
    "\n",
    "Una vez descritas las reglas de interacción que gobiernan el comportamiento de los agentes, es tiempo de definir nuestra regla de evolución para el modelo $SIR$ en AC, está se define como una combinación de las definiciones 4.1 y 4.2. "
   ]
  },
  {
   "cell_type": "markdown",
   "metadata": {
    "id": "go_Nkpl5Y4Gq"
   },
   "source": [
    "### Comparación entre el modelo $SIR$ clásico y la implementación en autómatas celulares"
   ]
  },
  {
   "cell_type": "markdown",
   "metadata": {
    "id": "3yuhVx4YY8hr"
   },
   "source": [
    "De acuerdo con lo descrito en [1], se consideraron dos posibles casos en los cuales el indicador $R_0$ actúa de manera diferente.\n",
    "\n",
    "*   **La enfermedad C:** Posee una tasa de infección $\\beta$ del $5\\%$ y una tasa de recuperación $\\alpha=0.2$, esto implica que en promedio la enfermedad dura una media de 5 días ($\\alpha=1/5=0.2$), esto si tomamos las tasas por días.\n",
    "*   **La enfermedad D:** Al igual que la enfermedad C, la enfermedad D posee una tasa de recuperación $\\alpha=0.2$, pero su tasa de infección es del $50\\%$.\n",
    "\n",
    "Observe que en el caso de la enfermedad C, de acuerdo con [1] esta cuenta con un indicador $R_0=0.25< 1$, mientras que la enfermedad D cuenta con un indicador $R_0$ de 2.5. Se analizó el comportamiento de ambas enfermedades en un periodo de 100 días tanto en el modelo clásico como en la implementación en autómatas celulares:\n",
    "\n",
    "*   **Evolución de la enfermedad C:** En ambos modelos se consideró una población inicial de individuos infectados y en el caso de la implementación en autómatas celulares, se considero una ubicación aleatoria inicial de los individuos infectados, obteniendo como resultado:"
   ]
  },
  {
   "cell_type": "code",
   "execution_count": 24,
   "metadata": {},
   "outputs": [
    {
     "data": {
      "image/png": "[encoded data removed]",
      "text/plain": [
       "<Figure size 576x216 with 1 Axes>"
      ]
     },
     "metadata": {
      "needs_background": "light"
     },
     "output_type": "display_data"
    },
    {
     "data": {
      "image/png": "[encoded data removed]",
      "text/plain": [
       "<Figure size 576x216 with 1 Axes>"
      ]
     },
     "metadata": {
      "needs_background": "light"
     },
     "output_type": "display_data"
    }
   ],
   "source": [
    "a=0.2; b=0.05  #alpha y beta\n",
    "\n",
    "# plt.subplot(2,2,1)\n",
    "# plt.title(\"EDO's model\")\n",
    "# grafsir(ND,TS,INPUT)\n",
    "\n",
    "sm = sir(a,b,initialCondition(0.1,np.zeros((10,10))),1,1,Moore)\n",
    "svn = sir(a,b,initialCondition(0.1,np.zeros((10,10))),1,1,Von_Neumann)\n",
    "\n",
    "plt.subplot(2,2,2)\n",
    "sm.metricsPlot(40,title=\"Moore\")\n",
    "\n",
    "plt.subplot(2,2,3)\n",
    "svn.metricsPlot(40,title=\"von Neumann\")"
   ]
  },
  {
   "cell_type": "markdown",
   "metadata": {
    "id": "nhoXJkXTnYhf"
   },
   "source": [
    "![texto del enlace](https://docs.google.com/drawings/d/e/2PACX-1vSyPNhakKc0-9tIEtdIgnFXszS9Nx_JZAI_yUypiJHVeJ505DrQemgrfpnsxjB_aTd7QQ3XtxsW-xhL/pub?w=703&h=511)"
   ]
  },
  {
   "cell_type": "markdown",
   "metadata": {
    "id": "WaKVnQ5WZ6Fz"
   },
   "source": [
    "*   **Evolución de la enfermedad D:** Al igual que en el caso anterior, se considero una población inicial de individuos infectados del $10\\%$ y en la implementación en AC una distribución inicial de infectados del tipo aleatoria."
   ]
  },
  {
   "cell_type": "markdown",
   "metadata": {
    "id": "3odjxcgtt4W0"
   },
   "source": [
    "![texto del enlace](https://docs.google.com/drawings/d/e/2PACX-1vQDhpO2ey-z04B869HAR1WRNCjaaL_6cVq5CJdF_BSw4mhns_utIdZI2TH1IjfssSgZFe7ewdNyQ4fV/pub?w=716&h=518)"
   ]
  },
  {
   "cell_type": "markdown",
   "metadata": {
    "id": "pJeSfPa7aR5g"
   },
   "source": [
    "Podemos preguntarnos si la manera en la que ubicamos inicialmente a los individuos infectados afecta o no el comportamiento de las soluciones de la implementación en autómatas celulares. Para responder a esto consideremos tres casos puntuales de condición inicial de ubicación para individuos infectados:"
   ]
  },
  {
   "cell_type": "code",
   "execution_count": null,
   "metadata": {
    "executionInfo": {
     "elapsed": 6725,
     "status": "ok",
     "timestamp": 1611848815309,
     "user": {
      "displayName": "jorge andres ibañez huertas",
      "photoUrl": "https://lh3.googleusercontent.com/a-/AOh14GhxtY1gv0TE-_5I14fAFDQvitQd7o-GQS0CPcZFxw=s64",
      "userId": "08569590861585362554"
     },
     "user_tz": 300
    },
    "id": "zm57DGAcabqo"
   },
   "outputs": [],
   "source": [
    "evolution1 = sir(0.2,0.3,initialLocation(30,30,0.1,\"random\"),1,1,Moore)\n",
    "evolution2 = sir(0.2,0.3,initialLocation(30,30,0.1,\"center\"),1,1,Moore)\n",
    "evolution3 = sir(0.2,0.3,initialLocation(30,30,0.1,\"southeast\"),1,1,Moore)\n",
    "\n",
    "plt.subplot(3,3,1)\n",
    "plt.title(\"t = 0\")\n",
    "evolution1.evolutionsPlot(30,0)\n",
    "\n",
    "plt.subplot(3,3,2)\n",
    "plt.title(\"t = 5\")\n",
    "evolution1.evolutionsPlot(30,5)\n",
    "\n",
    "plt.subplot(3,3,3)\n",
    "plt.title(\"t = 10\")\n",
    "evolution1.evolutionsPlot(30,10)\n",
    "\n",
    "plt.subplot(3,3,4)\n",
    "evolution2.evolutionsPlot(30,0)\n",
    "\n",
    "plt.subplot(3,3,5)\n",
    "evolution2.evolutionsPlot(30,5)\n",
    "\n",
    "plt.subplot(3,3,6)\n",
    "evolution2.evolutionsPlot(30,10)\n",
    "\n",
    "plt.subplot(3,3,7)\n",
    "evolution3.evolutionsPlot(30,0)\n",
    "\n",
    "plt.subplot(3,3,8)\n",
    "evolution3.evolutionsPlot(30,5)\n",
    "\n",
    "plt.subplot(3,3,9)\n",
    "evolution3.evolutionsPlot(30,10)\n",
    "\n",
    "plt.show()"
   ]
  },
  {
   "cell_type": "markdown",
   "metadata": {
    "id": "GIi8gg7nvR9Z"
   },
   "source": [
    "![texto del enlace](https://docs.google.com/drawings/d/e/2PACX-1vRqXw2azoPK2kDWGkMFSns6Yuia70F3SCXbYT9RbJ-2U1YvaAu_BaV2xcZhXsA3OPi7ZfY9C3x0d86b/pub?w=720&h=714)"
   ]
  },
  {
   "cell_type": "markdown",
   "metadata": {
    "id": "nMgi38rlatdN"
   },
   "source": [
    "De manera que si observamos el comportamiento de una manera mas precisa, se puede apreciar si bien no una diferencia en el comportamiento general de la enfermedad, si en la velocidad con la cual convergen las soluciones de la implementación:"
   ]
  },
  {
   "cell_type": "markdown",
   "metadata": {
    "id": "SsSsdj2Vx_zQ"
   },
   "source": [
    "![texto del enlace](https://docs.google.com/drawings/d/e/2PACX-1vRq1-Di3tXrbXGbPLpwjLvBW6xrpeNkUli0ixLod_MYZFMG0s5Pl7dZeWD4k-8BkdVKqN7FKkZDPYw8/pub?w=992&h=521)"
   ]
  },
  {
   "cell_type": "markdown",
   "metadata": {
    "id": "861blh5ebhDW"
   },
   "source": [
    "De la misma manera en la que abordamos el análisis de la evolución de la enfermedad con respecto a la condición inicial de población infectada en el modelo $SIS$, si tomamos como punto de partida los puntos cardinales para realizar dicha ubicación podemos observar un comportamiento como el que se describe en la siguiente figura:"
   ]
  },
  {
   "cell_type": "code",
   "execution_count": null,
   "metadata": {
    "executionInfo": {
     "elapsed": 6702,
     "status": "ok",
     "timestamp": 1611848815310,
     "user": {
      "displayName": "jorge andres ibañez huertas",
      "photoUrl": "https://lh3.googleusercontent.com/a-/AOh14GhxtY1gv0TE-_5I14fAFDQvitQd7o-GQS0CPcZFxw=s64",
      "userId": "08569590861585362554"
     },
     "user_tz": 300
    },
    "id": "ahkf7NEhcAAL",
    "scrolled": false
   },
   "outputs": [],
   "source": [
    "SIR1_M = sir(0.2,0.5,initialLocation(30,30,0.1,\"northwest\"),1,1,Moore).basicModel(50)[0]\n",
    "SIR2_M = sir(0.2,0.5,initialLocation(30,30,0.1,\"north\"),1,1,Moore).basicModel(50)[0]\n",
    "SIR3_M = sir(0.2,0.5,initialLocation(30,30,0.1,\"northeast\"),1,1,Moore).basicModel(50)[0]\n",
    "SIR4_M = sir(0.2,0.5,initialLocation(30,30,0.1,\"west\"),1,1,Moore).basicModel(50)[0]\n",
    "SIR5_M = sir(0.2,0.5,initialLocation(30,30,0.1,\"center\"),1,1,Moore).basicModel(50)[0]\n",
    "SIR6_M = sir(0.2,0.5,initialLocation(30,30,0.1,\"east\"),1,1,Moore).basicModel(50)[0]\n",
    "SIR7_M = sir(0.2,0.5,initialLocation(30,30,0.1,\"southwest\"),1,1,Moore).basicModel(50)[0]\n",
    "SIR8_M = sir(0.2,0.5,initialLocation(30,30,0.1,\"south\"),1,1,Moore).basicModel(50)[0]\n",
    "SIR9_M = sir(0.2,0.5,initialLocation(30,30,0.1,\"southeast\"),1,1,Moore).basicModel(50)[0]\n",
    "SIR10_M = sir(0.2,0.5,initialLocation(30,30,0.1,\"random\"),1,1,Moore).basicModel(50)[0]\n",
    "\n",
    "var_sm = [SIR1_M[0], SIR2_M[0], SIR3_M[0], SIR4_M[0], SIR5_M[0], SIR6_M[0], SIR7_M[0], SIR8_M[0], SIR9_M[0], SIR10_M[0]]\n",
    "var_rm = [SIR1_M[1], SIR2_M[1], SIR3_M[1], SIR4_M[1], SIR5_M[1], SIR6_M[1], SIR7_M[1], SIR8_M[1], SIR9_M[1], SIR10_M[1]]\n",
    "var_im = [SIR1_M[2], SIR2_M[2], SIR3_M[2], SIR4_M[2], SIR5_M[2], SIR6_M[2], SIR7_M[2], SIR8_M[2], SIR9_M[2], SIR10_M[2]]\n",
    "\n",
    "col_dis = [\"g\", \"gold\", \"peru\", \"c\", \"magenta\", \"darkorange\", \"royalblue\", \"mediumorchid\", \"r\", \"lime\"]\n",
    "eti_dis = [\"northwest\", \"north\", \"northeast\", \"west\", \"central\", \"east\", \"southwest\", \"south\", \"southeast\", \"random\"]\n",
    "\n",
    "plt.subplot(1,3,1)\n",
    "graficas(var_sm, eti_dis, col_dis,\"Initial condition - State S\")\n",
    "\n",
    "plt.subplot(1,3,2)\n",
    "graficas(var_im, eti_dis, col_dis,\"Initial condition - State I\")\n",
    "\n",
    "plt.subplot(1,3,3)\n",
    "graficas(var_rm, eti_dis, col_dis,\"Initial condition - State R\")"
   ]
  },
  {
   "cell_type": "markdown",
   "metadata": {
    "id": "wloPBL69zvPq"
   },
   "source": [
    "![texto del enlace](https://docs.google.com/drawings/d/e/2PACX-1vQi3il_K9DFSqP12T3iWjUyiaMJ9_t_NYc1aGF0YomK2v4YdONj6T2mMBiQuiMc2PS1w1lNOHLbtJYX/pub?w=1024&h=279)"
   ]
  },
  {
   "cell_type": "markdown",
   "metadata": {
    "id": "JUnFoZ9scj_K"
   },
   "source": [
    "La posibilidad de modelar diferentes condiciones iniciales de ubicación para individuos infectados es una cualidad presente únicamente en la implementación del modelo $SIR$ en AC. Por otro lado, al igual que en el caso del modelo $SIS$, la implementación nos permite definir zonas de riesgo basándonos en el comportamiento de las poblaciones hasta un determinado tiempo. "
   ]
  },
  {
   "cell_type": "markdown",
   "metadata": {
    "id": "bLrTAS29c-ML"
   },
   "source": [
    "Del lado izquierdo de la siguiente figura podemos observar el comportamiento de la población infectada en un periodo de 30 días, este mapa de calor nos permite visualizar que el tiempo promedio de infección corresponde con el descrito por los parámetros que definen a la enfermedad y por otro lado, tenemos el mapa de calor de la población recuperada, este mapa nos permite visualizar las zonas que se recuperaron primero y que por tanto, fueron las primeras en ser alcanzadas por la enfermedad."
   ]
  },
  {
   "cell_type": "code",
   "execution_count": null,
   "metadata": {
    "executionInfo": {
     "elapsed": 6681,
     "status": "ok",
     "timestamp": 1611848815312,
     "user": {
      "displayName": "jorge andres ibañez huertas",
      "photoUrl": "https://lh3.googleusercontent.com/a-/AOh14GhxtY1gv0TE-_5I14fAFDQvitQd7o-GQS0CPcZFxw=s64",
      "userId": "08569590861585362554"
     },
     "user_tz": 300
    },
    "id": "IuIkzkEr1HMw"
   },
   "outputs": [],
   "source": [
    "evolutionsOfSystem1 = sir(0.2,0.5,initialLocation(30,30,0.1,position = \"northwest\"),1,1,Moore).basicModel(10)[2]\n",
    "evolutionsOfSystem2 = sir(0.2,0.5,initialLocation(30,30,0.1,position = \"northwest\"),1,1,Moore).basicModel(10)[2]\n",
    "\n",
    "plt.subplot(2,2,1)\n",
    "heatmap(evolutionsOfSystem1,1)\n",
    "\n",
    "plt.subplot(2,2,2)\n",
    "heatmap(evolutionsOfSystem1,2)\n",
    "\n",
    "plt.subplot(2,2,3)\n",
    "heatmap(evolutionsOfSystem2,1)\n",
    "\n",
    "plt.subplot(2,2,4)\n",
    "heatmap(evolutionsOfSystem2,2)\n",
    "\n",
    "plt.show()"
   ]
  },
  {
   "cell_type": "markdown",
   "metadata": {
    "id": "1UeduO84197M"
   },
   "source": [
    "![texto del enlace](https://docs.google.com/drawings/d/e/2PACX-1vQZNfVumD3AN5ODCNx9VmGNP6M1tfImRQiEoHgvfXpeUc1Nz21Qo7rAOLI4kFO9hRlJ_BPo1cjUV5y8/pub?w=663&h=486)"
   ]
  },
  {
   "cell_type": "markdown",
   "metadata": {
    "id": "qniX9nuMdpCF"
   },
   "source": [
    "## Variación en la condición de frontera del sistema y sus implicaciones en el estudio epidemiológico"
   ]
  },
  {
   "cell_type": "markdown",
   "metadata": {
    "id": "-RuefBOTeTEz"
   },
   "source": [
    "Hasta este momento hemos analizado únicamente sistemas rectangulares, en esta sección estudiaremos las implicaciones que tiene cambiar la frontera de nuestro sistema en la evolución de la enfermedad."
   ]
  },
  {
   "cell_type": "markdown",
   "metadata": {
    "id": "TJjbfM9keVa9"
   },
   "source": [
    "### Variaciones en la condición de frontera del sistema"
   ]
  },
  {
   "cell_type": "markdown",
   "metadata": {
    "id": "GgkckfXSeY_e"
   },
   "source": [
    "Al igual que en las implementaciones anteriores, se consideró una vecindad de Moore la cual considera una vecindad de 8 individuos; sin embargo esto no siempre es así. \n",
    "\n",
    "En los sistemas rectangulares por ejemplo, los individuos que se encuentran en los bordes del sistema solo cuentan con 5 vecinos y para el caso de los que están ubicados en las esquinas de dichos sistemas, sus vecindades cuentan con tan solo 3 individuos.\n",
    "\n",
    "Debido a que dos de las reglas que hemos implementado hasta ahora cuentan con una dependencia implícita del comportamiento de la vecindad, debemos realizar un ajuste en cuanto a la cantidad de vecinos con los que cuenta el agente en cuestión.\n",
    "\n",
    "**Definición 5.1.** Definimos la regla base de interacción local generalizada como:\n",
    "\\begin{equation}\n",
    "    \\phi_{ij}^t(\\alpha,\\beta)=\\left\\{\n",
    "    \\begin{array}{cl}\n",
    "    x_{ij}^{t+1}\\in S & \\textrm{si }\\rho\\leq\\frac{\\beta}{\\alpha}\\cdot\\frac{N_{ij}^t(I)}{8-N_{ij}^t(V)}\\textrm{, con }N_{ij}^t(V)\\neq8\\\\\n",
    "    x_{ij}^{t+1}\\in I & \\textrm{en otro caso}\n",
    "    \\end{array}\n",
    "    \\right.\n",
    "\\end{equation}\n",
    "Donde $N_{ij}^t(V)$ representa a la cantidad de espacios vacíos o ausentes (identificados con el color negro) en la vecindad de Moore del agente en la posición $ij$. De manera análoga se define la regla de interacción $SI$ generalizada."
   ]
  },
  {
   "cell_type": "code",
   "execution_count": 21,
   "metadata": {},
   "outputs": [],
   "source": [
    "# Condición de frontera\n",
    "\n",
    "def boundaryDefinition(boundaryConditions,system):\n",
    "    \"\"\"Definición de la estructura del sistema dadas las condiciones de frontera\n",
    "    \n",
    "    boundaryConditions : Lista con las posiciones con individuos dentro del sistema\n",
    "    \"\"\"\n",
    "    nRows, mColumns = system.shape\n",
    "    for condition in range(len(boundaryConditions)):\n",
    "        # Cambie la posición respectiva del sistema por cero\n",
    "        system[boundaryConditions[condition][0],boundaryConditions[condition][1]] = 0  \n",
    "    return system\n",
    "\n",
    "def rectangularBoundary(rectangleRows,rectangleColumns,rowPosition,columnPosition,system):\n",
    "    \"\"\"Ubica una matriz nula de tamaño rectangleRows*rectangleColumns en la posición a,b del sistema\"\"\"\n",
    "    boundaryConditions = []\n",
    "    for row in range(rectangleRows):      \n",
    "        for column in range(rectangleColumns):\n",
    "            boundaryConditions.append((rowPosition+row,columnPosition+column)) \n",
    "    return boundaryDefinition(boundaryConditions,system)      "
   ]
  },
  {
   "cell_type": "markdown",
   "metadata": {
    "id": "0gPbIecl9Zh4"
   },
   "source": [
    "A continuación mostramos una serie de ejemplos que verifican el correcto funcionamiento de la definición 5.1, en cada uno se consideró tanto para el caso del modelo $SIS$ como el caso del modelo $SIR$, una enfermedad con parámetros $\\alpha=0.2$ y $\\beta=0.5$ en un periodo de 100 días, una ubicación inicial de individuos infectados del tipo aleatorio y una población infectada inicial del $10\\%$ con respecto al tamaño de cada sistema, con lo cual obtuvimos los siguientes resultados promedio para 100 simulaciones:\n",
    "\n",
    "*  **Modelos epidemiológicos sobre una linea:** Se considero un sistema lineal con 10 individuos.\n",
    "    \n",
    "En la siguiente figura podemos observar un cambio importante con respecto a la trayectoria de las soluciones, estos cambios se deben a la naturaleza de las vecindades en un sistema de este tipo."
   ]
  },
  {
   "cell_type": "code",
   "execution_count": 26,
   "metadata": {},
   "outputs": [
    {
     "data": {
      "image/png": "[encoded data removed]",
      "text/plain": [
       "<Figure size 576x216 with 2 Axes>"
      ]
     },
     "metadata": {
      "needs_background": "light"
     },
     "output_type": "display_data"
    },
    {
     "data": {
      "image/png": "[encoded data removed]",
      "text/plain": [
       "<Figure size 576x216 with 1 Axes>"
      ]
     },
     "metadata": {
      "needs_background": "light"
     },
     "output_type": "display_data"
    }
   ],
   "source": [
    "L=-np.ones((9,10))\n",
    "# L=initialCondition(0.1,rectangularBoundary(1,10,4,0,L))\n",
    "L = rectangularBoundary(1,10,4,0,L)\n",
    "\n",
    "msl = sis(0.2,0.5,L,1,1,Moore).mediumCurves(0.1,30,10)[0]\n",
    "var_sis = [msl[0],msl[1]]; eti_sis = [\"Susceptible\", \"Infected\"]; col_sis = [\"y\", \"r\"] \n",
    "msil = sir(0.2,0.5,L,1,1,Moore).mediumCurves(0.1,30,10)[0]\n",
    "var_sir = [msil[0],msil[1],msil[2]]; eti_sir = [\"Susceptible\",\"Infected\",\"Recovered\"]; col_sir = [\"y\",\"r\",\"g\"] \n",
    "\n",
    "plt.subplot(1,3,1)\n",
    "plt.imshow(color(initialCondition(0.1,L)),cmap=\"nipy_spectral\", interpolation='nearest')\n",
    "\n",
    "plt.subplot(1,3,2)\n",
    "graficas(var_sis,eti_sis,col_sis,\"Medium curves - SIS\")\n",
    "\n",
    "plt.subplot(1,3,3)\n",
    "graficas(var_sir,eti_sir,col_sir,\"Medium curves - SIR\")\n",
    "\n",
    "plt.show()"
   ]
  },
  {
   "cell_type": "markdown",
   "metadata": {
    "id": "QqTI1f0X5Ovg"
   },
   "source": [
    "![texto del enlace](https://docs.google.com/drawings/d/e/2PACX-1vTNxzf2g1J38UicYaTHifeU_4Z2xyzWEmUAkYo0P25xOUCpt9oRr2lT4t4kTwOrbSKG45fg392PdK9U/pub?w=947&h=277)"
   ]
  },
  {
   "cell_type": "markdown",
   "metadata": {
    "id": "Vv3506BG_dRZ"
   },
   "source": [
    "*   **Modelos epidemiológicos sobre un cuadrado:** Se consideró un sistema de $10\\times10$."
   ]
  },
  {
   "cell_type": "code",
   "execution_count": 27,
   "metadata": {},
   "outputs": [
    {
     "data": {
      "image/png": "[encoded data removed]",
      "text/plain": [
       "<Figure size 576x216 with 2 Axes>"
      ]
     },
     "metadata": {
      "needs_background": "light"
     },
     "output_type": "display_data"
    },
    {
     "data": {
      "image/png": "[encoded data removed]",
      "text/plain": [
       "<Figure size 576x216 with 1 Axes>"
      ]
     },
     "metadata": {
      "needs_background": "light"
     },
     "output_type": "display_data"
    }
   ],
   "source": [
    "C=np.zeros((10,10))\n",
    "\n",
    "msl = sis(0.2,0.5,C,1,1,Moore).mediumCurves(0.1,30,10)[0]\n",
    "var_sis = [msl[0],msl[1]]; eti_sis = [\"Susceptible\", \"Infected\"]; col_sis = [\"y\", \"r\"] \n",
    "msil = sir(0.2,0.5,C,1,1,Moore).mediumCurves(0.1,30,10)[0]\n",
    "var_sir = [msil[0],msil[1],msil[2]]; eti_sir = [\"Susceptible\",\"Infected\",\"Recovered\"]; col_sir = [\"y\",\"r\",\"g\"] \n",
    "\n",
    "plt.subplot(1,3,1)\n",
    "plt.imshow(color(initialCondition(0.1,C)),cmap=\"nipy_spectral\", interpolation='nearest')\n",
    "\n",
    "plt.subplot(1,3,2)\n",
    "graficas(var_sis,eti_sis,col_sis,\"Medium curves - SIS\")\n",
    "\n",
    "plt.subplot(1,3,3)\n",
    "graficas(var_sir,eti_sir,col_sir,\"Medium curves - SIR\")\n",
    "\n",
    "plt.show()"
   ]
  },
  {
   "cell_type": "markdown",
   "metadata": {
    "id": "Vb2Qmu5n6MON"
   },
   "source": [
    "![texto del enlace](https://docs.google.com/drawings/d/e/2PACX-1vR29BHWiDU_IA1Cuwd55ciri-2bJ9VmFuEMLNaBA8SfUr6Jqcc19N-vGKrHG1St_kf2yJ9UKoSKMRXJ/pub?w=917&h=272)"
   ]
  },
  {
   "cell_type": "markdown",
   "metadata": {
    "id": "-pNzrVFQ_ySS"
   },
   "source": [
    "*   **Modelos epidemiológicos sobre una región rectangular:** En este caso se tomo un sistema $5\\times10$."
   ]
  },
  {
   "cell_type": "code",
   "execution_count": null,
   "metadata": {},
   "outputs": [],
   "source": [
    "R1=rectangularBoundary(5,10,3,0,-np.ones((10,10)))\n",
    "\n",
    "msl = sis(0.2,0.5,R1,1,1,Moore).mediumCurves(0.1,10,10)[0]\n",
    "var_sis = [msl[0],msl[1]]; eti_sis = [\"Susceptible\", \"Infected\"]; col_sis = [\"y\", \"r\"] \n",
    "msil = sir(0.2,0.5,C,1,1,Moore).mediumCurves(0.1,10,10)[0]\n",
    "var_sir = [msil[0],msil[1],msil[2]]; eti_sir = [\"Susceptible\",\"Infected\",\"Recovered\"]; col_sir = [\"y\",\"r\",\"g\"] \n",
    "\n",
    "plt.subplot(1,3,1)\n",
    "plt.imshow(color(initialCondition(0.1,C)),cmap=\"nipy_spectral\", interpolation='nearest')\n",
    "\n",
    "plt.subplot(1,3,2)\n",
    "graficas(var_sis,eti_sis,col_sis,\"Medium curves - SIS\")\n",
    "\n",
    "plt.subplot(1,3,3)\n",
    "graficas(var_sir,eti_sir,col_sir,\"Medium curves - SIR\")\n",
    " \n",
    "plt.show()"
   ]
  },
  {
   "cell_type": "markdown",
   "metadata": {
    "id": "41-wP8YP7b_p"
   },
   "source": [
    "![texto del enlace](https://docs.google.com/drawings/d/e/2PACX-1vRqrBothaRE6SPgLoqBQkaUn6jb6IcGB3aT61rBL6RLX6_7lPpLw6j1-kFoHAm624fucqfZiHfw3a0G/pub?w=925&h=267)"
   ]
  },
  {
   "cell_type": "markdown",
   "metadata": {
    "id": "KkFeT1sZAWKs"
   },
   "source": [
    "*   **Modelos epidemiológicos sobre una región tipo rombo:** Para nuestro cuarto ejemplo tomamos una población de 46 individuos en un sistema tipo rombo."
   ]
  },
  {
   "cell_type": "code",
   "execution_count": null,
   "metadata": {
    "executionInfo": {
     "elapsed": 6614,
     "status": "ok",
     "timestamp": 1611848815315,
     "user": {
      "displayName": "jorge andres ibañez huertas",
      "photoUrl": "https://lh3.googleusercontent.com/a-/AOh14GhxtY1gv0TE-_5I14fAFDQvitQd7o-GQS0CPcZFxw=s64",
      "userId": "08569590861585362554"
     },
     "user_tz": 300
    },
    "id": "Vc9bfiiZAchH"
   },
   "outputs": [],
   "source": [
    "def rombo(a,b,c,d,M):           \n",
    "    L=[M]\n",
    "    i=0\n",
    "    while c>1:\n",
    "        a=a+2; b=b-4; c=c-1; d=d+2; i=i+1\n",
    "        L.append(rectangularBoundary(a,b,c,d,L[i-1]))\n",
    "    return L[i]\n",
    "\n",
    "R2=-np.ones((14,14))\n",
    "R2=rombo(1,14,7,0,R2)\n",
    "\n",
    "eti_sis = [\"Susceptible\", \"Infected\"]; col_sis = [\"y\", \"r\"]\n",
    "\n",
    "msr2=sis(0.2,0.5,R2,1,1,Moore).mediumCurves(0.1,10,10)[0]\n",
    "var_sis = [msr2[0],msr2[1]]\n",
    "msir2=sir(0.2,0.5,R2,1,1,Moore).mediumCurves(0.1,10,10)[0]\n",
    "var_sir = [msir2[0],msir2[1],msir2[2]]\n",
    "\n",
    "plt.subplot(1,3,1)\n",
    "plt.imshow(color(initialCondition(0.1,R2)),cmap=\"nipy_spectral\", interpolation='nearest')\n",
    "\n",
    "plt.subplot(1,3,2)\n",
    "graficas(var_sis,eti_sis,col_sis,\"Medium curves - SIS\")\n",
    "\n",
    "plt.subplot(1,3,3)\n",
    "graficas(var_sir,eti_sir,col_sir,\"Medium curves - SIR\")\n",
    "\n",
    "plt.show()"
   ]
  },
  {
   "cell_type": "markdown",
   "metadata": {
    "id": "Av6gkA7Z8lyK"
   },
   "source": [
    "![texto del enlace](https://docs.google.com/drawings/d/e/2PACX-1vT6n-zhmAd5h68v0M2IcutPJZgVyWkmxkDQh6YxieAImLHR7XLVFwnTMPThyvpSKp2JI7i19yDc2j6e/pub?w=921&h=269)"
   ]
  },
  {
   "cell_type": "markdown",
   "metadata": {
    "id": "ZaiZ2cPAVhqB"
   },
   "source": [
    "*   **Modelos epidemiológicos en una región triangular:** Se consideró una región triangular con un total de 56 individuos."
   ]
  },
  {
   "cell_type": "code",
   "execution_count": null,
   "metadata": {
    "executionInfo": {
     "elapsed": 6604,
     "status": "ok",
     "timestamp": 1611848815316,
     "user": {
      "displayName": "jorge andres ibañez huertas",
      "photoUrl": "https://lh3.googleusercontent.com/a-/AOh14GhxtY1gv0TE-_5I14fAFDQvitQd7o-GQS0CPcZFxw=s64",
      "userId": "08569590861585362554"
     },
     "user_tz": 300
    },
    "id": "cmYiVRWoVyLH"
   },
   "outputs": [],
   "source": [
    "def triangulo(n,m,a,b,M):\n",
    "    L=[M]\n",
    "    i=0\n",
    "    while m>=1:\n",
    "        i=i+1\n",
    "        L.append(rectangularBoundary(n,m,a,b,L[i-1]))\n",
    "        m=m-2; a=a-1; b=b+1\n",
    "    return L[i]\n",
    "\n",
    "T=-np.ones((14,14))\n",
    "T=triangulo(1,14,9,0,T)\n",
    "\n",
    "mst=sis(0.2,0.5,T,1,1,Moore).mediumCurves(0.1,10,10)[0]\n",
    "var_sis = [mst[0],mst[1]]\n",
    "msit=sir(0.2,0.5,T,1,1,Moore).mediumCurves(0.1,10,10)[0]\n",
    "var_sir = [msit[0],msit[1],msit[2]]\n",
    "\n",
    "plt.subplot(1,3,1)\n",
    "plt.imshow(color(initialCondition(0.1,T)),cmap=\"nipy_spectral\", interpolation='nearest')\n",
    "\n",
    "plt.subplot(1,3,2)\n",
    "graficas(var_sis,eti_sis,col_sis,\"Medium curves - SIS\")\n",
    "\n",
    "plt.subplot(1,3,3)\n",
    "graficas(var_sir,eti_sir,col_sir,\"Medium curves - SIR\")\n",
    "\n",
    "plt.show()"
   ]
  },
  {
   "cell_type": "markdown",
   "metadata": {
    "id": "WE0A7mLs9ZGC"
   },
   "source": [
    "![texto del enlace](https://docs.google.com/drawings/d/e/2PACX-1vSMRIiByLXHesrvzziMB9b7m9B9HLPs43eherv2IjGUbcI3BqwhVv0BR51_SsgXtQFbAOKFAgu1yrda/pub?w=925&h=275)"
   ]
  },
  {
   "cell_type": "markdown",
   "metadata": {
    "id": "-7IgmhUyWejx"
   },
   "source": [
    "*   **Modelos epidemiológicos en una región tipo anillo: (caso $\\#1$)** Se tomo una población de 48 individuos. Observe que en el caso del modelo $SIR$, la población susceptible no converge a cero como en los ejemplos anteriores, esto se debe a la dificultada que puede tener la propagación de la enfermedad por la manera en la que se definió el sistema."
   ]
  },
  {
   "cell_type": "code",
   "execution_count": null,
   "metadata": {
    "executionInfo": {
     "elapsed": 6592,
     "status": "ok",
     "timestamp": 1611848815316,
     "user": {
      "displayName": "jorge andres ibañez huertas",
      "photoUrl": "https://lh3.googleusercontent.com/a-/AOh14GhxtY1gv0TE-_5I14fAFDQvitQd7o-GQS0CPcZFxw=s64",
      "userId": "08569590861585362554"
     },
     "user_tz": 300
    },
    "id": "TWNGHa6_WlKN"
   },
   "outputs": [],
   "source": [
    "C1 = -np.ones((8,8))\n",
    "C1 = rectangularBoundary(2,8,0,0,C1)\n",
    "C1 = rectangularBoundary(8,2,0,0,C1)\n",
    "C1 = rectangularBoundary(8,2,0,6,C1)\n",
    "C1 = rectangularBoundary(2,8,6,0,C1)\n",
    "\n",
    "msc1=sis(0.2,0.5,C1,1,1,Moore).mediumCurves(0.1,10,10)[0]\n",
    "var_sis = [msc1[0],msc1[1]]\n",
    "msic1=sir(0.2,0.5,C1,1,1,Moore).mediumCurves(0.1,10,10)[0]\n",
    "var_sir = [msic1[0],msic1[1],msic1[2]]\n",
    "\n",
    "plt.subplot(1,3,1)\n",
    "plt.imshow(color(initialCondition(0.1,C1)),cmap=\"nipy_spectral\", interpolation='nearest')\n",
    "\n",
    "plt.subplot(1,3,2)\n",
    "graficas(var_sis,eti_sis,col_sis,\"Medium curves - SIS\")\n",
    "\n",
    "plt.subplot(1,3,3)\n",
    "graficas(var_sir,eti_sir,col_sir,\"Medium curves - SIR\")\n",
    "\n",
    "plt.show()"
   ]
  },
  {
   "cell_type": "markdown",
   "metadata": {
    "id": "haudqG_B-UJi"
   },
   "source": [
    "![texto del enlace](https://docs.google.com/drawings/d/e/2PACX-1vRmtUe2gGaZcje6vOiiVJNNVm6a6L54g4BPhkjC0ci4AKBdxiLuenlX-qSiGcjFADpo6YuLQ-ebIJdl/pub?w=917&h=277)"
   ]
  },
  {
   "cell_type": "markdown",
   "metadata": {
    "id": "C2O4iS1yXCiH"
   },
   "source": [
    "*   **Modelos epidemiológicos en un sistema con población alejada: (caso $\\#2$)** Supongamos que tenemos un sistema en el cual cierto grupo de la población no tiene contacto con el resto de los individuos (figura a), este sistema cuenta con una población de 52 individuos. Observe que en ambos modelos, la curva que describe el comportamiento no tiende a cero como en los casos anteriores; esto implica que la enfermedad no alcanza a todos los individuos del sistema, esto debido al distanciamiento con el que cuentan los individuos en el bloque central del sistema."
   ]
  },
  {
   "cell_type": "code",
   "execution_count": null,
   "metadata": {
    "executionInfo": {
     "elapsed": 6582,
     "status": "ok",
     "timestamp": 1611848815317,
     "user": {
      "displayName": "jorge andres ibañez huertas",
      "photoUrl": "https://lh3.googleusercontent.com/a-/AOh14GhxtY1gv0TE-_5I14fAFDQvitQd7o-GQS0CPcZFxw=s64",
      "userId": "08569590861585362554"
     },
     "user_tz": 300
    },
    "id": "zTH7WN76XOjq"
   },
   "outputs": [],
   "source": [
    "C2=rectangularBoundary(2,2,3,3,C1)\n",
    "\n",
    "msc2=sis(0.2,0.5,C2,1,1,Moore).mediumCurves(0.1,10,10)[0]\n",
    "var_sis = [msc2[0],msc2[1]]\n",
    "msic2=sir(0.2,0.5,C2,1,1,Moore).mediumCurves(0.1,10,10)[0]\n",
    "var_sir = [msic2[0],msic2[1],msic2[2]]\n",
    "\n",
    "plt.subplot(1,3,1)\n",
    "plt.imshow(color(initialCondition(0.1,C2)),cmap=\"nipy_spectral\", interpolation='nearest')\n",
    "\n",
    "plt.subplot(1,3,2)\n",
    "graficas(var_sis,eti_sis,col_sis,\"Medium curves - SIS\")\n",
    "\n",
    "plt.subplot(1,3,3)\n",
    "graficas(var_sir,eti_sir,col_sir,\"Medium curves - SIR\")\n",
    "\n",
    "plt.show()"
   ]
  },
  {
   "cell_type": "markdown",
   "metadata": {
    "id": "raTFi6KVHG6s"
   },
   "source": [
    "![texto del enlace](https://docs.google.com/drawings/d/e/2PACX-1vShSEQEY0kbA6pMwGIZScan3FnycAUl46vN1q0SgRD8JgZTAKPU7TBzTvhUfU2z1zMuD_hwmCKTFSkp/pub?w=917&h=275)"
   ]
  },
  {
   "cell_type": "markdown",
   "metadata": {
    "id": "PxC1wHPbXegg"
   },
   "source": [
    "*Observación:* A diferencia del caso lineal, podemos observar una similitud en cuando al comportamiento de la población infectada en el tiempo. Esto nos sugiere que la manera en la que definimos la condición de frontera del sistema, afecta no solo la velocidad de convergencia sino los valores a los cuales convergen las curvas que describen el comportamiento de las poblaciones en el tiempo."
   ]
  },
  {
   "cell_type": "code",
   "execution_count": null,
   "metadata": {
    "executionInfo": {
     "elapsed": 6570,
     "status": "ok",
     "timestamp": 1611848815317,
     "user": {
      "displayName": "jorge andres ibañez huertas",
      "photoUrl": "https://lh3.googleusercontent.com/a-/AOh14GhxtY1gv0TE-_5I14fAFDQvitQd7o-GQS0CPcZFxw=s64",
      "userId": "08569590861585362554"
     },
     "user_tz": 300
    },
    "id": "KjyAXCZNXhnu"
   },
   "outputs": [],
   "source": [
    "SISL  = sis(0.2,0.5,L,1,1,Moore).mediumCurves(0.1,30,10)[0]\n",
    "SISC  = sis(0.2,0.5,C,1,1,Moore).mediumCurves(0.1,30,10)[0]\n",
    "SISR1 = sis(0.2,0.5,R1,1,1,Moore).mediumCurves(0.1,30,10)[0]\n",
    "SISR2 = sis(0.2,0.5,R2,1,1,Moore).mediumCurves(0.1,30,10)[0]\n",
    "SIST  = sis(0.2,0.5,T,1,1,Moore).mediumCurves(0.1,30,10)[0]\n",
    "SISC1 = sis(0.2,0.5,C1,1,1,Moore).mediumCurves(0.1,30,10)[0]\n",
    "SISC2 = sis(0.2,0.5,C2,1,1,Moore).mediumCurves(0.1,30,10)[0]\n",
    "\n",
    "var_sis = [SISL[1], SISC[1], SISR1[1], SISR2[1], SIST[1], SISC1[1],\n",
    "           SISC2[1]]\n",
    "col = [\"purple\", \"steelblue\", \"darkorange\", \"firebrick\", \"seagreen\",\n",
    "       \"cyan\", \"orangered\"]\n",
    "eti = [\"Line\", \"Square\", \"Rectangle\", \"Rhombus\", \"Triangle\", \"Case # 1\", \n",
    "       \"Case # 2\"]\n",
    "graficas(var_sis,eti,col,\"System comparison - SIS Model\")"
   ]
  },
  {
   "cell_type": "markdown",
   "metadata": {
    "id": "1r3dL12YIcg5"
   },
   "source": [
    "![texto del enlace](https://docs.google.com/drawings/d/e/2PACX-1vS2fIUw7wYiZVyMW-ubCbKgVRSqzX3OOHgNnvjZHWZXUkV_S8lcf5mxNTL3bGeDN-ySlq6u3jGuBgaV/pub?w=376&h=272)"
   ]
  },
  {
   "cell_type": "code",
   "execution_count": null,
   "metadata": {
    "executionInfo": {
     "elapsed": 6560,
     "status": "ok",
     "timestamp": 1611848815318,
     "user": {
      "displayName": "jorge andres ibañez huertas",
      "photoUrl": "https://lh3.googleusercontent.com/a-/AOh14GhxtY1gv0TE-_5I14fAFDQvitQd7o-GQS0CPcZFxw=s64",
      "userId": "08569590861585362554"
     },
     "user_tz": 300
    },
    "id": "QPrAE3qcTzfQ"
   },
   "outputs": [],
   "source": [
    "SIRL  = sir(0.2,0.5,L,1,1,Moore).mediumCurves(0.1,30,10)[0]\n",
    "SIRC  = sir(0.2,0.5,C,1,1,Moore).mediumCurves(0.1,30,10)[0]\n",
    "SIRR1 = sir(0.2,0.5,R1,1,1,Moore).mediumCurves(0.1,30,10)[0]\n",
    "SIRR2 = sir(0.2,0.5,R2,1,1,Moore).mediumCurves(0.1,30,10)[0]\n",
    "SIRT  = sir(0.2,0.5,T,1,1,Moore).mediumCurves(0.1,30,10)[0]\n",
    "SIRC1 = sir(0.2,0.5,C1,1,1,Moore).mediumCurves(0.1,30,10)[0]\n",
    "SIRC2 = sir(0.2,0.5,C2,1,1,Moore).mediumCurves(0.1,30,10)[0]\n",
    "\n",
    "var_sir=[SIRL[1], SIRC[1], SIRR1[1], SIRR2[1], SIRT[1], SIRC1[1],SIRC2[1]]\n",
    "graficas(var_sir,eti,col,\"System comparison - SIR Model\")"
   ]
  },
  {
   "cell_type": "markdown",
   "metadata": {
    "id": "dBI_Kdq_I6-C"
   },
   "source": [
    "![texto del enlace](https://docs.google.com/drawings/d/e/2PACX-1vTP_rfV4s41DIpbJhyM0SkdSsLQT8OeNqo8JD9gGJXYT7nhL-wtMfAo5TkRbgl2VPc8rtNNsrSL93Q3/pub?w=386&h=279)"
   ]
  },
  {
   "cell_type": "markdown",
   "metadata": {
    "id": "EexA7iNfYTCw"
   },
   "source": [
    "### Variaciones en la escala del sistema"
   ]
  },
  {
   "cell_type": "markdown",
   "metadata": {
    "id": "MPtIYMmbYhjG"
   },
   "source": [
    "Es importante preguntarnos si cambiar la escala de un sistema altera de alguna manera la evolución del sistema. Al igual que en el análisis en la variación de condiciones de frontera, consideraremos una serie de ejemplos para visualizar si existe o no, una variación en la evolución de la enfermedad."
   ]
  },
  {
   "cell_type": "code",
   "execution_count": 28,
   "metadata": {},
   "outputs": [],
   "source": [
    "def variationsBetweenScales(scale1,scale2):\n",
    "    '''Genera una lista con las diferencias entre escalas'''\n",
    "    variationsArray = np.zeros((len(scale1),2))\n",
    "    for data in range(len(scale1)):\n",
    "        variationsArray[data][0] = data\n",
    "        variationsArray[data][1] = abs(scale1[data]-scale2[data])\n",
    "    return variationsArray"
   ]
  },
  {
   "cell_type": "code",
   "execution_count": 29,
   "metadata": {
    "executionInfo": {
     "elapsed": 6549,
     "status": "ok",
     "timestamp": 1611848815319,
     "user": {
      "displayName": "jorge andres ibañez huertas",
      "photoUrl": "https://lh3.googleusercontent.com/a-/AOh14GhxtY1gv0TE-_5I14fAFDQvitQd7o-GQS0CPcZFxw=s64",
      "userId": "08569590861585362554"
     },
     "user_tz": 300
    },
    "id": "ScsyHcUKZLRk"
   },
   "outputs": [],
   "source": [
    "def scale_differences(L1,L2):\n",
    "    '''variationsBetweenScales'''\n",
    "    L=np.zeros((len(L1),2))\n",
    "    for i in range(len(L1)):\n",
    "        L[i][0]=i; L[i][1]=abs(L1[i]-L2[i])\n",
    "    return L"
   ]
  },
  {
   "cell_type": "markdown",
   "metadata": {
    "id": "wmukQt8MZTKv"
   },
   "source": [
    "En cada uno de los siguientes ejemplos se realizaron 4 cambios de escala sobre el tipo de sistema en cuestión, posteriormente se aplicaron las implementaciones de los modelos $SIS$ y $SIR$ tomando como punto de partida una enfermedad con parámetros $\\alpha=0.2$ y $\\beta=0.5$, una población infectada inicial del $10\\%$ con una ubicación inicial del tipo aleatoria.\n",
    "\n",
    "*   **Cambios de escala sobre la linea:** Se considero un sistema inicial de 100 individuos y se realizaron 4 cambios de escala de modo que las cantidades de individuos fueran 200, 300, 400 y 500 individuos por cada cambio respectivamente."
   ]
  },
  {
   "cell_type": "code",
   "execution_count": null,
   "metadata": {
    "executionInfo": {
     "elapsed": 6538,
     "status": "ok",
     "timestamp": 1611848815319,
     "user": {
      "displayName": "jorge andres ibañez huertas",
      "photoUrl": "https://lh3.googleusercontent.com/a-/AOh14GhxtY1gv0TE-_5I14fAFDQvitQd7o-GQS0CPcZFxw=s64",
      "userId": "08569590861585362554"
     },
     "user_tz": 300
    },
    "id": "soyc5pc7b4Db"
   },
   "outputs": [],
   "source": [
    "L1 = np.zeros((1,100))\n",
    "L2 = np.zeros((1,200))\n",
    "L3 = np.zeros((1,300))\n",
    "L4 = np.zeros((1,400))\n",
    "L5 = np.zeros((1,500))\n",
    "\n",
    "plt.subplot(5,1,1)\n",
    "plt.imshow(color(L1),cmap=\"nipy_spectral\", interpolation='nearest')\n",
    "\n",
    "plt.subplot(5,1,2)\n",
    "plt.imshow(color(L2),cmap=\"nipy_spectral\", interpolation='nearest')\n",
    "\n",
    "plt.subplot(5,1,3)\n",
    "plt.imshow(color(L3),cmap=\"nipy_spectral\", interpolation='nearest')\n",
    "\n",
    "plt.subplot(5,1,4)\n",
    "plt.imshow(color(L4),cmap=\"nipy_spectral\", interpolation='nearest')\n",
    "\n",
    "plt.subplot(5,1,5)\n",
    "plt.imshow(color(L5),cmap=\"nipy_spectral\", interpolation='nearest')\n",
    "\n",
    "plt.show()"
   ]
  },
  {
   "cell_type": "markdown",
   "metadata": {
    "id": "Yz0LkOUsJwMT"
   },
   "source": [
    "![texto del enlace](https://docs.google.com/drawings/d/e/2PACX-1vSTTlQwQIW9HM9wq-4PoTQmV27tXGyhQwCa1oHi1NbHrmTWbU1aVHWmrR59KhgYjnLwPyXslePKs3Jv/pub?w=387&h=234)"
   ]
  },
  {
   "cell_type": "code",
   "execution_count": null,
   "metadata": {
    "executionInfo": {
     "elapsed": 6526,
     "status": "ok",
     "timestamp": 1611848815320,
     "user": {
      "displayName": "jorge andres ibañez huertas",
      "photoUrl": "https://lh3.googleusercontent.com/a-/AOh14GhxtY1gv0TE-_5I14fAFDQvitQd7o-GQS0CPcZFxw=s64",
      "userId": "08569590861585362554"
     },
     "user_tz": 300
    },
    "id": "M_bjRJ0gZf8i"
   },
   "outputs": [],
   "source": [
    "SISL1=sis(0.2,0.5,L1,1,1,Moore).mediumCurves(0.1,30,10)[0]\n",
    "SIRL1=sir(0.2,0.5,L1,1,1,Moore).mediumCurves(0.1,30,10)[0]\n",
    "\n",
    "SISL2=sis(0.2,0.5,L2,1,1,Moore).mediumCurves(0.1,30,10)[0]\n",
    "SIRL2=sir(0.2,0.5,L2,1,1,Moore).mediumCurves(0.1,30,10)[0]\n",
    "\n",
    "SISL3=sis(0.2,0.5,L3,1,1,Moore).mediumCurves(0.1,30,10)[0]\n",
    "SIRL3=sir(0.2,0.5,L3,1,1,Moore).mediumCurves(0.1,30,10)[0]\n",
    "\n",
    "SISL4=sis(0.2,0.5,L4,1,1,Moore).mediumCurves(0.1,30,10)[0]\n",
    "SIRL4=sir(0.2,0.5,L4,1,1,Moore).mediumCurves(0.1,30,10)[0]\n",
    "\n",
    "SISL5=sis(0.2,0.5,L5,1,1,Moore).mediumCurves(0.1,30,10)[0]\n",
    "SIRL5=sir(0.2,0.5,L5,1,1,Moore).mediumCurves(0.1,30,10)[0]\n",
    "\n",
    "var_sis=[SISL1[1],SISL2[1],SISL3[1],SISL4[1],SISL5[1]]\n",
    "var_sir=[SIRL1[1],SIRL2[1],SIRL3[1],SIRL4[1],SIRL5[1]]\n",
    "\n",
    "col_esc=[\"purple\", \"steelblue\", \"darkorange\", \"firebrick\", \"seagreen\"]\n",
    "eti_esc = [\"es1\", \"es2\", \"es3\", \"es4\", \"es5\"]\n",
    "col_dif = [\"purple\", \"steelblue\", \"darkorange\", \"firebrick\"]\n",
    "eti_dif = [\"E5-E1\", \"E5-E2\", \"E5-E3\", \"E5-E4\"]\n",
    "\n",
    "plt.subplot(1,2,1)\n",
    "graficas(var_sis,eti_esc,col_esc,\"SIS en una linea\")\n",
    "\n",
    "plt.subplot(1,2,2)\n",
    "graficas(var_sir,eti_esc,col_esc,\"SIR en una linea\")\n",
    "\n",
    "plt.show()"
   ]
  },
  {
   "cell_type": "markdown",
   "metadata": {
    "id": "yi2lBql5cjLu"
   },
   "source": [
    "![texto del enlace](https://docs.google.com/drawings/d/e/2PACX-1vTmMDbVdn0yeJDdB08RJgut2A80Tz4Ri5NPqo3g9SDEmEHShVn0gSyIoSmJdmu--cx0e9E9kEENH7tF/pub?w=723&h=282)"
   ]
  },
  {
   "cell_type": "markdown",
   "metadata": {
    "id": "xtoHcMw2adcp"
   },
   "source": [
    "Si graficamos las diferencias presentes entre cada escala y la escala mayor (es este caso la escala de 500 individuos) obtenemos:"
   ]
  },
  {
   "cell_type": "code",
   "execution_count": null,
   "metadata": {
    "executionInfo": {
     "elapsed": 6514,
     "status": "ok",
     "timestamp": 1611848815320,
     "user": {
      "displayName": "jorge andres ibañez huertas",
      "photoUrl": "https://lh3.googleusercontent.com/a-/AOh14GhxtY1gv0TE-_5I14fAFDQvitQd7o-GQS0CPcZFxw=s64",
      "userId": "08569590861585362554"
     },
     "user_tz": 300
    },
    "id": "mzMaKaEZakxl"
   },
   "outputs": [],
   "source": [
    "var_difs = [variationsBetweenScales(SISL1[3], SISL5[3]), variationsBetweenScales(SISL2[3], SISL5[3]), \n",
    "            variationsBetweenScales(SISL3[3], SISL5[3]), variationsBetweenScales(SISL4[3], SISL5[3])]\n",
    "var_difsi = [variationsBetweenScales(SIRL1[3], SIRL5[3]), variationsBetweenScales(SIRL2[3], SIRL5[3]), \n",
    "             variationsBetweenScales(SIRL3[3], SIRL5[3]), variationsBetweenScales(SIRL4[3], SIRL5[3])]\n",
    "\n",
    "plt.subplot(1,2,1)\n",
    "graficas(var_difs,eti_dif,col_dif,\"Estado I - SIS en la linea\", limit=False)\n",
    "\n",
    "plt.subplot(1,2,2)\n",
    "graficas(var_difsi,eti_dif,col_dif,\"Estado I - SIR en la linea\", limit=False)\n",
    "\n",
    "plt.show()"
   ]
  },
  {
   "cell_type": "markdown",
   "metadata": {
    "id": "2if7sxcldTNS"
   },
   "source": [
    "![texto del enlace](https://docs.google.com/drawings/d/e/2PACX-1vRtWEbWIS_U3M0EcZtTfLbwLwNlVzsB9hsYz7ah8-QOFkWwDochQp4ARNVoU9C1ESFivKREb2Xfj20x/pub?w=731&h=279)"
   ]
  },
  {
   "cell_type": "markdown",
   "metadata": {
    "id": "Knfatl4ebLq_"
   },
   "source": [
    "*   **Cambios de escala sobre el cuadrado:** En este caso se tomo un sistema cuadrado inicial de 100 individuos, los 4 cambios de escala analizados representan poblaciones de 625, 2500, 5625 y 10000 individuos respectivamente."
   ]
  },
  {
   "cell_type": "code",
   "execution_count": null,
   "metadata": {
    "executionInfo": {
     "elapsed": 6504,
     "status": "ok",
     "timestamp": 1611848815321,
     "user": {
      "displayName": "jorge andres ibañez huertas",
      "photoUrl": "https://lh3.googleusercontent.com/a-/AOh14GhxtY1gv0TE-_5I14fAFDQvitQd7o-GQS0CPcZFxw=s64",
      "userId": "08569590861585362554"
     },
     "user_tz": 300
    },
    "id": "3vizc8E8bWGh"
   },
   "outputs": [],
   "source": [
    "# C1 = np.zeros((10, 10))\n",
    "# C2 = np.zeros((25, 25))\n",
    "# C3 = np.zeros((50, 50))\n",
    "# C4 = np.zeros((75, 75))\n",
    "# C5 = np.zeros((100, 100))\n",
    "\n",
    "# plt.subplot(2,3,1)\n",
    "# plt.imshow(color(C1),cmap=\"nipy_spectral\", interpolation='nearest')\n",
    "\n",
    "# plt.subplot(2,3,2)\n",
    "# plt.imshow(color(C2),cmap=\"nipy_spectral\", interpolation='nearest')\n",
    "\n",
    "# plt.subplot(2,3,3)\n",
    "# plt.imshow(color(C3),cmap=\"nipy_spectral\", interpolation='nearest')\n",
    "\n",
    "# plt.subplot(2,3,4)\n",
    "# plt.imshow(color(C4),cmap=\"nipy_spectral\", interpolation='nearest')\n",
    "\n",
    "# plt.subplot(2,3,5)\n",
    "# plt.imshow(color(C5),cmap=\"nipy_spectral\", interpolation='nearest')\n",
    "\n",
    "# plt.show()"
   ]
  },
  {
   "cell_type": "markdown",
   "metadata": {
    "id": "5O9_h92reKxD"
   },
   "source": [
    "![texto del enlace](https://docs.google.com/drawings/d/e/2PACX-1vRr1ToMA_UH1SsY1Y-re-aqMETUCtmjxHuH787FRmDJkZdGS1rxwGh1te_jPWYtRi-9bi_1F4RGPmNz/pub?w=687&h=490)"
   ]
  },
  {
   "cell_type": "code",
   "execution_count": null,
   "metadata": {
    "executionInfo": {
     "elapsed": 6492,
     "status": "ok",
     "timestamp": 1611848815321,
     "user": {
      "displayName": "jorge andres ibañez huertas",
      "photoUrl": "https://lh3.googleusercontent.com/a-/AOh14GhxtY1gv0TE-_5I14fAFDQvitQd7o-GQS0CPcZFxw=s64",
      "userId": "08569590861585362554"
     },
     "user_tz": 300
    },
    "id": "6aMO1vhc1zzU"
   },
   "outputs": [],
   "source": [
    "# SISC1=SIS_MediumCurves(0.2,0.5,10,10,0.1,C1,1,1,Moore)\n",
    "# SIRC1=SIR_MediumCurves(0.2,0.5,10,10,0.1,C1,1,1,Moore)\n",
    "\n",
    "# SISC2=SIS_MediumCurves(0.2,0.5,10,10,0.1,C2,1,1,Moore)\n",
    "# SIRC2=SIR_MediumCurves(0.2,0.5,10,10,0.1,C2,1,1,Moore)\n",
    "\n",
    "# SISC3=SIS_MediumCurves(0.2,0.5,10,10,0.1,C3,1,1,Moore)\n",
    "# SIRC3=SIR_MediumCurves(0.2,0.5,10,10,0.1,C3,1,1,Moore)\n",
    "\n",
    "# SISC4=SIS_MediumCurves(0.2,0.5,10,10,0.1,C4,1,1,Moore)\n",
    "# SIRC4=SIR_MediumCurves(0.2,0.5,10,10,0.1,C4,1,1,Moore)\n",
    "\n",
    "# SISC5=SIS_MediumCurves(0.2,0.5,10,10,0.1,C5,1,1,Moore)\n",
    "# SIRC5=SIR_MediumCurves(0.2,0.5,10,10,0.1,C5,1,1,Moore)\n",
    "\n",
    "# var_sis=[SISC1[1],SISC2[1],SISC3[1],SISC4[1],SISC5[1]]\n",
    "# var_sir=[SIRC1[2],SIRC2[2],SIRC3[2],SIRC4[2],SIRC5[2]]\n",
    "\n",
    "# plt.subplot(1,2,1)\n",
    "# graficas(var_sis,eti_esc,col_esc,\"SIS en un cuadrado\")\n",
    "\n",
    "# plt.subplot(1,2,2)\n",
    "# graficas(var_sir,eti_esc,col_esc,\"SIR en un cuadrado\")\n",
    "\n",
    "# plt.show()"
   ]
  },
  {
   "cell_type": "markdown",
   "metadata": {
    "id": "IW-KvFKqesgX"
   },
   "source": [
    "![texto del enlace](https://docs.google.com/drawings/d/e/2PACX-1vSkSVWOjj9nZAxPGXZblPnjIN5m4mqbCHIkekoPNY9BaXOcW_cFJBfKZ3tuuuo6pKYtbZNRRdgNqemS/pub?w=713&h=278)"
   ]
  },
  {
   "cell_type": "markdown",
   "metadata": {
    "id": "4TLqEEzzc4aJ"
   },
   "source": [
    "Al igual que en el ejemplo anterior, graficaremos las diferencias encontradas al realizar los cambios de escala tomando como escala de comparación a la que cuenta con 10000 individuos."
   ]
  },
  {
   "cell_type": "code",
   "execution_count": null,
   "metadata": {
    "executionInfo": {
     "elapsed": 6482,
     "status": "ok",
     "timestamp": 1611848815322,
     "user": {
      "displayName": "jorge andres ibañez huertas",
      "photoUrl": "https://lh3.googleusercontent.com/a-/AOh14GhxtY1gv0TE-_5I14fAFDQvitQd7o-GQS0CPcZFxw=s64",
      "userId": "08569590861585362554"
     },
     "user_tz": 300
    },
    "id": "dltXi9Wc-uuy"
   },
   "outputs": [],
   "source": [
    "# plt.subplot(1,2,1)\n",
    "# var_difs = [variationsBetweenScales(SISC1[3], SISC5[3]), variationsBetweenScales(SISC2[3], SISC5[3]), \n",
    "#             variationsBetweenScales(SISC3[3], SISC5[3]), variationsBetweenScales(SISC4[3], SISC5[3])]\n",
    "# graficas(var_difs,eti_dif,col_dif,\"Estado I - SIS en el cuadrado\",limit=False)\n",
    "\n",
    "# plt.subplot(1,2,2)\n",
    "# var_difsi = [variationsBetweenScales(SIRC1[3], SIRC5[3]), variationsBetweenScales(SIRC2[3], SIRC5[3]), \n",
    "#              variationsBetweenScales(SIRC3[3], SIRC5[3]), variationsBetweenScales(SIRC4[3], SIRC5[3])]\n",
    "# graficas(var_difsi,eti_dif,col_dif,\"Estado I - SIR en el cuadrado\", limit=False)\n",
    "\n",
    "# plt.show()"
   ]
  },
  {
   "cell_type": "markdown",
   "metadata": {
    "id": "SOlpPZU7fVUV"
   },
   "source": [
    "![texto del enlace](https://docs.google.com/drawings/d/e/2PACX-1vSrBu-q1AEneAsaSI-olSD4HxcB0XnvznZPvV0sQZ6u6yBtLtmU0umJRHeBeVprsXtVyguldW3S_tEI/pub?w=720&h=274)"
   ]
  },
  {
   "cell_type": "markdown",
   "metadata": {
    "id": "XqtpG7Thc73m"
   },
   "source": [
    "En los ejemplos posteriores se tomaron escalas de manera que el tamaño del sistema o su cantidad de individuos en cada escala, coincidiera con los planteados en el ejemplo de cambios de escala en el cuadrado.\n",
    "\n",
    "*   **Cambios de escala sobre una región rectangular:** Para este ejercicio se consideraron cambios de escala de tal manera que sus tamaños coincidieran con las escalas tomadas en el caso del cuadrado, obteniendo así:"
   ]
  },
  {
   "cell_type": "code",
   "execution_count": null,
   "metadata": {
    "executionInfo": {
     "elapsed": 6471,
     "status": "ok",
     "timestamp": 1611848815323,
     "user": {
      "displayName": "jorge andres ibañez huertas",
      "photoUrl": "https://lh3.googleusercontent.com/a-/AOh14GhxtY1gv0TE-_5I14fAFDQvitQd7o-GQS0CPcZFxw=s64",
      "userId": "08569590861585362554"
     },
     "user_tz": 300
    },
    "id": "JFbcesFMdRVO"
   },
   "outputs": [],
   "source": [
    "# Re1 = np.zeros((5,20))\n",
    "# Re2 = np.zeros((13,52))\n",
    "# Re3 = np.zeros((25,100))\n",
    "# Re4 = np.zeros((38,152))\n",
    "# Re5 = np.zeros((50,200))\n",
    "\n",
    "# plt.subplot(2,3,1)\n",
    "# plt.imshow(color(Re1),cmap=\"nipy_spectral\", interpolation='nearest')\n",
    "\n",
    "# plt.subplot(2,3,2)\n",
    "# plt.imshow(color(Re2),cmap=\"nipy_spectral\", interpolation='nearest')\n",
    "\n",
    "# plt.subplot(2,3,3)\n",
    "# plt.imshow(color(Re3),cmap=\"nipy_spectral\", interpolation='nearest')\n",
    "\n",
    "# plt.subplot(2,3,4)\n",
    "# plt.imshow(color(Re4),cmap=\"nipy_spectral\", interpolation='nearest')\n",
    "\n",
    "# plt.subplot(2,3,5)\n",
    "# plt.imshow(color(Re5),cmap=\"nipy_spectral\", interpolation='nearest')\n",
    "\n",
    "# plt.show()"
   ]
  },
  {
   "cell_type": "markdown",
   "metadata": {
    "id": "_pFuTbSFgRRq"
   },
   "source": [
    "![texto del enlace](https://docs.google.com/drawings/d/e/2PACX-1vS1PySpv-uiBthEcMvZNzutZuVlf1BYwxaaqAP-KgrCCxRjLQUza6-azgmYTGSuOdypDVu2-QZWT7nk/pub?w=1036&h=249)"
   ]
  },
  {
   "cell_type": "code",
   "execution_count": null,
   "metadata": {
    "executionInfo": {
     "elapsed": 6459,
     "status": "ok",
     "timestamp": 1611848815323,
     "user": {
      "displayName": "jorge andres ibañez huertas",
      "photoUrl": "https://lh3.googleusercontent.com/a-/AOh14GhxtY1gv0TE-_5I14fAFDQvitQd7o-GQS0CPcZFxw=s64",
      "userId": "08569590861585362554"
     },
     "user_tz": 300
    },
    "id": "VJPNoWO5EK4M"
   },
   "outputs": [],
   "source": [
    "# SISRe1=SIS_MediumCurves(0.2,0.5,10,10,0.1,Re1,1,1,Moore)\n",
    "# SIRRe1=SIR_MediumCurves(0.2,0.5,10,10,0.1,Re1,1,1,Moore)\n",
    "\n",
    "# SISRe2=SIS_MediumCurves(0.2,0.5,10,10,0.1,Re2,1,1,Moore)\n",
    "# SIRRe2=SIR_MediumCurves(0.2,0.5,10,10,0.1,Re2,1,1,Moore)\n",
    "\n",
    "# SISRe3=SIS_MediumCurves(0.2,0.5,10,10,0.1,Re3,1,1,Moore)\n",
    "# SIRRe3=SIR_MediumCurves(0.2,0.5,10,10,0.1,Re3,1,1,Moore)\n",
    "\n",
    "# SISRe4=SIS_MediumCurves(0.2,0.5,10,10,0.1,Re4,1,1,Moore)\n",
    "# SIRRe4=SIR_MediumCurves(0.2,0.5,10,10,0.1,Re4,1,1,Moore)\n",
    "\n",
    "# SISRe5=SIS_MediumCurves(0.2,0.5,10,10,0.1,Re5,1,1,Moore)\n",
    "# SIRRe5=SIR_MediumCurves(0.2,0.5,10,10,0.1,Re5,1,1,Moore)\n",
    "\n",
    "# plt.subplot(1,2,1)\n",
    "# var_sis=[SISRe1[1],SISRe2[1],SISRe3[1],SISRe4[1],SISRe5[1]]\n",
    "# graficas(var_sis,eti_esc,col_esc,\"SIS en un rectangulo\")\n",
    "\n",
    "# plt.subplot(1,2,2)\n",
    "# var_sir=[SIRRe1[2],SIRRe2[2],SIRRe3[2],SIRRe4[2],SIRRe5[2]]\n",
    "# graficas(var_sir,eti_esc,col_esc,\"SIR en un rectangulo\")\n",
    "\n",
    "# plt.show()"
   ]
  },
  {
   "cell_type": "markdown",
   "metadata": {
    "id": "IjwZd6dR1iEb"
   },
   "source": [
    "![texto del enlace](https://docs.google.com/drawings/d/e/2PACX-1vSYQ5MRbANTUx17utWHqbwqGPXkvYSPBuTGW2D_ZOy_Bfrrty7f5d4ds54hylWh4abW7ImKGqGoORXg/pub?w=710&h=268)"
   ]
  },
  {
   "cell_type": "markdown",
   "metadata": {
    "id": "C0uistujeGcA"
   },
   "source": [
    "Si graficamos las diferencias entre escalas de manera análoga a como ocurría en los ejemplos anteriores obtenemos:"
   ]
  },
  {
   "cell_type": "code",
   "execution_count": null,
   "metadata": {
    "executionInfo": {
     "elapsed": 6449,
     "status": "ok",
     "timestamp": 1611848815324,
     "user": {
      "displayName": "jorge andres ibañez huertas",
      "photoUrl": "https://lh3.googleusercontent.com/a-/AOh14GhxtY1gv0TE-_5I14fAFDQvitQd7o-GQS0CPcZFxw=s64",
      "userId": "08569590861585362554"
     },
     "user_tz": 300
    },
    "id": "OBX0OLtpTCGL"
   },
   "outputs": [],
   "source": [
    "# plt.subplot(1,2,1)\n",
    "# var_difs=[variationsBetweenScales(SISRe1[3],SISRe5[3]),variationsBetweenScales(SISRe2[3],SISRe5[3]),variationsBetweenScales(SISRe3[3],SISRe5[3]),scale_differences(SISRe4[3],SISRe5[3])]\n",
    "# graficas(var_difs,eti_dif,col_dif,\"Estado I - SIS en el rectangulo\", limit=False)\n",
    "\n",
    "# plt.subplot(1,2,2)\n",
    "# var_difsi=[variationsBetweenScales(SIRRe1[3],SIRRe5[3]),variationsBetweenScales(SIRRe2[3],SIRRe5[3]),variationsBetweenScales(SIRRe3[3],SIRRe5[3]),scale_differences(SIRRe4[3],SIRRe5[3])]\n",
    "# graficas(var_difsi,eti_dif,col_dif,\"Estado I - SIR en el rectangulo\")\n",
    "\n",
    "# plt.show()"
   ]
  },
  {
   "cell_type": "markdown",
   "metadata": {
    "id": "chGbKYh42D0U"
   },
   "source": [
    "![texto del enlace](https://docs.google.com/drawings/d/e/2PACX-1vR5GV6ufxzhGE8m-KW0tzInzQ-IoQgcFk7tyy-k6Vj_bs830OzfzttAk-4x8xrMLoIltBp2L9IVfjGE/pub?w=724&h=265)"
   ]
  },
  {
   "cell_type": "markdown",
   "metadata": {
    "id": "mfbNGC8MeVv6"
   },
   "source": [
    "*   **Cambios de escala en una región tipo rombo:**"
   ]
  },
  {
   "cell_type": "code",
   "execution_count": null,
   "metadata": {
    "executionInfo": {
     "elapsed": 6437,
     "status": "ok",
     "timestamp": 1611848815324,
     "user": {
      "displayName": "jorge andres ibañez huertas",
      "photoUrl": "https://lh3.googleusercontent.com/a-/AOh14GhxtY1gv0TE-_5I14fAFDQvitQd7o-GQS0CPcZFxw=s64",
      "userId": "08569590861585362554"
     },
     "user_tz": 300
    },
    "id": "TRuf0yDTejv9"
   },
   "outputs": [],
   "source": [
    "# Ro1=-np.ones((11,20));   Ro1=rombo(1,20,5,0,Ro1)\n",
    "# Ro2=-np.ones((32,50));   Ro2=rombo(1,50,16,0,Ro2)\n",
    "# Ro3=-np.ones((60,100));  Ro3=rombo(1,100,30,1,Ro3)\n",
    "# Ro4=-np.ones((80,150));  Ro4=rombo(1,150,40,0,Ro4)\n",
    "# Ro5=-np.ones((110,200)); Ro5=rombo(1,200,55,0,Ro5)\n",
    "\n",
    "# plt.subplot(2,3,1)\n",
    "# plt.imshow(color(Ro1),cmap=\"nipy_spectral\", interpolation='nearest')\n",
    "\n",
    "# plt.subplot(2,3,2)\n",
    "# plt.imshow(color(Ro2),cmap=\"nipy_spectral\", interpolation='nearest')\n",
    "\n",
    "# plt.subplot(2,3,3)\n",
    "# plt.imshow(color(Ro3),cmap=\"nipy_spectral\", interpolation='nearest')\n",
    "\n",
    "# plt.subplot(2,3,4)\n",
    "# plt.imshow(color(Ro4),cmap=\"nipy_spectral\", interpolation='nearest')\n",
    "\n",
    "# plt.subplot(2,3,5)\n",
    "# plt.imshow(color(Ro5),cmap=\"nipy_spectral\", interpolation='nearest')\n",
    "\n",
    "# plt.show()"
   ]
  },
  {
   "cell_type": "markdown",
   "metadata": {
    "id": "8ymUmJcT81da"
   },
   "source": [
    "![texto del enlace](https://docs.google.com/drawings/d/e/2PACX-1vRDvpQUScGAZf9d1enD_QJg9DDDVI9oUZalGktMcx5nRHb57XazfnAm_LnujUYF5sMvo9SBP_AwJHJz/pub?w=942&h=443)"
   ]
  },
  {
   "cell_type": "code",
   "execution_count": null,
   "metadata": {
    "executionInfo": {
     "elapsed": 6887,
     "status": "ok",
     "timestamp": 1611848815786,
     "user": {
      "displayName": "jorge andres ibañez huertas",
      "photoUrl": "https://lh3.googleusercontent.com/a-/AOh14GhxtY1gv0TE-_5I14fAFDQvitQd7o-GQS0CPcZFxw=s64",
      "userId": "08569590861585362554"
     },
     "user_tz": 300
    },
    "id": "ebS4J15pejwD"
   },
   "outputs": [],
   "source": [
    "# SISRo1=SIS_MediumCurves(0.2,0.5,10,10,0.1,Ro1,1,1,Moore)\n",
    "# SIRRo1=SIR_MediumCurves(0.2,0.5,10,10,0.1,Ro1,1,1,Moore)\n",
    "\n",
    "# SISRo2=SIS_MediumCurves(0.2,0.5,10,10,0.1,Ro2,1,1,Moore)\n",
    "# SIRRo2=SIR_MediumCurves(0.2,0.5,10,10,0.1,Ro2,1,1,Moore)\n",
    "\n",
    "# SISRo3=SIS_MediumCurves(0.2,0.5,10,10,0.1,Ro3,1,1,Moore)\n",
    "# SIRRo3=SIR_MediumCurves(0.2,0.5,10,10,0.1,Ro3,1,1,Moore)\n",
    "\n",
    "# SISRo4=SIS_MediumCurves(0.2,0.5,10,10,0.1,Ro4,1,1,Moore)\n",
    "# SIRRo4=SIR_MediumCurves(0.2,0.5,10,10,0.1,Ro4,1,1,Moore)\n",
    "\n",
    "# SISRo5=SIS_MediumCurves(0.2,0.5,10,10,0.1,Ro5,1,1,Moore)\n",
    "# SIRRo5=SIR_MediumCurves(0.2,0.5,10,10,0.1,Ro5,1,1,Moore)\n",
    "\n",
    "# plt.subplot(1,2,1)\n",
    "# var_sis=[SISRo1[1],SISRo2[1],SISRo3[1],SISRo4[1],SISRo5[1]]\n",
    "# graficas(var_sis,eti_esc,col_esc,\"SIS en un rombo\")\n",
    "\n",
    "# plt.subplot(1,2,2)\n",
    "# var_sir=[SIRRo1[2],SIRRo2[2],SIRRo3[2],SIRRo4[2],SIRRo5[2]]\n",
    "# graficas(var_sir,eti_esc,col_esc,\"SIR en un rombo\")\n",
    "\n",
    "# plt.show()"
   ]
  },
  {
   "cell_type": "markdown",
   "metadata": {
    "id": "HQYUgBO7a1ms"
   },
   "source": [
    "![texto del enlace](https://docs.google.com/drawings/d/e/2PACX-1vT6mJ52PCadYjRkshhc53-tePyC7sw2fuGGZTf1HwQe1RESUZAkfyIP6SWZtpFV6ow2Oa_tFAiSTmSE/pub?w=703&h=269)"
   ]
  },
  {
   "cell_type": "markdown",
   "metadata": {
    "id": "54LtNQ5sfxXR"
   },
   "source": [
    "Podemos apreciar las diferencias presentes al realizar los cambios de escala mediante las siguiente gráficas:"
   ]
  },
  {
   "cell_type": "code",
   "execution_count": null,
   "metadata": {
    "executionInfo": {
     "elapsed": 6876,
     "status": "ok",
     "timestamp": 1611848815787,
     "user": {
      "displayName": "jorge andres ibañez huertas",
      "photoUrl": "https://lh3.googleusercontent.com/a-/AOh14GhxtY1gv0TE-_5I14fAFDQvitQd7o-GQS0CPcZFxw=s64",
      "userId": "08569590861585362554"
     },
     "user_tz": 300
    },
    "id": "VDYG2AM4ejwH"
   },
   "outputs": [],
   "source": [
    "# plt.subplot(1,2,1)\n",
    "# var_difs=[variationsBetweenScales(SISRo1[3],SISRo5[3]),variationsBetweenScales(SISRo2[3],SISRo5[3]),\n",
    "#           variationsBetweenScales(SISRo3[3],SISRo5[3]),variationsBetweenScales(SISRo4[3],SISRo5[3])]\n",
    "# graficas(var_difs,eti_dif,col_dif,\"Estado I - SIS en el rombo\", limit=False)\n",
    "\n",
    "# plt.subplot(1,2,2)\n",
    "# var_difsi=[variationsBetweenScales(SIRRo1[3],SIRRo5[3]),variationsBetweenScales(SIRRo2[3],SIRRo5[3]),\n",
    "#            variationsBetweenScales(SIRRo3[3],SIRRo5[3]),variationsBetweenScales(SIRRo4[3],SIRRo5[3])]\n",
    "# graficas(var_difsi,eti_dif,col_dif,\"Estado I - SIR en el rombo\", limit=False)\n",
    "\n",
    "# plt.show()"
   ]
  },
  {
   "cell_type": "markdown",
   "metadata": {
    "id": "hezDReiabPz8"
   },
   "source": [
    "![texto del enlace](https://docs.google.com/drawings/d/e/2PACX-1vRDkQhLzMvOtvBSK6nrphKV07M66ru2hX8MHKfKKTiVI5-mWj3nS-dY3GlTEUAKoRYyKqccWnQuOlX3/pub?w=714&h=282)"
   ]
  },
  {
   "cell_type": "markdown",
   "metadata": {
    "id": "cesojd0Ifyia"
   },
   "source": [
    "*   **Cambios de escala en una región triangular:**"
   ]
  },
  {
   "cell_type": "code",
   "execution_count": null,
   "metadata": {
    "executionInfo": {
     "elapsed": 6865,
     "status": "ok",
     "timestamp": 1611848815787,
     "user": {
      "displayName": "jorge andres ibañez huertas",
      "photoUrl": "https://lh3.googleusercontent.com/a-/AOh14GhxtY1gv0TE-_5I14fAFDQvitQd7o-GQS0CPcZFxw=s64",
      "userId": "08569590861585362554"
     },
     "user_tz": 300
    },
    "id": "qPh3Hmg4f_td"
   },
   "outputs": [],
   "source": [
    "# T1=-np.ones((10,19)); T1=triangulo(1,19,9,0,T1)\n",
    "# T2=-np.ones((25,49)); T2=triangulo(1,49,24,0,T2)\n",
    "# T3=-np.ones((50,99)); T3=triangulo(1,99,49,0,T3)\n",
    "# T4=-np.ones((75,149)); T4=triangulo(1,149,74,0,T4)\n",
    "# T5=-np.ones((100,199)); T5=triangulo(1,199,99,0,T5)\n",
    "\n",
    "# plt.subplot(2,3,1)\n",
    "# plt.imshow(color(T1),cmap=\"nipy_spectral\", interpolation='nearest')\n",
    "\n",
    "# plt.subplot(2,3,2)\n",
    "# plt.imshow(color(T2),cmap=\"nipy_spectral\", interpolation='nearest')\n",
    "\n",
    "# plt.subplot(2,3,3)\n",
    "# plt.imshow(color(T3),cmap=\"nipy_spectral\", interpolation='nearest')\n",
    "\n",
    "# plt.subplot(2,3,4)\n",
    "# plt.imshow(color(T4),cmap=\"nipy_spectral\", interpolation='nearest')\n",
    "\n",
    "# plt.subplot(2,3,5)\n",
    "# plt.imshow(color(T5),cmap=\"nipy_spectral\", interpolation='nearest')\n",
    "\n",
    "# plt.show()"
   ]
  },
  {
   "cell_type": "markdown",
   "metadata": {
    "id": "d5fnIAeAcW5q"
   },
   "source": [
    "![texto del enlace](https://docs.google.com/drawings/d/e/2PACX-1vTaevA-ddNLlGx9WKtMhpBBtZaL_pbq3YqV5hyeFgKqbKhXu0kY8J4jJIRsBgLbVarf8Qc9LghIz0hh/pub?w=988&h=428)"
   ]
  },
  {
   "cell_type": "code",
   "execution_count": null,
   "metadata": {
    "executionInfo": {
     "elapsed": 6855,
     "status": "ok",
     "timestamp": 1611848815788,
     "user": {
      "displayName": "jorge andres ibañez huertas",
      "photoUrl": "https://lh3.googleusercontent.com/a-/AOh14GhxtY1gv0TE-_5I14fAFDQvitQd7o-GQS0CPcZFxw=s64",
      "userId": "08569590861585362554"
     },
     "user_tz": 300
    },
    "id": "P9gw9T9Wf_ti"
   },
   "outputs": [],
   "source": [
    "# SIST1=SIS_MediumCurves(0.2,0.5,10,10,0.1,T1,1,1,Moore)\n",
    "# SIRT1=SIR_MediumCurves(0.2,0.5,10,10,0.1,T1,1,1,Moore)\n",
    "\n",
    "# SIST2=SIS_MediumCurves(0.2,0.5,10,10,0.1,T2,1,1,Moore)\n",
    "# SIRT2=SIR_MediumCurves(0.2,0.5,10,10,0.1,T2,1,1,Moore)\n",
    "\n",
    "# SIST3=SIS_MediumCurves(0.2,0.5,10,10,0.1,T3,1,1,Moore)\n",
    "# SIRT3=SIR_MediumCurves(0.2,0.5,10,10,0.1,T3,1,1,Moore)\n",
    "\n",
    "# SIST4=SIS_MediumCurves(0.2,0.5,10,10,0.1,T4,1,1,Moore)\n",
    "# SIRT4=SIR_MediumCurves(0.2,0.5,10,10,0.1,T4,1,1,Moore)\n",
    "\n",
    "# SIST5=SIS_MediumCurves(0.2,0.5,10,10,0.1,T5,1,1,Moore)\n",
    "# SIRT5=SIR_MediumCurves(0.2,0.5,10,10,0.1,T5,1,1,Moore)\n",
    "\n",
    "# plt.subplot(1,2,1)\n",
    "# var_sis=[SIST1[1],SIST2[1],SIST3[1],SIST4[1],SIST5[1]]\n",
    "# graficas(var_sis,eti_esc,col_esc,\"SIS en un triangulo\")\n",
    "\n",
    "# plt.subplot(1,2,2)\n",
    "# var_sir=[SIRT1[2],SIRT2[2],SIRT3[2],SIRT4[2],SIRT5[2]]\n",
    "# graficas(var_sir,eti_esc,col_esc,\"SIR en un triangulo\")\n",
    "\n",
    "# plt.show()"
   ]
  },
  {
   "cell_type": "markdown",
   "metadata": {
    "id": "bJf4WV3XdZn4"
   },
   "source": [
    "![texto del enlace](https://docs.google.com/drawings/d/e/2PACX-1vTNzTvrrnPcCr5CSSfvwugeswQwXUCYh189DSQ7ua_j5NmPMvWWC1-fdvQcv8j7AQ32qTotE911X-3b/pub?w=713&h=274)"
   ]
  },
  {
   "cell_type": "markdown",
   "metadata": {
    "id": "NK6Xfeh6hQmW"
   },
   "source": [
    "Al igual que en los ejemplos anteriores, realizamos una comparación con respecto a la escala de 10000 individuos, dicha comparación se puede visualizar mediante la siguiente gráfica:"
   ]
  },
  {
   "cell_type": "code",
   "execution_count": null,
   "metadata": {
    "executionInfo": {
     "elapsed": 6842,
     "status": "ok",
     "timestamp": 1611848815788,
     "user": {
      "displayName": "jorge andres ibañez huertas",
      "photoUrl": "https://lh3.googleusercontent.com/a-/AOh14GhxtY1gv0TE-_5I14fAFDQvitQd7o-GQS0CPcZFxw=s64",
      "userId": "08569590861585362554"
     },
     "user_tz": 300
    },
    "id": "bqj--s0Df_tl"
   },
   "outputs": [],
   "source": [
    "# plt.subplot(1,2,1)\n",
    "# var_difs=[variationsBetweenScales(SIST1[3],SIST5[3]),variationsBetweenScales(SIST2[3],SIST5[3]),\n",
    "#           variationsBetweenScales(SIST3[3],SIST5[3]),variationsBetweenScales(SIST4[3],SIST5[3])]\n",
    "# graficas(var_difs,eti_dif,col_dif,\"Estado I - SIS en el triangulo\",limit=False)\n",
    "\n",
    "# plt.subplot(1,2,2)\n",
    "# var_difsi=[variationsBetweenScales(SIRT1[3],SIRT5[3]),variationsBetweenScales(SIRT2[3],SIRT5[3]),\n",
    "#            variationsBetweenScales(SIRT3[3],SIRT5[3]),variationsBetweenScales(SIRT4[3],SIRT5[3])]\n",
    "# graficas(var_difsi,eti_dif,col_dif,\"Estado I - SIR en el triangulo\")\n",
    "\n",
    "# plt.show()"
   ]
  },
  {
   "cell_type": "markdown",
   "metadata": {
    "id": "VKCd_Zh6ds1C"
   },
   "source": [
    "![texto del enlace](https://docs.google.com/drawings/d/e/2PACX-1vSzN5I6zwrD9MDNjVYOJQ9cPT_Hkt4e7bjuKgqNk7iWoPtPPIilrhKvdJ2Mpdw_pwxadpmPjnL3NsCY/pub?w=720&h=274)"
   ]
  },
  {
   "cell_type": "markdown",
   "metadata": {
    "id": "w0THz18IhXnM"
   },
   "source": [
    "En cada uno de los ejemplos anteriores, podemos observar que a medida que aumentaos la escala del sistema, la evolución de la enfermedad no presenta cambios significativos, esto nos indica que la evolución de la enfermedad (tanto en el modelo $SIS$ como en el modelo $SIR$) no posee una fuerte dependencia con respecto a los cambios de escala. \n",
    "\n",
    "Si tomamos las escalas con mayor numero de individuos  y las comparamos, podremos observar que todos los sistemas omitiendo el caso lineal se comportan de manera equivalente. Esto se debe a que al considerar un gran número de agentes estamos considerando implícitamente un gran número de vecindades, donde la mayoría de estás son del tipo Moore implicando así, un comportamiento similar justificado por cantidades similares de vecindades de Moore."
   ]
  },
  {
   "cell_type": "code",
   "execution_count": null,
   "metadata": {
    "executionInfo": {
     "elapsed": 6831,
     "status": "ok",
     "timestamp": 1611848815789,
     "user": {
      "displayName": "jorge andres ibañez huertas",
      "photoUrl": "https://lh3.googleusercontent.com/a-/AOh14GhxtY1gv0TE-_5I14fAFDQvitQd7o-GQS0CPcZFxw=s64",
      "userId": "08569590861585362554"
     },
     "user_tz": 300
    },
    "id": "AmhKLTjlhd4s"
   },
   "outputs": [],
   "source": [
    "# var_1 = [SISL5[1],SISC5[1],SISRe5[1],SISRo5[1],SIST5[1]]\n",
    "# eti = [\"Linea\", \"Cuadrado\", \"Rectangulo\", \"Rombo\", \"triangulo\"]\n",
    "# col = [\"purple\", \"steelblue\", \"darkorange\", \"firebrick\", \"seagreen\"]\n",
    "# eti = [\"linea\", \"cuadrado\", \"rectangulo\", \"rombo\", \"triangulo\"]\n",
    "# graficas(var_1,eti,col,\"Escalas en el modelo SIS\")\n",
    "\n",
    "# plt.subplot(1,2,2)\n",
    "# var_2 = [SIRL5[2],SIRC5[2],SIRRe5[2],SIRRo5[2],SIRT5[2]]\n",
    "# graficas(var_2,eti,col,\"Escalas en el modelo SIR\")\n",
    "\n",
    "# plt.show()"
   ]
  },
  {
   "cell_type": "markdown",
   "metadata": {
    "id": "6VnaHUsqgmjS"
   },
   "source": [
    "![texto del enlace](https://docs.google.com/drawings/d/e/2PACX-1vRu3NtaDYyJ0pUfZUrYIGlbcE6SVhyiElK3LiWlztW9AsDP1gi5_hDRXlmajQ8PpBg_1SySKlj9bjLJ/pub?w=711&h=271)"
   ]
  },
  {
   "cell_type": "markdown",
   "metadata": {
    "id": "MrDC3MGThv6l"
   },
   "source": [
    "## Modelos $SIS$ y $SIR$ con natalidad y mortalidad"
   ]
  },
  {
   "cell_type": "markdown",
   "metadata": {
    "id": "4XeuEl9wiR3e"
   },
   "source": [
    "Al igual que en los modelos anteriores, antes de describir las reglas de evolución que implementamos debemos conocer la manera en la que se modelan las tasas de natalidad y mortalidad en los modelos $SIS$ y $SIR$ clásicos."
   ]
  },
  {
   "cell_type": "markdown",
   "metadata": {
    "id": "yyIsCoX1iV9W"
   },
   "source": [
    "### El modelo $SIS$ con natalidad y mortalidad"
   ]
  },
  {
   "cell_type": "markdown",
   "metadata": {
    "id": "me1P1yvDiZZX"
   },
   "source": [
    "Para este modelo consideraremos un nuevo \"estado\", el estado $D$, con el cual identificaremos los agentes que mueren y a los agentes que pueden entrar (nacer) en el sistema, es decir, un individuo que pasa a poseer la cualidad $D$ será considerado como un individuo que murió (tomando una tasa de mortalidad $\\mu_2$). Por otro lado, si para un tiempo $t$ el estado de un agente es $D$, el agente tendrá únicamente dos posibilidades, mantenerse en el estado $D$ o cambiar al estado $S$.\n",
    "\n",
    "El estado $D$ funciona como un estado de \"espera o receso\" de la interacción entre susceptibles e infectados, con la condición de que los individuos que salgan de tal \"receso\" pasen a poseer únicamente el estado $S$. La implementación del estado $D$ nos permitirá simular la muerte y el nacimiento de un individuo.\n",
    "\n",
    "Para poder implementar esta noción de mortalidad y natalidad debemos incluir mas parámetros para la evolución de los agentes:\n",
    "\n",
    "*   **La edad:** Para poder implementar la idea de esperanza de vida de un agente debemos añadir un contador que corresponda con la edad del agente. Al definir la condición inicial del sistema se incluyo un valor entero a cada píxel que corresponderá con la edad del agente a los individuos que les sea asignado el valor cero los identificaremos con el estado $D$. De acuerdo con la medida de tiempo que estemos usando, podremos ajustar el contador de edad.\n",
    "*   **Tasas de mortalidad por grupo de edad:** Para nuestra implementación incluimos probabilidades de muerte por grupos de edad, esto nos permitirá realizar análisis mas detallados sobre una enfermedad especifica. Estas probabilidades se aplicarán a todos los individuos que cuenten con un estado distinto de $D$ y $V$ (el estado identificado con el color negro). Cada individuo que \"muera\" pasará a adquirir el estado $D$ independientemente del estado previo a su \"muerte\".\n",
    "*   **Tasa de natalidad:** Esta tasa se aplicará únicamente sobre los píxeles con el estado $D$, el uso de este parámetro será exclusivamente para simular el paso del estado $D$ al estado $S$ (podemos interpretar esta interacción como un nacimiento de un agente). Si se realiza tal transición, la edad del píxel será 1.\n",
    "\n",
    "La manera en la que implementamos cada uno de los conceptos anteriormente definidos, se describe mediante el siguiente diagrama:"
   ]
  },
  {
   "cell_type": "code",
   "execution_count": null,
   "metadata": {},
   "outputs": [],
   "source": [
    "def agesMatrix(ranges, system):\n",
    "    '''Arreglo de edades aleatorias'''\n",
    "    numberOfRows, numberOfColumns = system.shape\n",
    "    metricas = systemMetrics(system,[0,1,2,3])\n",
    "    amoungIndividuals = metricas.numberOfIndividuals() # numberOfIndividuals(system)   \n",
    "    agesDivisions = []\n",
    "    for Range in ranges:\n",
    "        agesDivisions.append([0]*math.ceil(Range[2]*amoungIndividuals))\n",
    "    for divition in range(len(agesDivisions)):\n",
    "        for individualPerGroup in range(len(agesDivisions[divition])):\n",
    "            agesDivisions[divition][individualPerGroup] = random.randint(ranges[divition][0], \n",
    "                                                                         ranges[divition][1]) \n",
    "    concatenatedAgeList = agesDivisions[0]\n",
    "    for i in range(1,len(agesDivisions)):\n",
    "        concatenatedAgeList = concatenatedAgeList + agesDivisions[i]\n",
    "    matrixOfAges = -np.ones((numberOfRows,numberOfColumns))\n",
    "    for row in range(numberOfRows):\n",
    "        for column in range(numberOfColumns):\n",
    "            #Si el píxel no es un espacio vacío o un agente muerto se le asigna una edad\n",
    "            if system[row,column] != -1 and system[row,column] != 3:\n",
    "                randomAge = random.choice(concatenatedAgeList)\n",
    "                matrixOfAges[row,column] = randomAge\n",
    "            elif system[row,column] == 3:\n",
    "                matrixOfAges[row,column] = 0\n",
    "    return matrixOfAges\n",
    "\n",
    "def ageGroupPositions(minAge, maxAge, systemAges):   \n",
    "    '''Genera las posiciones de los individuos que tienen entre minAge y maxAge años en el sistema'''\n",
    "    numberOfRows, numberOfColumns = systemAges.shape\n",
    "    groupPositions = []\n",
    "    for row in range(numberOfRows):\n",
    "        for column in range(numberOfColumns):\n",
    "            if minAge < systemAges[row][column] and systemAges[row][column] < maxAge:\n",
    "                groupPositions.append([row,column])\n",
    "    return groupPositions\n",
    "\n",
    "def newYear(birthRate,probabilityOfDyingByAgeGroup, systemAges, timeUnit, annualUnit):\n",
    "    '''Nuevo año para los agentes'''\n",
    "    numberOfRows, numberOfColumns = systemAges.shape\n",
    "    newYearMatrix = np.zeros((numberOfRows, numberOfColumns))\n",
    "    for row in range(numberOfRows):\n",
    "        for column in range(numberOfColumns):\n",
    "            # Si se cumple la condición, los individuos \"cumplirán un año\"\n",
    "            if systemAges[row][column] != 0 and systemAges[row][column] != -1 and timeUnit%annualUnit == 0:   \n",
    "                newYearMatrix[row][column] = systemAges[row][column] + 1\n",
    "            # Los individuos muertos tienen una probabilidad birthRate de reaparecer\n",
    "            elif systemAges[row,column] == 0:\n",
    "                rate = random.randint(0,100)\n",
    "                if rate < birthRate:       \n",
    "                    newYearMatrix[row][column] = 1\n",
    "            elif systemAges[row,column] == -1:\n",
    "                newYearMatrix[row,column] = -1\n",
    "            else:\n",
    "                newYearMatrix[row,column] = systemAges[row,column]\n",
    "    agePositions = []\n",
    "    mortalityApplicationGroups=[]\n",
    "    for group in range(len(probabilityOfDyingByAgeGroup)):   \n",
    "        # Se separan los grupos de edades para aplicar las tasas de mortalidad de probabilityOfDyingByAgeGroup\n",
    "        agePositions.append(ageGroupPositions(probabilityOfDyingByAgeGroup[group][0],\n",
    "                                              probabilityOfDyingByAgeGroup[group][1],systemAges))\n",
    "        mortalityApplicationGroups.append(\n",
    "            math.ceil(len(agePositions[group])*probabilityOfDyingByAgeGroup[group][2])-1)\n",
    "    deadPositions = []\n",
    "    for group in range(len(mortalityApplicationGroups)):\n",
    "        for age in range(mortalityApplicationGroups[group]):\n",
    "            numberOfDead = random.randint(0, len(agePositions[group]) - 1)\n",
    "            deadPositions.append(agePositions[group][numberOfDead])\n",
    "    for position in range(len(deadPositions)):\n",
    "        newYearMatrix[deadPositions[position][0]][deadPositions[position][1]] = 0\n",
    "    return newYearMatrix"
   ]
  },
  {
   "cell_type": "code",
   "execution_count": null,
   "metadata": {},
   "outputs": [],
   "source": [
    "system1 = np.zeros((10,10))\n",
    "ranges = [[1,25,0.4],[25,64,0.4],[65,90,0.2]]\n",
    "ages_sys1 = agesMatrix(ranges,system1)\n",
    "ages_sys1"
   ]
  },
  {
   "cell_type": "code",
   "execution_count": null,
   "metadata": {},
   "outputs": [],
   "source": [
    "class birthAndMortavility:\n",
    "    def __init__(self,model,alpha,beta,birthRate,probabilityOfDyingByAgeGroup,system,systemAges,annualUnit,extraRows,extraColumns,neighborhoodType):\n",
    "        self.model = model\n",
    "        self.alpha = alpha; self.beta = beta\n",
    "        self.birthRate = birthRate; self.probabilityOfDyingByAgeGroup = probabilityOfDyingByAgeGroup\n",
    "        self.system = system; self.systemAges = systemAges; self.nRows, self.nColumns = system.shape\n",
    "        self.annualUnit = annualUnit\n",
    "        self.neighborhoodType = neighborhoodType; self.extraRows = extraRows; self.extraColumns = extraColumns\n",
    "        if self.model == \"sis\":\n",
    "            self.states = [0,1,3]\n",
    "        elif self.model == \"sir\":\n",
    "            self.states = [0,1,2,3]\n",
    "    \n",
    "    def basicRule(self,previousSystem,previousAgesSystem,timeUnit):\n",
    "        '''Regla de evolución del modelo SIS con natalidad y mortalidad'''\n",
    "        newYearMatrix = newYear(self.birthRate,self.probabilityOfDyingByAgeGroup,previousAgesSystem,\n",
    "                                timeUnit,self.annualUnit)\n",
    "        if self.model == \"sis\":\n",
    "            modelMatrix = sis(self.alpha,self.beta,previousSystem,self.extraRows,self.extraColumns,\n",
    "                              self.neighborhoodType).basicRule(previousSystem)\n",
    "        elif self.model == \"sir\":\n",
    "            modelMatrix = sir(self.alpha,self.beta,previousSystem,self.extraRows,self.extraColumns,\n",
    "                              self.neighborhoodType).basicRule(previousSystem)\n",
    "        modelWithBirthAndMortavilityMatrix = np.zeros((self.nRows,self.nColumns))\n",
    "        for row in range(self.nRows):\n",
    "            for column in range(self.nColumns):\n",
    "                if newYearMatrix[row,column] == 0:   \n",
    "                    #Si en la evolución de edades, la edad de un agente es 0 el agente se representará como muerto\n",
    "                    modelWithBirthAndMortavilityMatrix[row,column] = 3\n",
    "                elif newYearMatrix[row,column] == 1:   \n",
    "                    #Si en la evolución de edades, la edad de un agente es 1 el agente es susceptible\n",
    "                    modelWithBirthAndMortavilityMatrix[row,column] = 0\n",
    "                else:\n",
    "                    modelWithBirthAndMortavilityMatrix[row,column] = modelMatrix[row,column]\n",
    "        return [modelWithBirthAndMortavilityMatrix, newYearMatrix]\n",
    "    \n",
    "    def basicModel(self,n_iterations,basicSystem=system):\n",
    "        \"\"\"Aplica el modelo n_iterations veces\"\"\"\n",
    "        evolutions = appliedModel(self.basicRule,basicSystem,n_iterations,True,self.systemAges)\n",
    "        return dataVisualization(evolutions,self.states)\n",
    "    \n",
    "    def mediumCurves(self,initialPercentageInfected,n_iterations,n_simulations):\n",
    "        return appliedMediumData(self.basicModel,self.system,initialPercentageInfected,self.states,n_iterations,n_simulations)"
   ]
  },
  {
   "cell_type": "markdown",
   "metadata": {
    "id": "8w12J_Zij8S1"
   },
   "source": [
    "Consideraremos ahora un sistema no lineal con 100 individuos, de los cuales el $40\\%$ es menor de 25 años, el $40\\%$ tiene ente 25 y 64 años y el $20\\%$ es mayor de 65 años. Por otro lado, suponemos que los individuos menores de 15 años tienen una probabilidad del $0.05\\%$ de morir, los que tienen entre 15 y 69 años del $2\\%$ y los mayores de 70 del $15\\%$.\n",
    "\n",
    "*   **La enfermedad E:** Cuenta con una tasa de recuperación del $20\\%$ y una tasa de infección del $5\\%$. \n",
    "*   **La enfermedad F:** Posee una tasa de infección del $50\\%$ y al igual que la enfermedad E, cuenta con una tasa de recuperación del $20\\%$.\n",
    "\n",
    "Se consideró una población inicial infectada del $10\\%$, además por cada individuo en promedio \"nacen\" 2 agentes. Una vez dicho esto, analizamos la evolución de la enfermedad en un periodo de 200 días."
   ]
  },
  {
   "cell_type": "code",
   "execution_count": null,
   "metadata": {
    "executionInfo": {
     "elapsed": 652,
     "status": "ok",
     "timestamp": 1611849006101,
     "user": {
      "displayName": "jorge andres ibañez huertas",
      "photoUrl": "https://lh3.googleusercontent.com/a-/AOh14GhxtY1gv0TE-_5I14fAFDQvitQd7o-GQS0CPcZFxw=s64",
      "userId": "08569590861585362554"
     },
     "user_tz": 300
    },
    "id": "Uvqm36UpkRZq"
   },
   "outputs": [],
   "source": [
    "system1 = np.zeros((10,10))\n",
    "system1 = initialCondition(0.1,system1)\n",
    "\n",
    "ranges = [[1,25,0.4],[25,64,0.4],[65,90,0.2]]\n",
    "mr = [[1,14,0.0005],[15,69,0.02],[70,100,0.15]]\n",
    "br = 2\n",
    "ages_sys1 = agesMatrix(ranges,system1)\n",
    "\n",
    "sm_1 = birthAndMortavility(\"sis\",0.2,0.05,br,mr,system1,ages_sys1,365,1,1,Moore).basicModel(200)[0]\n",
    "svn_1 = birthAndMortavility(\"sis\",0.2,0.05,br,mr,system1,ages_sys1,365,1,1,Von_Neumann).basicModel(200)[0]\n",
    "sm_2 = birthAndMortavility(\"sis\",0.2,0.5,br,mr,system1,ages_sys1,365,1,1,Moore).basicModel(200)[0]\n",
    "svn_2 = birthAndMortavility(\"sis\",0.2,0.5,br,mr,system1,ages_sys1,365,1,1,Von_Neumann).basicModel(200)[0]\n",
    "\n",
    "plt.subplot(2,2,1)\n",
    "var_m1 = [sm_1[0],sm_1[1],sm_1[2]]\n",
    "col = [\"y\",\"r\",\"b\"]\n",
    "eti = [\"susceptible\", \"infectado\", \"muertos\"]\n",
    "graficas(var_m1,eti,col,\"SIS con natalidad y mortalidad - Moore\")\n",
    "\n",
    "plt.subplot(2,2,2)\n",
    "var_vn1 = [svn_1[0],svn_1[1],svn_1[2]]\n",
    "graficas(var_m1,eti,col,\"SIS con natalidad y mortalidad - Von Neumann\")\n",
    "\n",
    "plt.subplot(2,2,1)\n",
    "var_m2 = [sm_2[0],sm_2[1],sm_2[2]]\n",
    "graficas(var_m2,eti,col,\"SIS con natalidad y mortalidad - Moore\")\n",
    "\n",
    "plt.subplot(2,2,2)\n",
    "var_vn2 = [svn_2[0],svn_2[1],svn_2[2]]\n",
    "graficas(var_m2,eti,col,\"SIS con natalidad y mortalidad - Von Neumann\")\n",
    "\n",
    "plt.show()"
   ]
  },
  {
   "cell_type": "markdown",
   "metadata": {
    "id": "W-mJLrUKsAME"
   },
   "source": [
    "![texto del enlace](https://docs.google.com/drawings/d/e/2PACX-1vS7ICHAzGgiDie9tsl0_laD-fNVN2ROSMcWion5EpqYs_c6qqvxM3QhCi7xKT_naHQRGdzwzAdx_HXr/pub?w=697&h=516)"
   ]
  },
  {
   "cell_type": "markdown",
   "metadata": {
    "id": "xgMinI0-oSX8"
   },
   "source": [
    "Observe que la enfermedad B termina desapareciendo, mientras que la enfermedad F se convierte en una endemia. Esto se debe a que los parámetros en el caso de la enfermedad E y en el contexto del modelo $SIS$ clásico, implican que la enfermedad termina desapareciendo mientras que en el caso de la enfermedad F ocurre todo lo contrario."
   ]
  },
  {
   "cell_type": "markdown",
   "metadata": {
    "id": "OLDzkBGXoUqM"
   },
   "source": [
    "### El modelo $SIR$ con natalidad y mortalidad"
   ]
  },
  {
   "cell_type": "markdown",
   "metadata": {
    "id": "czte7YZCoXx-"
   },
   "source": [
    "Al igual que en el modelo anterior, implementamos la noción de estado de receso o \"muerte\", identificaremos este estado de receso con la letra $D$, el siguiente diagrama nos permitirá comprender la manera en la que se construye el modelo $SIR$ con natalidad y mortalidad:\n",
    "\n",
    "Para poder diseñar las reglas de evolución que gobiernan el comportamiento del modelo $SIR$ con natalidad y mortalidad, implementamos las nociones de edad, tasas de natalidad y mortalidad por grupos de edad descritas anteriormente. Adicionalmente, se tomo en cuenta la regla de evolución para AC con edades (ver el esquema para la evolución de sistemas con edades) para modelar correctamente la evolución de esta característica."
   ]
  },
  {
   "cell_type": "markdown",
   "metadata": {
    "id": "lvA3lBkUo8Jq"
   },
   "source": [
    "Consideremos ahora dos sistemas no lineales con 100 individuos cada uno, ambas poblaciones se agrupan en tres grandes grupos de edad: Un $40\\%$ son menores de 25 años, un $20\\%$ son mayores de 65 años y el $40\\%$ restante corresponde con los individuos que tienen entre 25 y 64 años. Supondremos además que los menores de 15 años tienen una probabilidad de morir del $0.05\\%$, los mayores de 70 un $15\\%$ y los que tienen entre 15 y 69 una probabilidad de fallecimiento del $2\\%$.\n",
    "\n",
    "*   **La enfermedad G:** Posee una tasa de infección del $5\\%$ ($\\beta=0.05$) y una tasa de recuperación $\\alpha$ del $20\\%$. Esta enfermedad afecta únicamente al primer sistema, el cual cuenta con un promedio de 2 nacimientos por individuo.\n",
    "*   **La enfermedad H:** Posee las mismas características que la enfermedad G, con la diferencia de que su tasa de infección es del $50\\%$ y afecta únicamente al segundo sistema.\n",
    "\n",
    "Analizamos el comportamiento de cada enfermedad en un periodo de 200 días sobre sistemas del tipo cuadrado, considerando una población infectada inicial del $10\\%$."
   ]
  },
  {
   "cell_type": "code",
   "execution_count": null,
   "metadata": {
    "executionInfo": {
     "elapsed": 806,
     "status": "ok",
     "timestamp": 1611849186371,
     "user": {
      "displayName": "jorge andres ibañez huertas",
      "photoUrl": "https://lh3.googleusercontent.com/a-/AOh14GhxtY1gv0TE-_5I14fAFDQvitQd7o-GQS0CPcZFxw=s64",
      "userId": "08569590861585362554"
     },
     "user_tz": 300
    },
    "id": "M8ftKPOapK80"
   },
   "outputs": [],
   "source": [
    "system2 = np.zeros((10,10))\n",
    "system2 = initialCondition(0.1,system2)\n",
    "\n",
    "ranges = [[1,25,0.4],[25,64,0.4],[65,90,0.2]]\n",
    "mr = [[1,14,0.0005],[15,69,0.02],[70,100,0.15]]\n",
    "br = 2\n",
    "ages_sys2 = agesMatrix(ranges,system2)\n",
    "\n",
    "sim_1 = birthAndMortavility(\"sir\",0.2,0.05,br,mr,system1,ages_sys1,365,1,1,Moore).basicModel(200)[0]\n",
    "sim_2 = birthAndMortavility(\"sir\",0.2,0.05,br,mr,system1,ages_sys1,365,1,1,Von_Neumann).basicModel(200)[0]\n",
    "sivn_1 = birthAndMortavility(\"sir\",0.2,0.5,br,mr,system1,ages_sys1,365,1,1,Moore).basicModel(200)[0]\n",
    "sivn_2 = birthAndMortavility(\"sir\",0.2,0.5,br,mr,system1,ages_sys1,365,1,1,Von_Neumann).basicModel(200)[0]\n",
    "\n",
    "col_si = [\"y\",\"r\",\"g\",\"b\"]\n",
    "eti_si = [\"ssuceptibles\",\"infectados\",\"recuperados\", \"muertos\"]\n",
    "\n",
    "plt.subplot(2,2,1)\n",
    "var_m1 = [sim_1[0],sim_1[1],sim_1[2],sim_1[3]]\n",
    "graficas(var_m1,eti_si,col_si,\"SIR con natalidad y mortalidad - Moore\")\n",
    "\n",
    "plt.subplot(2,2,2)\n",
    "var_vn1 = [sivn_1[0],sivn_1[1],sivn_1[2],sivn_1[3]]\n",
    "graficas(var_vn1,eti_si,col_si,\"SIR con natalidad y mortalidad - Von Neumann\")\n",
    "\n",
    "plt.subplot(2,2,1)\n",
    "var_m2 = [sim_2[0],sim_2[1],sim_2[2],sim_2[3]]\n",
    "graficas(var_m2,eti_si,col_si,\"SIR con natalidad y mortalidad - Moore\")\n",
    "\n",
    "plt.subplot(2,2,2)\n",
    "var_vn2 = [sivn_2[0],sivn_2[1],sivn_2[2],sivn_2[3]]\n",
    "graficas(var_vn2,eti_si,col_si,\"SIR con natalidad y mortalidad - Von Neumann\")\n",
    "\n",
    "plt.show()"
   ]
  },
  {
   "cell_type": "markdown",
   "metadata": {
    "id": "EiLn0_3pssIF"
   },
   "source": [
    "![texto del enlace](https://docs.google.com/drawings/d/e/2PACX-1vS9K4WcfOM2kgpaR0aK4xUglFZRIjD79Zg1RAiZw9DCGbOXddZfMvEQgBtLTPg8aY_Iea-GL229ZtnI/pub?w=703&h=526)"
   ]
  },
  {
   "cell_type": "markdown",
   "metadata": {
    "id": "2nrxaiC-pYS9"
   },
   "source": [
    "Al igual que como ocurrió en el caso de las enfermedades E y F en el modelo $SIS$ con natalidad y mortalidad, la enfermedad G termina desapareciendo al poco tiempo de iniciar el estudio mientras que la enfermedad alcanza un pico en las primeras semanas para desaparecer posteriormente. Estos comportamientos se deben a los valores de los parámetros que definen cada enfermedad y a sus implicaciones en el modelo $SIR$ clásico."
   ]
  },
  {
   "cell_type": "markdown",
   "metadata": {
    "id": "scePmZqHpdLC"
   },
   "source": [
    "## Modelos $SIS$ y $SIR$ con muerte por enfermedad"
   ]
  },
  {
   "cell_type": "markdown",
   "metadata": {
    "id": "No6fQLOxpgMt"
   },
   "source": [
    "Para construir las reglas de evolución de ambos modelos $SIS$ y $SIR$ con muerte por enfermedad, decidimos implementar los conceptos de edad, tasas de natalidad y mortalidad por grupo de edad e implementarlos de la misma manera que en la sección anterior, adicionalmente implementamos un tipo de tasas que se comporta de manera similar a las tasas de mortalidad por grupo de edad, sin embargo estás afectarán únicamente al estado de infección. A continuación podremos visualizar de manera general, la manera en la que se implementaron las *tasas de mortalidad por enfermedad por grupo de edad*:"
   ]
  },
  {
   "cell_type": "code",
   "execution_count": null,
   "metadata": {},
   "outputs": [],
   "source": [
    "def deathByDiseaseRule(deathFromDiseaseByAgeRange,system,systemAges):   \n",
    "    '''Aplica probabilidades de muerte por enfermedad a grupos de edad sobre el sistema'''\n",
    "    numberOfRows, numberOfColumns = system.shape\n",
    "    systemAgesCopy = insideCopy(systemAges)\n",
    "    systemCopy = insideCopy(system)\n",
    "    infectedIndividualsPerGroup = []\n",
    "    numberOfInfectedIndividualsDeathPerGroup = []\n",
    "    deathPositions = []\n",
    "    for group in range(len(deathFromDiseaseByAgeRange)):\n",
    "        groupPositions = ageGroupPositions(deathFromDiseaseByAgeRange[group][0], \n",
    "                                         deathFromDiseaseByAgeRange[group][1], systemAgesCopy)\n",
    "        infectedIndividuals = []\n",
    "        for individual in range(len(groupPositions)):          \n",
    "            # Aplica la probabilidad de muerte únicamente a los individuos infectados\n",
    "            if system[groupPositions[individual][0],groupPositions[individual][1]] == 1:\n",
    "                infectedIndividuals.append(groupPositions[individual])\n",
    "        numberOfInfectedIndividualsDeath = math.ceil(len(infectedIndividuals)*\n",
    "                                                     deathFromDiseaseByAgeRange[group][2]) - 1\n",
    "        infectedIndividualsPerGroup.append(infectedIndividuals)\n",
    "        numberOfInfectedIndividualsDeathPerGroup.append(numberOfInfectedIndividualsDeath)\n",
    "    for group in range(len(numberOfInfectedIndividualsDeathPerGroup)):\n",
    "        for infectedIndividual in range(numberOfInfectedIndividualsDeathPerGroup[group]):\n",
    "            randomIndividual = random.randint(0,len(infectedIndividualsPerGroup[group]) - 1)\n",
    "            deathPositions.append(infectedIndividualsPerGroup[group][randomIndividual])\n",
    "    for position in range(len(deathPositions)):\n",
    "        systemAgesCopy[deathPositions[position][0]][deathPositions[position][1]] = 0\n",
    "        systemCopy[deathPositions[position][0]][deathPositions[position][1]] = 3\n",
    "    return [systemCopy, systemAgesCopy]"
   ]
  },
  {
   "cell_type": "markdown",
   "metadata": {
    "id": "KJ6JfXS1p4Nq"
   },
   "source": [
    "### El modelo $SIS$ con muerte por enfermedad"
   ]
  },
  {
   "cell_type": "markdown",
   "metadata": {
    "id": "oaUN1vZ2p7qD"
   },
   "source": [
    "El siguiente diagrama nos ayudará a comprender la manera en la que se implementaron las reglas de evolución para el modelo $SIS$ con muerte por enfermedad:\n",
    "\n",
    "Donde al igual que en los modelos con natalidad y mortalidad, identificamos a las tasas de mortalidad por grupo de edad con $\\mu_2$ y la tasa de natalidad con $\\mu_1$, identificaremos además a la tasa de mortalidad por enfermedad por grupo de edad con la letra griega $\\theta$."
   ]
  },
  {
   "cell_type": "code",
   "execution_count": null,
   "metadata": {},
   "outputs": [],
   "source": [
    "class deathByDisease(birthAndMortavility):\n",
    "    def __init__(self,model,alpha,beta,birthRate,probabilityOfDyingByAgeGroup,deathFromDiseaseByAgeRange,system,systemAges,annualUnit,extraRows,extraColumns,neighborhoodType):\n",
    "        self.model = model\n",
    "        self.alpha = alpha; self.beta = beta\n",
    "        self.birthRate = birthRate; self.probabilityOfDyingByAgeGroup = probabilityOfDyingByAgeGroup\n",
    "        self.deathFromDiseaseByAgeRange = deathFromDiseaseByAgeRange\n",
    "        self.system = system; self.nRows, self.nColumns = system.shape\n",
    "        self.systemAges = systemAges; self.annualUnit = annualUnit\n",
    "        self.neighborhoodType = neighborhoodType; self.extraRows = extraRows; self.extraColumns = extraColumns \n",
    "        if self.model == \"sis\":\n",
    "            self.states = [0,1,3]\n",
    "        elif self.model == \"sir\":\n",
    "            self.states = [0,1,2,3]\n",
    "        \n",
    "    def basicRule(self,system,systemAges,timeUnit):\n",
    "        evolution = birthAndMortavility(self.model,self.alpha,self.beta,self.birthRate,self.probabilityOfDyingByAgeGroup,\n",
    "                                        system,systemAges,self.annualUnit,self.extraRows,self.extraColumns,\n",
    "                                        self.neighborhoodType).basicRule(system,systemAges,timeUnit)\n",
    "        systemCopy = insideCopy(evolution[0])\n",
    "        evolutionsAfterDeaths = deathByDiseaseRule(self.deathFromDiseaseByAgeRange,systemCopy,evolution[1])\n",
    "        return evolutionsAfterDeaths\n",
    "    \n",
    "    def basicModel(self,n_iterations,basicSystem=system):\n",
    "        \"\"\"Aplica el modelo n_iterations veces\"\"\"\n",
    "        evolutions = appliedModel(self.basicRule,basicSystem,n_iterations,True,self.systemAges)\n",
    "        return dataVisualization(evolutions,self.states)\n",
    "    \n",
    "    def mediumCurves(self,initialPercentageInfected,n_iterations,n_simulations):\n",
    "        return appliedMediumData(self.basicModel,self.system,initialPercentageInfected,self.states,n_iterations,n_simulations)"
   ]
  },
  {
   "cell_type": "markdown",
   "metadata": {
    "id": "AhcvTMzerL9N"
   },
   "source": [
    "A continuación analizaremos dos casos particulares, cada uno de ellos definidos con parámetros $\\alpha$ y $\\beta$ de modo que al analizarlos en el contexto del modelo clásico obtengamos valores para el indicador $R_0$ mayor y menor a la unidad, recordando que $R_0=\\frac{\\beta}{\\alpha}$.\n",
    "\n",
    "Partiremos de dos sistemas no lineales, cada uno de 100 individuos de modo que el $40\\%$ es menor de 25 años, un $20\\%$ es mayor de 65 años y el $40\\%$ corresponde a los individuos que tienen entre 25 y 64 años, supondremos que por cada individuo nacen en promedio 2 agentes y que las probabilidades de muerte por grupo de edad estarán dadas por la siguiente tabla:\n",
    "\n",
    "*   **La enfermedad I:** Posee una tasa de infección $\\beta$ del $5\\%$ y una tasa de recuperación $\\alpha=0.2$, esta enfermedad esta presente únicamente en el primer sistema y afecta principalmente a individuos mayores de 79 años, llegando a ocasionarles la muerte en un $80\\%$ de los casos, tenemos también a los individuos que tienen entre 46 y 78 años, para este grupo tenemos una probabilidad del $35\\%$ de fallecimiento, mientras que para los que tienen entre 21 y 45 años tenemos el $15\\%$, por último tenemos a los menores de 21 años, los cuales tienen una probabilidad del $8\\%$ de morir por causa de la enfermedad.\n",
    "*   **La enfermedad J:** Afecta únicamente al segundo sistema y actúa de manera similar a la enfermedad I, con la diferencia de que su tasa de contagio $\\beta$ es del $50\\%$.\n",
    "\n",
    "Analizamos el comportamiento de ambas enfermedades sobre un sistema cuadrado en un periodo de 200 días, obteniendo así los siguientes resultados:"
   ]
  },
  {
   "cell_type": "code",
   "execution_count": null,
   "metadata": {
    "executionInfo": {
     "elapsed": 653,
     "status": "ok",
     "timestamp": 1611850369548,
     "user": {
      "displayName": "jorge andres ibañez huertas",
      "photoUrl": "https://lh3.googleusercontent.com/a-/AOh14GhxtY1gv0TE-_5I14fAFDQvitQd7o-GQS0CPcZFxw=s64",
      "userId": "08569590861585362554"
     },
     "user_tz": 300
    },
    "id": "0AgWj3d8rfpM"
   },
   "outputs": [],
   "source": [
    "system3 = np.zeros((10,10))\n",
    "system3 = initialCondition(0.1,system3)\n",
    "\n",
    "ranges = [[1,25,0.4],[25,64,0.4],[65,90,0.2]]\n",
    "mr = [[1,14,0.0005],[15,69,0.02],[70,100,0.15]]\n",
    "br = 2\n",
    "ages_sys3 = agesMatrix(ranges,system3)\n",
    "ranges_dead = [[1,20,0.08],[21,45,0.15],[46,78,0.35],[79,100,0.8]]\n",
    "\n",
    "sm_1 = deathByDisease(\"sis\",0.2,0.05,br,mr,ranges_dead,system3,ages_sys3,365,1,1,Moore).basicModel(200)[0]\n",
    "svn_1 = deathByDisease(\"sis\",0.2,0.05,br,mr,ranges_dead,system3,ages_sys3,365,1,1,Von_Neumann).basicModel(200)[0]\n",
    "sm_2 = deathByDisease(\"sis\",0.2,0.5,br,mr,ranges_dead,system3,ages_sys3,365,1,1,Moore).basicModel(200)[0]\n",
    "svn_2 = deathByDisease(\"sis\",0.2,0.5,br,mr,ranges_dead,system3,ages_sys3,365,1,1,Von_Neumann).basicModel(200)[0]\n",
    "\n",
    "var_m1 = [sm_1[0],sm_1[1],sm_1[2]]\n",
    "var_vn1 = [svn_1[0],svn_1[1],svn_1[2]]\n",
    "var_m2 = [sm_2[0],sm_2[1],sm_2[2]]\n",
    "var_vn2 = [svn_2[0],svn_2[1],svn_2[2]]\n",
    "\n",
    "col_s = [\"y\",\"r\",\"b\"]\n",
    "eti_s = [\"ssuceptibles\", \"infectados\", \"muertos\"]\n",
    "\n",
    "plt.subplot(2,2,1)\n",
    "graficas(var_m1,eti_s,col_s,\"SIS con muerte por enfermedad - Moore\")\n",
    "\n",
    "plt.subplot(2,2,2)\n",
    "graficas(var_vn1,eti_s,col_s,\"SIS con muerte por enfermedad - Von Neumann\")\n",
    "\n",
    "plt.subplot(2,2,3)\n",
    "graficas(var_m2,eti_s,col_s,\"SIS con muerte por enfermedad - Moore\")\n",
    "\n",
    "plt.subplot(2,2,4)\n",
    "graficas(var_vn2,eti_s,col_s,\"SIS con muerte por enfermedad - Von Neumann\")\n",
    "\n",
    "plt.show()"
   ]
  },
  {
   "cell_type": "markdown",
   "metadata": {
    "id": "DiJ1nzXhxNAp"
   },
   "source": [
    "![texto del enlace](https://docs.google.com/drawings/d/e/2PACX-1vSeipC9HyWTQ0ofIow4P1kmGjZQG9Britw9ct-y0sbOoXYi5GePAN4Aav0NCsA6W1xflLYAJzZH4gkd/pub?w=706&h=515)"
   ]
  },
  {
   "cell_type": "markdown",
   "metadata": {
    "id": "RwdUstQAsTEC"
   },
   "source": [
    "Podemos observar que en el caso de la enfermedad I, debido al valor $R_0$ en el contexto del modelo $SIS$ clásico, implica la desaparición de la enfermedad $R_0=\\frac{\\beta}{\\alpha}< 1$. Por otro lado tenemos a la enfermedad J, en donde $R_0>1$ implicando una posible endemia, la cual es evidenciada en la figura b."
   ]
  },
  {
   "cell_type": "markdown",
   "metadata": {
    "id": "H6tTs9Y9sVeS"
   },
   "source": [
    "### El modelo $SIR$ con muerte por enfermedad"
   ]
  },
  {
   "cell_type": "markdown",
   "metadata": {
    "id": "yZ0hFwFpsYu0"
   },
   "source": [
    "Usando la notación que se definió para el modelo $SIS$ con muerte por enfermedad, podemos entender el comportamiento del modelo $SIR$ con muerte por enfermedad como se muestra en el siguiente diagrama:\n",
    "\n",
    "Recordemos que en el caso del modelo $SIR$ clásico, si para una enfermedad particular teníamos un valor de $R_0$ menor que la unidad, está terminaría desapareciendo poco después de iniciar el estudio. Por otro lado si $R_0>1$, la enfermedad alcanzaría un pico para posteriormente tender a su punto de equilibrio [1]. Teniendo esto en mente, analizaremos dos enfermedades de modo que los parámetros que las definan, nos permitan visualizar la manera en que se implementaron las reglas para el modelo $SIR$ con muerte por enfermedad y sus implicaciones para el análisis epidemiológico."
   ]
  },
  {
   "cell_type": "markdown",
   "metadata": {
    "id": "rDYl3hK5snpB"
   },
   "source": [
    "Al igual que en el modelo $SIS$ con muerte por enfermedad, partiremos de dos sistemas no lineales, cada uno de 100 individuos de modo que el $40\\%$ es menor de 25 años, un $20\\%$ es mayor de 70 años y el $40\\%$ corresponde a los individuos que tienen entre 15 y 69 años, supondremos que por cada individuo nacen en promedio 2 agentes y que las probabilidades de muerte por grupo de edad estarán dadas por la siguiente tabla:\n",
    "\n",
    "*   **La enfermedad K:** Posee una tasa de recuperación del $20\\%$ y tasa de infección $\\beta$ del $5\\%$, esta enfermedad esta presente únicamente en el primer sistema afectando principalmente a individuos mayores de 79 años, llegando a ocasionarles la muerte en un $80\\%$ de los casos, tenemos también a los individuos que tienen entre 46 y 78 años, para este grupo tenemos una probabilidad del $35\\%$ de fallecimiento, mientras que para los que tienen entre 21 y 45 años tenemos el $15\\%$, por último tenemos a los menores de 21 años, los cuales tienen una probabilidad del $8\\%$ de morir por causa de la enfermedad.\n",
    "*   **La enfermedad L:** Afecta únicamente al segundo sistema, actuando de manera similar que la enfermedad K con la diferencia de que su tasa de infección $\\beta$ es del $50\\%$.\n",
    "\n",
    "Analizamos el comportamiento de ambas enfermedades en un periodo de 200 días, sobre dos sistemas cuadrados tomando como población infectada a un $10\\%$ de la población.\n",
    "\n",
    "Del lado izquierdo de la siguiente figura podremos observar el comportamiento de la enfermedad K, resaltando la idea de que su evolución se debe a la naturaleza de los parámetros que definen tal enfermedad ($\\alpha$ y $\\beta$ son tales que $R_0=\\frac{\\beta}{\\alpha}< 1$), del mismo modo para la enfermedad L (en esta caso $R_0=\\frac{\\beta}{\\alpha}> 1$)."
   ]
  },
  {
   "cell_type": "code",
   "execution_count": null,
   "metadata": {
    "executionInfo": {
     "elapsed": 1000,
     "status": "ok",
     "timestamp": 1611850613018,
     "user": {
      "displayName": "jorge andres ibañez huertas",
      "photoUrl": "https://lh3.googleusercontent.com/a-/AOh14GhxtY1gv0TE-_5I14fAFDQvitQd7o-GQS0CPcZFxw=s64",
      "userId": "08569590861585362554"
     },
     "user_tz": 300
    },
    "id": "hyVC-ghVs_t6"
   },
   "outputs": [],
   "source": [
    "system4 = np.zeros((10,10))\n",
    "system4 = initialCondition(0.1,system4)\n",
    "\n",
    "ranges = [[1,25,0.4],[25,64,0.4],[65,90,0.2]]\n",
    "mr = [[1,14,0.0005],[15,69,0.02],[70,100,0.15]]\n",
    "br = 2\n",
    "ages_sys4 = agesMatrix(ranges,system4)\n",
    "ranges_dead = [[1,20,0.08],[21,45,0.15],[46,78,0.35],[79,100,0.8]]\n",
    "\n",
    "sim_1 = deathByDisease(\"sir\",0.2,0.05,br,mr,ranges_dead,system3,ages_sys3,365,1,1,Moore).basicModel(200)[0]\n",
    "sivn_1 = deathByDisease(\"sir\",0.2,0.05,br,mr,ranges_dead,system3,ages_sys3,365,1,1,Von_Neumann).basicModel(200)[0]\n",
    "sim_2 = deathByDisease(\"sir\",0.2,0.5,br,mr,ranges_dead,system3,ages_sys3,365,1,1,Moore).basicModel(200)[0]\n",
    "sivn_2 = deathByDisease(\"sir\",0.2,0.5,br,mr,ranges_dead,system3,ages_sys3,365,1,1,Von_Neumann).basicModel(200)[0]\n",
    "\n",
    "var_m1 = [sim_1[0],sim_1[1],sim_1[2],sim_1[3]]\n",
    "var_vn1 = [sivn_1[0],sivn_1[1],sivn_1[2],sivn_1[3]]\n",
    "var_m2 = [sim_2[0],sim_2[1],sim_2[2],sim_2[3]]\n",
    "var_vn2 = [sivn_2[0],sivn_2[1],sivn_2[2],sivn_2[3]]\n",
    "\n",
    "col_si = [\"y\",\"r\",\"g\",\"b\"]\n",
    "eti_si = [\"ssuceptibles\", \"infectados\",\"recuperados\",  \"muertos\"]\n",
    "\n",
    "plt.subplot(2,2,1)\n",
    "graficas(var_m1,eti_si,col_si,\"SIR con muerte por enfermedad - Moore\")\n",
    "\n",
    "plt.subplot(2,2,2)\n",
    "graficas(var_vn1,eti_si,col_si,\"SIR con muerte por enfermedad - Von Neumann\")\n",
    "\n",
    "plt.subplot(2,2,3)\n",
    "graficas(var_m2,eti_si,col_si,\"SIR con muerte por enfermedad - Moore\")\n",
    "\n",
    "plt.subplot(2,2,4)\n",
    "graficas(var_vn2,eti_si,col_si,\"SIR con muerte por enfermedad - Von Neumann\")\n",
    "\n",
    "plt.show()"
   ]
  },
  {
   "cell_type": "markdown",
   "metadata": {
    "id": "RhVFby7GyIS6"
   },
   "source": [
    "![texto del enlace](https://docs.google.com/drawings/d/e/2PACX-1vQAQhw8uEQOJCa-UQYcGvsUBeWWjJyVes7EzzamTtEt9upxxyzl0AyQ23yrh9e-CVnUVStOAa7IJcxI/pub?w=694&h=526)"
   ]
  },
  {
   "cell_type": "markdown",
   "metadata": {
    "id": "txlmPjhPtQLi"
   },
   "source": [
    "## El movimiento"
   ]
  },
  {
   "cell_type": "markdown",
   "metadata": {
    "id": "8wmQV-Y_uA7z"
   },
   "source": [
    "Hasta el momento hemos analizado únicamente sistemas estáticos, es decir, sistemas en los cuales sus agentes no tienen la posibilidad de moverse. Esto implica que la cantidad de vecinos y la manera en la que interactúa es invariante con respecto al tiempo, esto puede llegar a ser una limitación para modelar sistemas reales debido a que no necesariamente se mantienen constantes las cantidades de vecinos para cada agente y esto podría llegar generar cambios en la manera en la que evoluciona la enfermedad.\n",
    "\n",
    "Por tal razón se diseño una estrategia para simular el movimiento de los agentes, partimos del supuesto de que los agentes tienen una probabilidad de moverse la cual dependerá del estado que caracterice al agente. Supongamos por ejemplo que queremos modelar una enfermedad similar a la varicela, claramente los individuos que la posean no se van a desplazar por el espacio de la misma manera que un individuo que no la tiene. \n",
    "\n",
    "Teniendo esto en mente diseñamos un algoritmo que nos permitirá simular el movimiento de los agentes, el cual dependerá estrictamente del estado con el cual cuente cada agente. Inicialmente debemos tener claro los lugares a los cuales se podrán desplazar los agentes, en nuestra simulación usamos el color azul para diferenciar estos espacios de posible desplazamiento. A continuación mostramos un diagrama que nos permitirá comprender la manera en la cual actúa el movimiento sobre el sistema: "
   ]
  },
  {
   "cell_type": "markdown",
   "metadata": {
    "id": "TolfXvK7LS84"
   },
   "source": [
    "### Movimiento aleatorio para cada iteración"
   ]
  },
  {
   "cell_type": "code",
   "execution_count": null,
   "metadata": {
    "id": "nbEwt7PwuItq"
   },
   "outputs": [],
   "source": [
    "#-----El movimiento-----\n",
    "\n",
    "def superposicion(A,B):   #Permiete visualizar dos sistemas sobre un mismo dominio \n",
    "    n,m=A.shape\n",
    "    C=-np.ones((n,m))\n",
    "    for i in range(n):\n",
    "        for j in range(m):\n",
    "            C[i,j]=A[i,j]\n",
    "            if C[i,j]==-1:\n",
    "                C[i,j]=B[i,j]\n",
    "    return C\n",
    "\n",
    "def transport(output,arrival,ages,list_prob):     #Todos los agentes tendrán una probabilidad de moverse, de acuerdo con el estado que posea\n",
    "    n,m=output.shape\n",
    "    A=output; B=arrival; E=ages\n",
    "    A1=np.zeros((n,m)); B1=np.zeros((n,m)); E1=-np.ones((n,m))\n",
    "    V1=[]\n",
    "    for i in range(n):        #Se realiza para evitar ṕroblemas de apuntadores\n",
    "        for j in range(m):\n",
    "            A1[i,j]=A[i,j]\n",
    "            B1[i,j]=B[i,j]\n",
    "            E1[i,j]=E[i,j]\n",
    "    for i in range(list_prob[0][0],list_prob[len(list_prob)-1][0]+1):\n",
    "        V1.append(state_coor(A,i))\n",
    "    for i in range(len(V1)):\n",
    "        V2=state_coor(B1,75)\n",
    "        for j in range(len(V1[i])):\n",
    "            p=random.randint(0,100)\n",
    "            if p <= list_prob[i][1]*100:\n",
    "                k=random.randint(0,len(V1[i])-1)\n",
    "                l=random.randint(0,len(V2)-1)\n",
    "                A1[V1[i][k][0]][V1[i][k][1]]=B[V2[l][0]][V2[l][1]]\n",
    "                B1[V2[l][0]][V2[l][1]]=A[V1[i][k][0]][V1[i][k][1]]\n",
    "                E1[V1[i][k][0]][V1[i][k][1]]=E[V2[l][0]][V2[l][1]]\n",
    "                E1[V2[l][0]][V2[l][1]]=E[V1[i][k][0]][V1[i][k][1]]\n",
    "                V1[i].pop(k); V2.pop(l)\n",
    "    return [A1,B1,E1]"
   ]
  },
  {
   "cell_type": "code",
   "execution_count": null,
   "metadata": {
    "id": "iYfZV-coYhfq"
   },
   "outputs": [],
   "source": [
    "#-----El modelo SIS con movimiento-----\n",
    "\n",
    "def evolution_sis_wm(alpha,beta,list_prob,br,mr,ranges_dead,A,B,E,time_unit,year,p,q,function):    #Regla de evolución para el modelo SIS con movimiento de agentes\n",
    "    C=transport(A,B,E,list_prob)\n",
    "    C=transport(C[1],C[0],C[2],list_prob)\n",
    "    K=C[2]\n",
    "    D=evolution_sis_dd(alpha,beta,br,mr,ranges_dead,C[0],K,time_unit,year,p,q,function)\n",
    "    E=evolution_sis_dd(alpha,beta,br,mr,ranges_dead,C[1],K,time_unit,year,p,q,function)\n",
    "    n,m=A.shape\n",
    "    for i in range(n):\n",
    "        for j in range(m):\n",
    "            if C[0][i,j]==75:\n",
    "                D[0][i,j]=75\n",
    "            if C[1][i,j]==75:\n",
    "                E[0][i,j]=75\n",
    "            if C[2][i,j]==0:\n",
    "                D[0][i,j]=3\n",
    "                E[0][i,j]=3\n",
    "    K=superposicion(D[1],E[1])\n",
    "    for i in range(n):\n",
    "        for j in range(m):\n",
    "            if D[0][i][j]==3 or E[0][i][j]==3:\n",
    "                K[i][j]=0\n",
    "    return [D[0],E[0],K]\n",
    "\n",
    "def evolution_SIS_wm(alpha,beta,tf,list_prob,br,mr,ranges_dead,A,B,E,year,p,q,function):   #Aplica el modelo SIS con movimiento tf veces sobre los sitemas A y B\n",
    "    L1=[A]; L2=[B]; L3=[E]\n",
    "    for i in range(1,tf):\n",
    "        M=evolution_sis_wm(alpha,beta,list_prob,br,mr,ranges_dead,L1[i-1],L2[i-1],L3[i-1],i,year,p,q,function)\n",
    "        L1.append(M[0])\n",
    "        L2.append(M[1])\n",
    "        L3.append(M[2])\n",
    "    return [L1,L2,L3]\n",
    "\n",
    "def SIS_wm_model(alpha,beta,tf,list_prob,br,mr,ranges_dead,A,B,E,year,p,q,function):   #Modelo SIS con movimiento\n",
    "    S=[]; I=[]; D=[]           \n",
    "    CI=np.zeros((tf,2))           \n",
    "    CS=np.zeros((tf,2))           \n",
    "    CD=np.zeros((tf,2))\n",
    "    C=evolution_SIS_wm(alpha,beta,tf,list_prob,br,mr,ranges_dead,A,B,E,year,p,q,function)\n",
    "    for i in range(tf):\n",
    "        M=superposicion(C[0][i],C[1][i])\n",
    "        S.append(count_s(M))      \n",
    "        I.append(count_i(M))   \n",
    "        D.append(count_d(M))\n",
    "    for i in range(tf):           \n",
    "        CS[i][0]=i; CS[i][1]=S[i]   \n",
    "        CI[i][0]=i; CI[i][1]=I[i]   \n",
    "        CD[i][0]=i; CD[i][1]=D[i]   \n",
    "    return [CS,CI,CD,S,I,D,C]\n",
    "\n",
    "def graph_sis_wm(alpha,beta,tf,list_prob,br,mr,ranges_dead,A,B,E,year,p,q,function):   #Gráfica del modelo SIS con movimiento\n",
    "    SIS=SIS_wm_model(alpha,beta,tf,list_prob,br,mr,ranges_dead,A,B,E,year,p,q,function)\n",
    "    three_states_graph_2(SIS[0],SIS[1],SIS[2], \"Modelo SIS con movimiento\") "
   ]
  },
  {
   "cell_type": "code",
   "execution_count": null,
   "metadata": {
    "id": "Mrp8deVgTZk3"
   },
   "outputs": [],
   "source": [
    "#-----El modelo SIR con movimiento-----\n",
    "\n",
    "def evolution_sir_wm(alpha,beta,list_prob,br,mr,ranges_dead,A,B,E,time_unit,year,p,q,function):   #Regla de evolución para el modelo SIR con movimiento de agentes\n",
    "    C=transport(A,B,E,list_prob)\n",
    "    C=transport(C[1],C[0],C[2],list_prob)\n",
    "    K=C[2]\n",
    "    D=evolution_sir_dd(alpha,beta,br,mr,ranges_dead,C[0],K,time_unit,year,p,q,function)\n",
    "    E=evolution_sir_dd(alpha,beta,br,mr,ranges_dead,C[1],K,time_unit,year,p,q,function)\n",
    "    n,m=A.shape\n",
    "    for i in range(n):\n",
    "        for j in range(m):\n",
    "            if C[0][i,j]==75:\n",
    "                D[0][i,j]=75\n",
    "            if C[1][i,j]==75:\n",
    "                E[0][i,j]=75\n",
    "            if C[2][i,j]==0:\n",
    "                D[0][i,j]=3\n",
    "                E[0][i,j]=3\n",
    "    K=superposicion(D[1],E[1])\n",
    "    for i in range(n):\n",
    "        for j in range(m):\n",
    "            if D[0][i][j]==3 or E[0][i][j]==3:\n",
    "                K[i][j]=0\n",
    "    return [D[0],E[0],K]\n",
    "\n",
    "def evolution_SIR_wm(alpha,beta,tf,list_prob,br,mr,ranges_dead,A,B,E,year,p,q,function):   #Aplica el modelo SIR con movimiento tf veces sobre los sitemas A y B\n",
    "    L1=[A]; L2=[B]; L3=[E]\n",
    "    for i in range(1,tf):\n",
    "        M=evolution_sir_wm(alpha,beta,list_prob,br,mr,ranges_dead,L1[i-1],L2[i-1],L3[i-1],i,year,p,q,function)\n",
    "        L1.append(M[0])\n",
    "        L2.append(M[1])\n",
    "        L3.append(M[2])\n",
    "    return [L1,L2,L3]\n",
    "\n",
    "def SIR_wm_model(alpha,beta,tf,list_prob,br,mr,ranges_dead,A,B,E,year,p,q,function):   #Modelo SIR con movimiento\n",
    "    S=[]; I=[]; R=[]; D=[]           \n",
    "    CI=np.zeros((tf,2))           \n",
    "    CS=np.zeros((tf,2))           \n",
    "    CR=np.zeros((tf,2)) \n",
    "    CD=np.zeros((tf,2))\n",
    "    C=evolution_SIR_wm(alpha,beta,tf,list_prob,br,mr,ranges_dead,A,B,E,year,p,q,function)\n",
    "    for i in range(tf):\n",
    "        M=superposicion(C[0][i],C[1][i])\n",
    "        S.append(count_s(M))      \n",
    "        I.append(count_i(M))   \n",
    "        R.append(count_r(M))  \n",
    "        D.append(count_d(M))\n",
    "    for i in range(tf):           \n",
    "        CS[i][0]=i; CS[i][1]=S[i]   \n",
    "        CI[i][0]=i; CI[i][1]=I[i]   \n",
    "        CR[i][0]=i; CR[i][1]=R[i]\n",
    "        CD[i][0]=i; CD[i][1]=D[i]   \n",
    "    return [CS,CR,CI,CD,S,I,R,D,C]\n",
    "\n",
    "def graph_sir_wm(alpha,beta,tf,list_prob,br,mr,ranges_dead,A,B,E,year,p,q,function):   #Gráfica del modelo SIR con movimiento\n",
    "    SIR=SIR_wm_model(alpha,beta,tf,list_prob,br,mr,ranges_dead,A,B,E,year,p,q,function)\n",
    "    four_states_graph(SIR[0],SIR[2],SIR[1],SIR[3], \"Modelo SIR con movimiento\") "
   ]
  },
  {
   "cell_type": "markdown",
   "metadata": {
    "id": "0wIcrCB3LcpP"
   },
   "source": [
    "### Movimiento aleatorio estableciendo los periodos de inmigración "
   ]
  },
  {
   "cell_type": "code",
   "execution_count": null,
   "metadata": {
    "id": "B_Hw2OByjSPU"
   },
   "outputs": [],
   "source": [
    "def carta(A):\n",
    "  n,m = A.shape\n",
    "  c = []\n",
    "  for i in range(n):\n",
    "      for j in range(m):\n",
    "          if A[i,j]!=-1:\n",
    "              c.append([i,j,i,j])\n",
    "  return c\n",
    "\n",
    "def transport(output,arrival,ages_system,list_prob,cartas):     #Todos los agentes tendrán una probabilidad de moverse, de acuerdo con el estado que posea\n",
    "    n,m=output.shape\n",
    "    A=output; B=arrival; E=ages_system\n",
    "    A1=np.zeros((n,m)); B1=np.zeros((n,m)); E1=-np.ones((n,m))\n",
    "    V1=[]\n",
    "    for i in range(n):        #Se realiza para evitar ṕroblemas de apuntadores\n",
    "        for j in range(m):\n",
    "            A1[i,j]=A[i,j]\n",
    "            B1[i,j]=B[i,j]\n",
    "            E1[i,j]=E[i,j]\n",
    "    \n",
    "    c=[]\n",
    "    for i in range(list_prob[0][0],list_prob[len(list_prob)-1][0]+1):\n",
    "        V1.append(state_coor(A,i))\n",
    "    for i in range(len(V1)):\n",
    "        V2=state_coor(B1,75)\n",
    "        for j in range(len(V1[i])):\n",
    "            p=random.randint(0,100)\n",
    "            if p <= list_prob[i][1]*100:\n",
    "                k=random.randint(0,len(V1[i])-1)\n",
    "                l=random.randint(0,len(V2)-1)\n",
    "                A1[V1[i][k][0]][V1[i][k][1]]=B[V2[l][0]][V2[l][1]]\n",
    "                B1[V2[l][0]][V2[l][1]]=A[V1[i][k][0]][V1[i][k][1]]\n",
    "                E1[V1[i][k][0]][V1[i][k][1]]=E[V2[l][0]][V2[l][1]]\n",
    "                E1[V2[l][0]][V2[l][1]]=E[V1[i][k][0]][V1[i][k][1]]\n",
    "                c.append([V1[i][k][0],V1[i][k][1],V2[l][0],V2[l][1]])\n",
    "                V1[i].pop(k); V2.pop(l)\n",
    "    for i in c:\n",
    "        for j in cartas:\n",
    "            if i[0]==j[0] and i[1]==j[1]:\n",
    "                j[2]=i[2]; j[3]=i[3]\n",
    "    for i in range(n):\n",
    "        for j in range(m):\n",
    "            if A1[i,j]!=-1:\n",
    "                B1[i,j]=-1\n",
    "            if B1[i,j]!=-1:\n",
    "                A1[i,j]=-1\n",
    "    return [A1,B1,E1,cartas]\n",
    "\n",
    "def retorno(output,arrival,ages,cartas):\n",
    "    n,m=output.shape\n",
    "    A=output; B=arrival; E=ages\n",
    "    A1=np.zeros((n,m)); B1=np.ones((n,m))*75; E1=-np.ones((n,m))\n",
    "    for i in range(n):        #Se realiza para evitar problemas de apuntadores\n",
    "        for j in range(m):\n",
    "            A1[i,j]=A[i,j]\n",
    "            E1[i,j]=E[i,j]\n",
    "    for i in cartas:\n",
    "        if A1[i[0],i[1]]==75:\n",
    "            A1[i[0],i[1]]=B[i[2],i[3]]\n",
    "            A1[i[2],i[3]]=-1\n",
    "            E1[i[0],i[1]]=E[i[2],i[3]]          \n",
    "    return [A1,B1,E1,carta(A1)]   "
   ]
  },
  {
   "cell_type": "code",
   "execution_count": null,
   "metadata": {
    "id": "zVDZ9yrOAxqT"
   },
   "outputs": [],
   "source": [
    "#-----El modelo SIS con movimiento-----\n",
    "\n",
    "def evolution_sis_wm_t(alpha,beta,br,mr,ranges_dead,A,B,E,list_prob,cartas,time_unit,year,p,q,function):    #Regla de evolución para el modelo SIR con movimiento de agentes\n",
    "    C=transport(A,B,E,list_prob,cartas)\n",
    "    P=C[2]\n",
    "    n,m = A.shape\n",
    "    A1 = -np.ones((n,m)); B1 = -np.ones((n,m))\n",
    "    for i in range(n):\n",
    "      for j in range(m):\n",
    "        A1[i,j]=C[0][i,j]\n",
    "        B1[i,j]=C[1][i,j]\n",
    "        if A1[i,j]==75:\n",
    "          A1[i,j]=-1\n",
    "        if B1[i,j]==75:\n",
    "          B1[i,j]=-1\n",
    "    D=evolution_sis_dd(alpha,beta,br,mr,ranges_dead,A1,P,time_unit,year,p,q,function)\n",
    "    F=evolution_sis_dd(alpha,beta,br,mr,ranges_dead,B1,P,time_unit,year,p,q,function)\n",
    "    K=-np.ones((n,m))\n",
    "    for i in range(n):\n",
    "      for j in range(m):\n",
    "        if D[1][i,j]!=-1:\n",
    "          K[i,j]=D[1][i,j]\n",
    "        if F[1][i,j]!=-1:\n",
    "          K[i,j]=F[1][i,j]   \n",
    "    for i in range(n):\n",
    "      for j in range(m):\n",
    "        if C[0][i,j]==75:\n",
    "          D[0][i,j]=75\n",
    "        if C[1][i,j]==75:\n",
    "          F[0][i,j]=75\n",
    "    return [D[0],F[0],K,C[3]]\n",
    "\n",
    "def evolution_sis_wm_r(alpha,beta,br,mr,ranges_dead,A,B,E,cartas,time_unit,year,p,q,function):    #Regla de evolución para el modelo SIR con movimiento de agentes\n",
    "    C=retorno(A,B,E,cartas)\n",
    "    P=C[2]\n",
    "    D=evolution_sis_dd(alpha,beta,br,mr,ranges_dead,C[0],P,time_unit,year,p,q,function)\n",
    "    return [D[0],C[1],D[1],C[3]]\n",
    "\n",
    "def evolution_sis_wm(alpha,beta,br,mr,ranges_dead,A,B,E,list_prob,cartas,time_unit,year,text,p,q,function):\n",
    "    if str(text)==\"T\":\n",
    "      P = evolution_sis_wm_t(alpha,beta,br,mr,ranges_dead,A,B,E,list_prob,cartas,time_unit,year,p,q,function)\n",
    "    elif str(text)==\"R\":\n",
    "      P = evolution_sis_wm_r(alpha,beta,br,mr,ranges_dead,A,B,E,cartas,time_unit,year,p,q,function)\n",
    "    for i in range(n):\n",
    "      for j in range(m):\n",
    "        if A[i,j]==-1:\n",
    "          P[0][i,j]=-1\n",
    "        if B[i,j]==-1:\n",
    "          P[1][i,j]=-1\n",
    "    return P\n",
    "\n",
    "def evolution_SIS_wm(alpha,beta,br,mr,ranges_dead,A,B,E,tf,list_prob,cartas,year,list_text,p,q,function):   #Aplica el modelo SIS con movimiento tf veces sobre los sitemas A y B\n",
    "    L1=[A]; L2=[B]; L3=[E]; C=[cartas]\n",
    "    for i in range(1,tf):\n",
    "        M=evolution_sis_wm(alpha,beta,br,mr,ranges_dead,L1[i-1],L2[i-1],L3[i-1],list_prob,C[i-1],i,year,list_text[i-1],p,q,function)\n",
    "        L1.append(M[0])\n",
    "        L2.append(M[1])\n",
    "        L3.append(M[2])\n",
    "        C.append(M[3])\n",
    "    return [L1,L2,L3,C]\n",
    "\n",
    "def SIS_wm_model(alpha,beta,br,mr,ranges_dead,A,B,E,tf,list_prob,cartas,year,list_text,p,q,function):   #Modelo SIS con movimiento\n",
    "    S=[]; I=[]; D=[]           \n",
    "    CI=np.zeros((tf,2))           \n",
    "    CS=np.zeros((tf,2))           \n",
    "    CD=np.zeros((tf,2))\n",
    "    C=evolution_SIS_wm(alpha,beta,br,mr,ranges_dead,A,B,E,tf,list_prob,cartas,year,list_text,p,q,function)\n",
    "    for i in range(tf):\n",
    "        M=superposicion(C[0][i],C[1][i])\n",
    "        S.append(count_s(M))      \n",
    "        I.append(count_i(M))   \n",
    "        D.append(count_d(M))\n",
    "    for i in range(tf):           \n",
    "        CS[i][0]=i; CS[i][1]=S[i]   \n",
    "        CI[i][0]=i; CI[i][1]=I[i]   \n",
    "        CD[i][0]=i; CD[i][1]=D[i]   \n",
    "    return [CS,CI,CD,S,I,D,C]"
   ]
  },
  {
   "cell_type": "code",
   "execution_count": null,
   "metadata": {
    "id": "5m8izQBILgI0"
   },
   "outputs": [],
   "source": [
    "#-----El modelo SIR con movimiento-----\n",
    "\n",
    "def evolution_sir_wm_t(alpha,beta,br,mr,ranges_dead,A,B,E,list_prob,cartas,time_unit,year,p,q,function):    #Regla de evolución para el modelo SIR con movimiento de agentes\n",
    "    C=transport(A,B,E,list_prob,cartas)\n",
    "    P=C[2]\n",
    "    n,m = A.shape\n",
    "    A1 = -np.ones((n,m)); B1 = -np.ones((n,m))\n",
    "    for i in range(n):\n",
    "      for j in range(m):\n",
    "        A1[i,j]=C[0][i,j]\n",
    "        B1[i,j]=C[1][i,j]\n",
    "        if A1[i,j]==75:\n",
    "          A1[i,j]=-1\n",
    "        if B1[i,j]==75:\n",
    "          B1[i,j]=-1\n",
    "    D=evolution_sir_dd(alpha,beta,br,mr,ranges_dead,A1,P,time_unit,year,p,q,function)\n",
    "    F=evolution_sir_dd(alpha,beta,br,mr,ranges_dead,B1,P,time_unit,year,p,q,function)\n",
    "    K=-np.ones((n,m))\n",
    "    for i in range(n):\n",
    "      for j in range(m):\n",
    "        if D[1][i,j]!=-1:\n",
    "          K[i,j]=D[1][i,j]\n",
    "        if F[1][i,j]!=-1:\n",
    "          K[i,j]=F[1][i,j]   \n",
    "    for i in range(n):\n",
    "      for j in range(m):\n",
    "        if C[0][i,j]==75:\n",
    "          D[0][i,j]=75\n",
    "        if C[1][i,j]==75:\n",
    "          F[0][i,j]=75\n",
    "    return [D[0],F[0],K,C[3]]\n",
    "\n",
    "def evolution_sir_wm_r(alpha,beta,br,mr,ranges_dead,A,B,E,cartas,time_unit,year,p,q,function):    #Regla de evolución para el modelo SIR con movimiento de agentes\n",
    "    C=retorno(A,B,E,cartas)\n",
    "    P=C[2]\n",
    "    D=evolution_sir_dd(alpha,beta,br,mr,ranges_dead,C[0],P,time_unit,year,p,q,function)\n",
    "    return [D[0],C[1],D[1],C[3]]\n",
    "\n",
    "def evolution_sir_wm(alpha,beta,br,mr,ranges_dead,A,B,E,list_prob,cartas,time_unit,year,text,p,q,function):\n",
    "    if str(text)==\"T\":\n",
    "      P = evolution_sir_wm_t(alpha,beta,br,mr,ranges_dead,A,B,E,list_prob,cartas,time_unit,year,p,q,function)\n",
    "    elif str(text)==\"R\":\n",
    "      P = evolution_sir_wm_r(alpha,beta,br,mr,ranges_dead,A,B,E,cartas,time_unit,year,p,q,function)\n",
    "    n,m=A.shape\n",
    "    for i in range(n):\n",
    "      for j in range(m):\n",
    "        if A[i,j]==-1:\n",
    "          P[0][i,j]=-1\n",
    "        if B[i,j]==-1:\n",
    "          P[1][i,j]=-1\n",
    "    return P\n",
    "\n",
    "def evolution_SIR_wm(alpha,beta,br,mr,ranges_dead,A,B,E,tf,list_prob,cartas,year,list_text,p,q,function):   #Aplica el modelo SIS con movimiento tf veces sobre los sitemas A y B\n",
    "    L1=[A]; L2=[B]; L3=[E]; C=[cartas]\n",
    "    for i in range(1,tf):\n",
    "        M=evolution_sir_wm(alpha,beta,br,mr,ranges_dead,L1[i-1],L2[i-1],L3[i-1],list_prob,C[i-1],i,year,list_text[i-1],p,q,function)\n",
    "        L1.append(M[0])\n",
    "        L2.append(M[1])\n",
    "        L3.append(M[2])\n",
    "        C.append(M[3])\n",
    "    return [L1,L2,L3,C]\n",
    "\n",
    "def SIR_wm_model(alpha,beta,br,mr,ranges_dead,A,B,E,tf,list_prob,cartas,year,list_text,p,q,function):   #Modelo SIR con movimiento\n",
    "    S=[]; I=[]; R=[]; D=[]           \n",
    "    CI=np.zeros((tf,2))           \n",
    "    CS=np.zeros((tf,2))           \n",
    "    CR=np.zeros((tf,2)) \n",
    "    CD=np.zeros((tf,2))\n",
    "    C=evolution_SIR_wm(alpha,beta,br,mr,ranges_dead,A,B,E,tf,list_prob,cartas,year,list_text,p,q,function)\n",
    "    for i in range(tf):\n",
    "        M=superposicion(C[0][i],C[1][i])\n",
    "        S.append(count_s(M))      \n",
    "        I.append(count_i(M)) \n",
    "        R.append(count_r(M))   \n",
    "        D.append(count_d(M))\n",
    "    for i in range(tf):           \n",
    "        CS[i][0]=i; CS[i][1]=S[i]   \n",
    "        CI[i][0]=i; CI[i][1]=I[i]   \n",
    "        CR[i][0]=i; CR[i][1]=R[i]\n",
    "        CD[i][0]=i; CD[i][1]=D[i]   \n",
    "    return [CS,CR,CI,CD,S,I,R,D,C]"
   ]
  },
  {
   "cell_type": "markdown",
   "metadata": {
    "id": "f2teozngvQBM"
   },
   "source": [
    "##  El Covid-19 en la cárcel de Villavicencio\n"
   ]
  },
  {
   "cell_type": "code",
   "execution_count": null,
   "metadata": {
    "colab": {
     "base_uri": "https://localhost:8080/",
     "height": 285
    },
    "executionInfo": {
     "elapsed": 1443,
     "status": "ok",
     "timestamp": 1598302936175,
     "user": {
      "displayName": "jorge andres ibañez huertas",
      "photoUrl": "https://lh3.googleusercontent.com/a-/AOh14GhxtY1gv0TE-_5I14fAFDQvitQd7o-GQS0CPcZFxw=s64",
      "userId": "08569590861585362554"
     },
     "user_tz": 300
    },
    "id": "q667WYSFZId1",
    "outputId": "2c8906d6-5284-4b30-8b96-412196244c50"
   },
   "outputs": [],
   "source": [
    "#-----Definición del sistema-----\n",
    "\n",
    "cv=-np.ones((80,71))\n",
    "b1=domain_definition(8,5,65,64,cv)\n",
    "b2=domain_definition(10,5,55,65,cv)\n",
    "b3=domain_definition(4,4,50,64,cv)\n",
    "b4=domain_definition(4,2,49,61,cv)\n",
    "b5=domain_definition(4,9,50,51,cv)\n",
    "b6=domain_definition(5,11,48,39,cv)\n",
    "b7=domain_definition(6,22,41,40,cv)\n",
    "b8=domain_definition(6,4,55,57,cv)\n",
    "b9=domain_definition(10,6,55,50,cv); b9=domain_definition(7,2,58,48,b9); b9=domain_definition(3,4,58,45,b9)\n",
    "b10=domain_definition(4,5,62,57,cv)\n",
    "b11=domain_definition(5,7,70,55,cv); b11=domain_definition(4,2,71,53,b11)\n",
    "b12=domain_definition(5,9,65,42,cv); b12=domain_definition(3,3,65,51,b12); b12=domain_definition(5,1,66,41,b12); b12=domain_definition(5,1,67,40,b12); b12=domain_definition(3,1,68,39,b12); b12=domain_definition(1,1,69,38,b12)\n",
    "b13=domain_definition(1,4,64,38,cv); b13=domain_definition(1,2,63,39,b13); b13=domain_definition(1,4,65,37,b13); b13=domain_definition(1,4,66,36,b13); b13=domain_definition(1,4,67,35,b13); b13=domain_definition(1,4,68,34,b13); b13=domain_definition(1,2,69,35,b13)\n",
    "b14=domain_definition(4,3,57,40,cv); b14=domain_definition(6,2,56,38,b14); b14=domain_definition(8,3,55,35,b14)\n",
    "b15=domain_definition(7,10,34,37,cv)\n",
    "b16=domain_definition(17,9,17,35,cv); b16=domain_definition(5,5,23,44,b16); b16=domain_definition(12,1,17,34,b16); b16=domain_definition(10,1,17,33,b16)\n",
    "b17=domain_definition(3,11,75,21,cv)\n",
    "b18=domain_definition(8,3,55,30,cv)\n",
    "b19=domain_definition(5,6,66,26,cv)\n",
    "b20=domain_definition(9,20,54,8,cv); b20=domain_definition(4,7,63,15,b20); b20=domain_definition(4,8,50,10,b20); b20=domain_definition(3,1,63,14,b20)\n",
    "b21=domain_definition(3,2,60,28,cv)\n",
    "b22=domain_definition(6,14,67,11,cv); b22=domain_definition(2,7,73,11,b22)\n",
    "b23=domain_definition(6,4,47,4,cv)\n",
    "b24=domain_definition(4,8,47,12,cv)\n",
    "\n",
    "b25=domain_definition(13,1,38,23,cv); b25=domain_definition(5,1,44,22,b25); b25=domain_definition(1,1,46,21,b25)\n",
    "b25=domain_definition(3,1,39,22,b25); b25=domain_definition(1,1,40,21,b25); b25=domain_definition(13,1,37,24,b25); b25=domain_definition(11,1,38,25,b25)\n",
    "b25=domain_definition(9,1,39,26,b25); b25=domain_definition(7,1,40,27,b25); b25=domain_definition(7,1,39,28,b25); b25=domain_definition(7,1,38,29,b25)\n",
    "b25=domain_definition(7,1,37,30,b25); b25=domain_definition(7,1,36,31,b25); b25=domain_definition(7,1,35,32,b25); b25=domain_definition(5,1,36,33,b25)\n",
    "b25=domain_definition(3,1,37,34,b25); b25=domain_definition(1,1,38,35,b25)\n",
    "\n",
    "b26=domain_definition(1,2,51,25,cv)\n",
    "b27=domain_definition(4,3,48,28,cv)\n",
    "b28=domain_definition(4,6,44,32,cv)\n",
    "b29=domain_definition(6,4,30,5,cv); b29=domain_definition(6,4,32,9,b29)\n",
    "b30=domain_definition(10,6,22,11,cv); b30=domain_definition(3,3,29,17,b30)\n",
    "b31=domain_definition(6,10,12,18,cv)\n",
    "\n",
    "#-----Condición inicial-----\n",
    "\n",
    "b17=initial_condition(0.6,b17)\n",
    "\n",
    "ecv=[b1,b2,b3,b4,b5,b6,b7,b8,b9,b10,b11,b12,b13,b14,b15,b16,b17,b18,b19,b20,b21,b22,b23,b24,b25,b26,b27,b28,b29,b30,b31]\n",
    "for i in range(len(ecv)):\n",
    "    cv=superposicion(cv,ecv[i])\n",
    "\n",
    "#-----Condiciones de la población-----\n",
    "\n",
    "ranges = [[18,39,0.71],[40,69,0.21],[70,90,0.08]]\n",
    "ages_cv = ages(ranges, cv)\n",
    "rd = [[1,19,0.0018],[20,39,0.0047],[40,59,0.0259],[60,79,0.1481],[80,150,0.3014]]\n",
    "lp = [[0,0.29],[1,0.15],[2,0.29]]\n",
    "mr = [[15,19,0.00538],[20,24,0.00932],[25,29,0.00936],[30,34,0.0095],[35,39,0.01097],[40,44,0.01351],[45,49,0.01869],[50,54,0.02862],[55,59,0.04382],[60,64,0.06926],[65,69,0.11008],[70,74,0.17105],[75,79,0.264870],[80,150,1]]\n",
    "\n",
    "plt.imshow(color(cv),cmap=\"nipy_spectral\", interpolation='nearest')"
   ]
  },
  {
   "cell_type": "code",
   "execution_count": null,
   "metadata": {
    "colab": {
     "base_uri": "https://localhost:8080/",
     "height": 285
    },
    "executionInfo": {
     "elapsed": 668,
     "status": "ok",
     "timestamp": 1598302939745,
     "user": {
      "displayName": "jorge andres ibañez huertas",
      "photoUrl": "https://lh3.googleusercontent.com/a-/AOh14GhxtY1gv0TE-_5I14fAFDQvitQd7o-GQS0CPcZFxw=s64",
      "userId": "08569590861585362554"
     },
     "user_tz": 300
    },
    "id": "ZVqFpK5kamSz",
    "outputId": "be694453-7800-4049-b9c8-182cb8f73e3c"
   },
   "outputs": [],
   "source": [
    "cvv=np.ones((80,71))\n",
    "for i in range(80):\n",
    "    for j in range(71):\n",
    "        if cv[i,j]==-1:\n",
    "            cvv[i,j]=75\n",
    "        else: \n",
    "            cvv[i,j]=-1\n",
    "\n",
    "plt.imshow(color(superposicion(cv,cvv)),cmap=\"nipy_spectral\", interpolation='nearest')"
   ]
  },
  {
   "cell_type": "code",
   "execution_count": null,
   "metadata": {
    "colab": {
     "base_uri": "https://localhost:8080/",
     "height": 295
    },
    "executionInfo": {
     "elapsed": 863,
     "status": "ok",
     "timestamp": 1598303002998,
     "user": {
      "displayName": "jorge andres ibañez huertas",
      "photoUrl": "https://lh3.googleusercontent.com/a-/AOh14GhxtY1gv0TE-_5I14fAFDQvitQd7o-GQS0CPcZFxw=s64",
      "userId": "08569590861585362554"
     },
     "user_tz": 300
    },
    "id": "-NA6WqRSbRX7",
    "outputId": "32365296-7917-492a-fbea-161413b98731"
   },
   "outputs": [],
   "source": [
    "#-----Datos \"reales\"-----\n",
    "\n",
    "D=[20,0,0,0,27,40,42,0,0,77,17,107,4,5,103,1,85,0,149,0,22,73,63,21,3,6,1,1,0,0,0,0,9,1,0,0,0,0,0,0,1,0,0,0,0,0,0,0,0,0,0,0,0,0]\n",
    "D1=[20]\n",
    "for i in range(len(D)-1):\n",
    "    D1.append(D1[i]+D[i+1])\n",
    "Data=np.zeros((len(D),2))\n",
    "Data1=np.zeros((len(D1),2))\n",
    "for i in range(len(D1)):\n",
    "    Data1[i,0]=i; Data1[i,1]=D1[i]/1782\n",
    "\n",
    "graficas([Data1],[\"Datos reales\"],[\"b\"],\"Cárcel de Villavicencio\")"
   ]
  },
  {
   "cell_type": "code",
   "execution_count": null,
   "metadata": {
    "colab": {
     "base_uri": "https://localhost:8080/",
     "height": 295
    },
    "executionInfo": {
     "elapsed": 80008,
     "status": "ok",
     "timestamp": 1598303275931,
     "user": {
      "displayName": "jorge andres ibañez huertas",
      "photoUrl": "https://lh3.googleusercontent.com/a-/AOh14GhxtY1gv0TE-_5I14fAFDQvitQd7o-GQS0CPcZFxw=s64",
      "userId": "08569590861585362554"
     },
     "user_tz": 300
    },
    "id": "7iyEERqdvZKK",
    "outputId": "7f93c73d-4108-4723-8679-9a04f08fa356"
   },
   "outputs": [],
   "source": [
    "list_text=[\"R\",\"T\"]*100\n",
    "I = SIR_wm_model(0.005767,0.486531,0,mr,rd,cv,cvv,ages_cv,200,lp,carta(ages_cv),365,list_text,1,1,Moore)\n",
    "graficas([Data1,I[2]], [\"Datos reales\", \"Implementación en AC\"], [\"b\",\"g\"], \"Validación de la implementación\")"
   ]
  },
  {
   "cell_type": "code",
   "execution_count": null,
   "metadata": {
    "id": "hdx7b7u8TU4U"
   },
   "outputs": [],
   "source": [
    "Covid_CV=[]\n",
    "for i in range(len(I[8][0])):\n",
    "  Covid_CV.append(superposicion(I[8][0][i],I[8][1][i]))\n",
    "for i in range(len(Covid_CV)):\n",
    "  plt.imshow(color(Covid_CV[i]),cmap=\"nipy_spectral\", interpolation='nearest')\n",
    "  plt.savefig('Covid_CV'+str(i)+'.jpg')"
   ]
  },
  {
   "cell_type": "code",
   "execution_count": null,
   "metadata": {
    "id": "k4q6es1rTU4X"
   },
   "outputs": [],
   "source": [
    "img_Covid_CV = []\n",
    "for i in range(len(Covid_CV)):\n",
    "    img = cv2.imread('Covid_CV'+str(i)+'.jpg')\n",
    "    height, width, layers = img.shape\n",
    "    size = (width,height)\n",
    "    img_Covid_CV.append(img)"
   ]
  },
  {
   "cell_type": "code",
   "execution_count": null,
   "metadata": {
    "id": "_pnZKKJKTU4b"
   },
   "outputs": [],
   "source": [
    "out = cv2.VideoWriter('Covid_CV.avi',cv2.VideoWriter_fourcc(*'DIVX'), 15, size)\n",
    " \n",
    "for i in range(len(img_Covid_CV)):\n",
    "    out.write(img_Covid_CV[i])\n",
    "out.release()"
   ]
  },
  {
   "cell_type": "markdown",
   "metadata": {
    "id": "9eMug7_bmqJ1"
   },
   "source": [
    "# Pruebas norma\n",
    "\n"
   ]
  },
  {
   "cell_type": "code",
   "execution_count": null,
   "metadata": {
    "id": "WWwdfab1oq3B"
   },
   "outputs": [],
   "source": [
    "def norma(L1, L2):\n",
    "  L = []\n",
    "  for i in range(len(L1)):\n",
    "    L.append(np.sqrt((L1[i]-L2[i])**2))\n",
    "  return L"
   ]
  },
  {
   "cell_type": "code",
   "execution_count": null,
   "metadata": {
    "id": "wr4uUWa8uS78"
   },
   "outputs": [],
   "source": [
    "A = np.zeros((10,10))\n",
    "A_moore = medium_curves_sis(0.2,0.5,30,100,0.1,A,1,1,Moore)\n",
    "A_vn = medium_curves_sis(0.2,0.5,30,100,0.1,A,1,1,Moore)"
   ]
  },
  {
   "cell_type": "code",
   "execution_count": null,
   "metadata": {
    "id": "NHtjNWFJvfN3"
   },
   "outputs": [],
   "source": [
    "plt.plot(A_moore[2])\n",
    "plt.plot(A_vn[2])\n",
    "\n",
    "plt.show()"
   ]
  },
  {
   "cell_type": "code",
   "execution_count": null,
   "metadata": {
    "id": "3-Wo0tpGwzRi"
   },
   "outputs": [],
   "source": [
    "plt.plot(norma(A_moore[2],A_vn[2]))"
   ]
  },
  {
   "cell_type": "code",
   "execution_count": null,
   "metadata": {
    "id": "1mlw9Ck1w586"
   },
   "outputs": [],
   "source": [
    "graph_sir_S(0.2,0.5,30,A,1,1,Moore)"
   ]
  },
  {
   "cell_type": "markdown",
   "metadata": {
    "id": "-xAt3E9otkI1"
   },
   "source": [
    "# Pruebas"
   ]
  },
  {
   "cell_type": "code",
   "execution_count": null,
   "metadata": {
    "id": "TLSPclkVND33"
   },
   "outputs": [],
   "source": [
    "#-----El movimiento-----\n",
    "\n",
    "def carta(A):\n",
    "  n,m = A.shape\n",
    "  c = []\n",
    "  for i in range(n):\n",
    "      for j in range(m):\n",
    "          if A[i,j]!=-1:\n",
    "              c.append([i,j,i,j])\n",
    "  return c\n",
    "\n",
    "def superposicion(A,B):   #Permiete visualizar dos sistemas sobre un mismo dominio \n",
    "    n,m=A.shape\n",
    "    C=-np.ones((n,m))\n",
    "    for i in range(n):\n",
    "        for j in range(m):\n",
    "            C[i,j]=A[i,j]\n",
    "            if C[i,j]==-1:\n",
    "                C[i,j]=B[i,j]\n",
    "    return C\n",
    "\n",
    "def transport(output,arrival,ages_system,list_prob,cartas):     #Todos los agentes tendrán una probabilidad de moverse, de acuerdo con el estado que posea\n",
    "    n,m=output.shape\n",
    "    A=output; B=arrival; E=ages_system\n",
    "    A1=np.zeros((n,m)); B1=np.zeros((n,m)); E1=-np.ones((n,m))\n",
    "    V1=[]\n",
    "    for i in range(n):        #Se realiza para evitar ṕroblemas de apuntadores\n",
    "        for j in range(m):\n",
    "            A1[i,j]=A[i,j]\n",
    "            B1[i,j]=B[i,j]\n",
    "            E1[i,j]=E[i,j]\n",
    "    \n",
    "    c=[]\n",
    "    for i in range(list_prob[0][0],list_prob[len(list_prob)-1][0]+1):\n",
    "        V1.append(state_coor(A,i))\n",
    "    for i in range(len(V1)):\n",
    "        V2=state_coor(B1,75)\n",
    "        for j in range(len(V1[i])):\n",
    "            p=random.randint(0,100)\n",
    "            if p <= list_prob[i][1]*100:\n",
    "                k=random.randint(0,len(V1[i])-1)\n",
    "                l=random.randint(0,len(V2)-1)\n",
    "                A1[V1[i][k][0]][V1[i][k][1]]=B[V2[l][0]][V2[l][1]]\n",
    "                B1[V2[l][0]][V2[l][1]]=A[V1[i][k][0]][V1[i][k][1]]\n",
    "                E1[V1[i][k][0]][V1[i][k][1]]=E[V2[l][0]][V2[l][1]]\n",
    "                E1[V2[l][0]][V2[l][1]]=E[V1[i][k][0]][V1[i][k][1]]\n",
    "                c.append([V1[i][k][0],V1[i][k][1],V2[l][0],V2[l][1]])\n",
    "                V1[i].pop(k); V2.pop(l)\n",
    "    for i in c:\n",
    "        for j in cartas:\n",
    "            if i[0]==j[0] and i[1]==j[1]:\n",
    "                j[2]=i[2]; j[3]=i[3]\n",
    "    return [A1,B1,E1,cartas]\n",
    "\n",
    "def retorno(output,arrival,ages,cartas):\n",
    "    n,m=output.shape\n",
    "    A=output; B=arrival; E=ages\n",
    "    A1=np.zeros((n,m)); B1=np.zeros((n,m)); E1=-np.ones((n,m))\n",
    "    for i in range(n):        #Se realiza para evitar problemas de apuntadores\n",
    "        for j in range(m):\n",
    "            A1[i,j]=A[i,j]\n",
    "            B1[i,j]=B[i,j]\n",
    "            E1[i,j]=E[i,j]\n",
    "    for i in cartas:\n",
    "        if A1[i[0],i[1]]==75:\n",
    "            A1[i[0],i[1]]=B[i[2],i[3]]\n",
    "            A1[i[2],i[3]]=-1\n",
    "            E1[i[0],i[1]]=E[i[2],i[3]]\n",
    "        if B1[i[2],i[3]]!=75 and B1[i[2],i[3]]!=-1:\n",
    "            B1[i[2],i[3]]=A[i[0],i[1]]\n",
    "            B1[i[2],i[3]]=75\n",
    "            E1[i[2],i[3]]=-1\n",
    "    return [A1,B1,E1,carta(A1)]   "
   ]
  },
  {
   "cell_type": "code",
   "execution_count": null,
   "metadata": {
    "id": "YBmCvySB3R2p"
   },
   "outputs": [],
   "source": [
    "alpha=0.1;beta=0.9;br=2;mr=[[0,100,0]];ranges_dead=[[0,100,0]]\n",
    "A=-np.ones((10,10)); A=domain_definition(5,5,3,3,A); A=initial_condition(0.1,A)\n",
    "tf = 30\n",
    "B=np.ones((10,10))*75\n",
    "for i in range(10):\n",
    "  for j in range(10):\n",
    "    if A[i,j]!=-1:\n",
    "      B[i,j]=-1\n",
    "E=ages([[1,20,1]],A)\n",
    "list_prob = [[0,0.5],[1,0.5],[2,0.5]]; cartas=carta(A); time_unit=2; year=2; text=\"T\"; p=1; q=1; function = Moore\n",
    "list_text=[\"T\",\"T\",\"R\",\"T\",\"T\"]*6"
   ]
  },
  {
   "cell_type": "code",
   "execution_count": null,
   "metadata": {
    "id": "zSIg5YYd_Q4S"
   },
   "outputs": [],
   "source": [
    "list_text=[\"R\",\"T\"]*100\n",
    "I = SIR_wm_model(0.005767,0.486531,0,mr,rd,cv,cvv,ages_cv,200,lp,carta(ages_cv),365,list_text,1,1,Moore)"
   ]
  },
  {
   "cell_type": "code",
   "execution_count": null,
   "metadata": {
    "id": "lSpGL-0ZsyBR"
   },
   "outputs": [],
   "source": [
    "Covid_CV=[]\n",
    "for i in range(len(I[8][0])):\n",
    "  Covid_CV.append(superposicion(I[8][0][i],I[8][1][i]))\n",
    "for i in range(len(Covid_CV)):\n",
    "  plt.imshow(color(Covid_CV[i]),cmap=\"nipy_spectral\", interpolation='nearest')\n",
    "  plt.savefig('Covid_CV'+str(i)+'.jpg')"
   ]
  },
  {
   "cell_type": "code",
   "execution_count": null,
   "metadata": {
    "id": "i3pBoy3msyBU"
   },
   "outputs": [],
   "source": [
    "img_Covid_CV = []\n",
    "for i in range(len(Covid_CV)):\n",
    "    img = cv2.imread('Covid_CV'+str(i)+'.jpg')\n",
    "    height, width, layers = img.shape\n",
    "    size = (width,height)\n",
    "    img_Covid_CV.append(img)"
   ]
  },
  {
   "cell_type": "code",
   "execution_count": null,
   "metadata": {
    "id": "O8iMRL7esyBX"
   },
   "outputs": [],
   "source": [
    "out = cv2.VideoWriter('Covid_CV.avi',cv2.VideoWriter_fourcc(*'DIVX'), 15, size)\n",
    " \n",
    "for i in range(len(img_Covid_CV)):\n",
    "    out.write(img_Covid_CV[i])\n",
    "out.release()"
   ]
  },
  {
   "cell_type": "code",
   "execution_count": null,
   "metadata": {
    "id": "DWwR15sJv-hq"
   },
   "outputs": [],
   "source": [
    "graph_sir_wm(0.005767,0.486531,0,mr,rd,cv,cvv,ages_cv,200,lp,carta(ages_cv),365,list_text,1,1,Moore)"
   ]
  },
  {
   "cell_type": "code",
   "execution_count": null,
   "metadata": {
    "id": "mkkDFjggNqdY"
   },
   "outputs": [],
   "source": [
    "num_individuals(superposicion(I[8][0][50],I[8][1][50]))"
   ]
  },
  {
   "cell_type": "code",
   "execution_count": null,
   "metadata": {
    "id": "oNuk2dQ1OVa8"
   },
   "outputs": [],
   "source": [
    "num_individuals(superposicion(I[8][0][51],I[8][1][51]))"
   ]
  }
 ],
 "metadata": {
  "colab": {
   "collapsed_sections": [
    "aD_v_OylwYf7",
    "Wt-1EKYPwrgT",
    "jrX9mkXFmiXs",
    "u4isBsfo14qM",
    "sZjWuy_W2LMP",
    "8_FAQ-Z92P7u",
    "G_hk4pzD89pu",
    "AokbfXvADN3t",
    "aOWubO1ExIGq",
    "hL7QWG5iE4Pb",
    "go_Nkpl5Y4Gq",
    "qniX9nuMdpCF",
    "TJjbfM9keVa9",
    "EexA7iNfYTCw",
    "MrDC3MGThv6l",
    "yyIsCoX1iV9W",
    "OLDzkBGXoUqM",
    "scePmZqHpdLC",
    "KJ6JfXS1p4Nq",
    "H6tTs9Y9sVeS",
    "f2teozngvQBM",
    "9eMug7_bmqJ1",
    "-xAt3E9otkI1"
   ],
   "name": "Cuaderno actualizado del proyecto CAsimulations.ipynb",
   "provenance": [],
   "toc_visible": true
  },
  "kernelspec": {
   "display_name": "Python 3",
   "language": "python",
   "name": "python3"
  },
  "language_info": {
   "codemirror_mode": {
    "name": "ipython",
    "version": 3
   },
   "file_extension": ".py",
   "mimetype": "text/x-python",
   "name": "python",
   "nbconvert_exporter": "python",
   "pygments_lexer": "ipython3",
   "version": "3.8.8"
  }
 },
 "nbformat": 4,
 "nbformat_minor": 1
}
