{
 "cells": [
  {
   "cell_type": "markdown",
   "id": "1814d23a",
   "metadata": {},
   "source": [
    "# Comparación con los modelos clásicos\n",
    "\n",
    "## Modelo SIS"
   ]
  },
  {
   "cell_type": "code",
   "execution_count": null,
   "id": "04de8140",
   "metadata": {},
   "outputs": [],
   "source": [
    "import numpy as np\n",
    "import matplotlib.pyplot as plt\n",
    "from IPython.core.pylabtools import figsize\n",
    "from EpidemiologicalModels.DefineSpaceInCA import *\n",
    "from EpidemiologicalModels.epidemiologicalModels import *"
   ]
  },
  {
   "cell_type": "markdown",
   "id": "3818bf8f",
   "metadata": {},
   "source": [
    "*   **La enfermedad A:** Cuenta con una tasa de recuperación $\\alpha$ del $20\\%$, mientras que su tasa de infección $\\beta$ es del $5\\%$.\n",
    "\n",
    "Se analizó en un periodo de 30 días (si tomáramos como unidad de tiempo base a los días) tanto en el modelo clásico, como en la implementación del modelo $SIS$ en autómatas celulares, tomando una población inicial de individuos infectados del $10\\%$. \n",
    "\n",
    "De acuerdo con lo descrito en [5], la enfermedad tenderá a desaparecer de la población debido a que el indicador $R_0=\\frac{\\beta}{\\alpha}=0.25< 1$, los resultados obtenidos en ambos modelos se describen en la siguiente figura:"
   ]
  },
  {
   "cell_type": "code",
   "execution_count": null,
   "id": "c4841401",
   "metadata": {},
   "outputs": [],
   "source": [
    "a=0.2; b=0.05\n",
    "system = initialCondition(0.1, np.zeros((30,30)))\n",
    "SM = models(\"sis\",a,b,system,Moore)\n",
    "SVN = models(\"sis\",a,b,system,Von_Neumann)\n",
    "\n",
    "plt.subplot(1,2,1)\n",
    "SM.metricsPlot(30,\"Moore\")\n",
    "\n",
    "plt.subplot(1,2,1)\n",
    "SVN.metricsPlot(30,\"Von Neumann\")"
   ]
  },
  {
   "cell_type": "markdown",
   "id": "fa9f5802",
   "metadata": {},
   "source": [
    "Para el caso de la implementación en autómatas celulares se tomo una población de 900 individuos (sistema $30\\times30$) y se observaron diferentes evoluciones basados en diferentes condiciones iniciales, tomemos por ejemplo una enfermedad cuyas tasas de infección y recuperación estén dadas por $\\beta=0.3$ y $\\alpha=0.2$ respectivamente, dentro de las posibles configuraciones de condición inicial de ubicación de infectados encontramos los siguientes comportamientos:"
   ]
  },
  {
   "cell_type": "code",
   "execution_count": null,
   "id": "3e427f09",
   "metadata": {},
   "outputs": [],
   "source": [
    "evolution1 = models(\"sis\",0.2,0.3,initialLocation(30,30,0.1,\"random\"),Moore)\n",
    "evolution2 = models(\"sis\",0.2,0.3,initialLocation(30,30,0.1,\"center\"),Moore)\n",
    "evolution3 = models(\"sis\",0.2,0.3,initialLocation(30,30,0.1,\"southeast\"),Moore)\n",
    "\n",
    "plt.subplot(3,3,1)\n",
    "plt.title(\"t = 0\")\n",
    "evolution1.evolutionsPlot(30,0)\n",
    "\n",
    "plt.subplot(3,3,2)\n",
    "plt.title(\"t = 5\")\n",
    "evolution1.evolutionsPlot(30,5)\n",
    "\n",
    "plt.subplot(3,3,3)\n",
    "plt.title(\"t = 10\")\n",
    "evolution1.evolutionsPlot(30,10)\n",
    "\n",
    "plt.subplot(3,3,4)\n",
    "evolution2.evolutionsPlot(30,0)\n",
    "\n",
    "plt.subplot(3,3,5)\n",
    "evolution2.evolutionsPlot(30,5)\n",
    "\n",
    "plt.subplot(3,3,6)\n",
    "evolution2.evolutionsPlot(30,10)\n",
    "\n",
    "plt.subplot(3,3,7)\n",
    "evolution3.evolutionsPlot(30,0)\n",
    "\n",
    "plt.subplot(3,3,8)\n",
    "evolution3.evolutionsPlot(30,5)\n",
    "\n",
    "plt.subplot(3,3,9)\n",
    "evolution3.evolutionsPlot(30,10)\n",
    "\n",
    "plt.show()"
   ]
  },
  {
   "cell_type": "markdown",
   "id": "5f514da5",
   "metadata": {},
   "source": [
    "En la figura anterior podemos observar claramente que de acuerdo a la condición inicial de ubicación de infectados, el comportamiento de la enfermedad puede cambiar, esto en el sentido de la velocidad de convergencia de las soluciones. A continuación podemos visualizar la manera en la que la ubicación inicial de la población inicial (con respecto a los puntos cardinales) afecta la velocidad de convergencia para ambos estados:"
   ]
  },
  {
   "cell_type": "code",
   "execution_count": null,
   "id": "05a4c0b5",
   "metadata": {},
   "outputs": [],
   "source": [
    "SIS1 = models(\"sis\",0.2,0.5,initialLocation(30,30,0.1,\"northwest\"),Moore).basicModel(10)[0]\n",
    "SIS2 = models(\"sis\",0.2,0.5,initialLocation(30,30,0.1,\"north\"),Moore).basicModel(10)[0]\n",
    "SIS3 = models(\"sis\",0.2,0.5,initialLocation(30,30,0.1,\"northeast\"),Moore).basicModel(10)[0]\n",
    "SIS4 = models(\"sis\",0.2,0.5,initialLocation(30,30,0.1,\"west\"),Moore).basicModel(10)[0]\n",
    "SIS5 = models(\"sis\",0.2,0.5,initialLocation(30,30,0.1,\"center\"),Moore).basicModel(10)[0]\n",
    "SIS6 = models(\"sis\",0.2,0.5,initialLocation(30,30,0.1,\"east\"),Moore).basicModel(10)[0]\n",
    "SIS7 = models(\"sis\",0.2,0.5,initialLocation(30,30,0.1,\"southwest\"),Moore).basicModel(10)[0]\n",
    "SIS8 = models(\"sis\",0.2,0.5,initialLocation(30,30,0.1,\"south\"),Moore).basicModel(10)[0]\n",
    "SIS9 = models(\"sis\",0.2,0.5,initialLocation(30,30,0.1,\"southeast\"),Moore).basicModel(10)[0]\n",
    "SIS10 = models(\"sis\",0.2,0.5,initialLocation(30,30,0.1,\"random\"),Moore).basicModel(10)[0]\n",
    "\n",
    "var_s = [SIS1[0], SIS2[0], SIS3[0], SIS4[0], SIS5[0], SIS6[0], SIS7[0],SIS8[0], SIS9[0], SIS10[0]]\n",
    "var_i = [SIS1[1], SIS2[1], SIS3[1], SIS4[1], SIS5[1], SIS6[1], SIS7[1],SIS8[1], SIS9[1], SIS10[1]]\n",
    "col_dis = [\"g\",\"gold\",\"peru\",\"c\",\"magenta\",\"darkorange\",\"royalblue\",\"mediumorchid\",\"r\",\"lime\"]\n",
    "eti_dis = [\"northwest\", \"north\", \"northeast\", \"west\", \"central\", \"east\", \"southwest\", \"south\", \"southeast\", \"random\"]\n",
    "\n",
    "plt.subplot(1,2,1)\n",
    "graficas(var_s, eti_dis, col_dis,\"Initial condition - State S\")\n",
    "\n",
    "plt.subplot(1,2,2)\n",
    "graficas(var_i, eti_dis, col_dis,\"Initial condition - State I\")\n",
    "\n",
    "plt.show()"
   ]
  },
  {
   "cell_type": "markdown",
   "id": "50517ef2",
   "metadata": {},
   "source": [
    "La cualidad de ubicar de una manera diferente a los individuos infectados no es posible en el modelo clásico, resultando en una limitación de dicho modelo para el análisis de fenómenos epidemiológicos del tipo $SIS$.\n",
    "\n",
    "Por otro lado, por la manera en la que se describió la regla base de evolución, podemos observar un cambio importante en el indicador $R_0$. En el modelo clásico este indicador depende únicamente de las tasas de infección y recuperación, mientras que en la implementación en AC, vemos que claramente este depende no solo de las tasas de infección y recuperación, sino que incluye una alteración en la probabilidad de infectarse (o de mantenerse infectado) de acuerdo con el comportamiento de sus células vecinas.\n",
    "\n",
    "Es importante mencionar que las soluciones generadas por el modelo clásico y la implementación en AC no siempre convergen al mismo valor, esto se debe a la alteración en la evolución del agente generada por el comportamiento de su vecindad. \n",
    "\n",
    "Consideremos por ejemplo, una enfermedad en la que su tasa de infección sea $\\beta=0.5$ y su tasa de recuperación este dada por $\\alpha=0.2$, en el modelo clásico tenemos un indicador $R_0=2.5>1$ lo cual implica que la enfermedad podría llegar ser endémica [5]. Esta conclusión no se ve afectada en la implementación en autómatas celulares, sin embargo, podemos encontrar una diferencia en los valores a los cuales convergen las soluciones:\n",
    "\n",
    "Una cualidad que resulta bastante interesante en la implementación en autómatas celulares es la posibilidad de definir zonas de riesgo a partir de mapas de calor del sistema hasta un periodo de tiempo arbitrario; este atributo no se encuentra en el modelo clásico debido a que no se define de manera concreta la estructura del sistema."
   ]
  },
  {
   "cell_type": "code",
   "execution_count": null,
   "id": "44f20502",
   "metadata": {},
   "outputs": [],
   "source": [
    "SIS_info_system_hm_M = models(\"sis\",0.2,0.5,initialLocation(30,30,0.1,\"northwest\"),Moore).basicModel(30)[2]\n",
    "SIS_info_system_hm_VN = models(\"sis\",0.2,0.5,initialLocation(30,30,0.1,\"northwest\"),Von_Neumann).basicModel(30)[2]\n",
    "\n",
    "#---Mapas de calor de la enfermedad en 30 tics----\n",
    "\n",
    "plt.subplot(1,2,1)\n",
    "plt.title(\"Vecindad de Moore\") \n",
    "heatmap(SIS_info_system_hm_M,1)\n",
    "\n",
    "plt.subplot(1,2,2)\n",
    "plt.title(\"Vecindad de Von Neumann\")\n",
    "heatmap(SIS_info_system_hm_VN,1)"
   ]
  },
  {
   "cell_type": "markdown",
   "id": "1d05755f",
   "metadata": {},
   "source": [
    "En la figura anterior, podemos identificar las zonas de alto riesgo por el color amarillo, estas zonas representan los espacios en los cuales los individuos estuvieron infectados por un mayor tiempo, mientras que por otro lado tenemos las zonas verdes o zonas de bajo riesgo, en estas ubicaciones la enfermedad pudo no haber estado presente por mucho tiempo o simplemente pudo no haberlas alcanzado."
   ]
  },
  {
   "cell_type": "markdown",
   "id": "54a29490",
   "metadata": {},
   "source": [
    "## Modelo SIR\n",
    "\n",
    "De acuerdo con lo descrito en [1], se consideraron dos posibles casos en los cuales el indicador $R_0$ actúa de manera diferente.\n",
    "\n",
    "*   **La enfermedad C:** Posee una tasa de infección $\\beta$ del $5\\%$ y una tasa de recuperación $\\alpha=0.2$, esto implica que en promedio la enfermedad dura una media de 5 días ($\\alpha=1/5=0.2$), esto si tomamos las tasas por días.\n",
    "*   **La enfermedad D:** Al igual que la enfermedad C, la enfermedad D posee una tasa de recuperación $\\alpha=0.2$, pero su tasa de infección es del $50\\%$.\n",
    "\n",
    "Observe que en el caso de la enfermedad C, de acuerdo con [1] esta cuenta con un indicador $R_0=0.25< 1$, mientras que la enfermedad D cuenta con un indicador $R_0$ de 2.5. Se analizó el comportamiento de ambas enfermedades en un periodo de 100 días tanto en el modelo clásico como en la implementación en autómatas celulares:\n",
    "\n",
    "*   **Evolución de la enfermedad C:** En ambos modelos se consideró una población inicial de individuos infectados y en el caso de la implementación en autómatas celulares, se considero una ubicación aleatoria inicial de los individuos infectados, obteniendo como resultado:"
   ]
  },
  {
   "cell_type": "code",
   "execution_count": null,
   "id": "ce0d93dc",
   "metadata": {},
   "outputs": [],
   "source": [
    "a=0.2; b=0.05  #alpha y beta\n",
    "\n",
    "# plt.subplot(2,2,1)\n",
    "# plt.title(\"EDO's model\")\n",
    "# grafsir(ND,TS,INPUT)\n",
    "\n",
    "sm = models(\"sir\",a,b,initialCondition(0.1,np.zeros((10,10))),Moore)\n",
    "svn = models(\"sir\",a,b,initialCondition(0.1,np.zeros((10,10))),Von_Neumann)\n",
    "\n",
    "plt.subplot(2,2,2)\n",
    "sm.metricsPlot(40,title=\"Moore\")\n",
    "\n",
    "plt.subplot(2,2,3)\n",
    "svn.metricsPlot(40,title=\"von Neumann\")"
   ]
  },
  {
   "cell_type": "markdown",
   "id": "936efa86",
   "metadata": {},
   "source": [
    "*   **Evolución de la enfermedad D:** Al igual que en el caso anterior, se considero una población inicial de individuos infectados del $10\\%$ y en la implementación en AC una distribución inicial de infectados del tipo aleatoria.\n",
    "\n",
    "Podemos preguntarnos si la manera en la que ubicamos inicialmente a los individuos infectados afecta o no el comportamiento de las soluciones de la implementación en autómatas celulares. Para responder a esto consideremos tres casos puntuales de condición inicial de ubicación para individuos infectados:"
   ]
  },
  {
   "cell_type": "code",
   "execution_count": null,
   "id": "9ac37483",
   "metadata": {},
   "outputs": [],
   "source": [
    "evolution1 = models(\"sir\",0.2,0.3,initialLocation(30,30,0.1,\"random\"),Moore)\n",
    "evolution2 = models(\"sir\",0.2,0.3,initialLocation(30,30,0.1,\"center\"),Moore)\n",
    "evolution3 = models(\"sir\",0.2,0.3,initialLocation(30,30,0.1,\"southeast\"),Moore)\n",
    "\n",
    "plt.subplot(3,3,1)\n",
    "plt.title(\"t = 0\")\n",
    "evolution1.evolutionsPlot(30,0)\n",
    "\n",
    "plt.subplot(3,3,2)\n",
    "plt.title(\"t = 5\")\n",
    "evolution1.evolutionsPlot(30,5)\n",
    "\n",
    "plt.subplot(3,3,3)\n",
    "plt.title(\"t = 10\")\n",
    "evolution1.evolutionsPlot(30,10)\n",
    "\n",
    "plt.subplot(3,3,4)\n",
    "evolution2.evolutionsPlot(30,0)\n",
    "\n",
    "plt.subplot(3,3,5)\n",
    "evolution2.evolutionsPlot(30,5)\n",
    "\n",
    "plt.subplot(3,3,6)\n",
    "evolution2.evolutionsPlot(30,10)\n",
    "\n",
    "plt.subplot(3,3,7)\n",
    "evolution3.evolutionsPlot(30,0)\n",
    "\n",
    "plt.subplot(3,3,8)\n",
    "evolution3.evolutionsPlot(30,5)\n",
    "\n",
    "plt.subplot(3,3,9)\n",
    "evolution3.evolutionsPlot(30,10)\n",
    "\n",
    "plt.show()"
   ]
  },
  {
   "cell_type": "markdown",
   "id": "423b34a0",
   "metadata": {},
   "source": [
    "De manera que si observamos el comportamiento de una manera mas precisa, se puede apreciar si bien no una diferencia en el comportamiento general de la enfermedad, si en la velocidad con la cual convergen las soluciones de la implementación:\n",
    "\n",
    "De la misma manera en la que abordamos el análisis de la evolución de la enfermedad con respecto a la condición inicial de población infectada en el modelo $SIS$, si tomamos como punto de partida los puntos cardinales para realizar dicha ubicación podemos observar un comportamiento como el que se describe en la siguiente figura:"
   ]
  },
  {
   "cell_type": "code",
   "execution_count": null,
   "id": "2b38e83b",
   "metadata": {},
   "outputs": [],
   "source": [
    "SIR1_M = models(\"sir\",0.2,0.5,initialLocation(30,30,0.1,\"northwest\"),Moore).basicModel(50)[0]\n",
    "SIR2_M = models(\"sir\",0.2,0.5,initialLocation(30,30,0.1,\"north\"),Moore).basicModel(50)[0]\n",
    "SIR3_M = models(\"sir\",0.2,0.5,initialLocation(30,30,0.1,\"northeast\"),Moore).basicModel(50)[0]\n",
    "SIR4_M = models(\"sir\",0.2,0.5,initialLocation(30,30,0.1,\"west\"),Moore).basicModel(50)[0]\n",
    "SIR5_M = models(\"sir\",0.2,0.5,initialLocation(30,30,0.1,\"center\"),Moore).basicModel(50)[0]\n",
    "SIR6_M = models(\"sir\",0.2,0.5,initialLocation(30,30,0.1,\"east\"),Moore).basicModel(50)[0]\n",
    "SIR7_M = models(\"sir\",0.2,0.5,initialLocation(30,30,0.1,\"southwest\"),Moore).basicModel(50)[0]\n",
    "SIR8_M = models(\"sir\",0.2,0.5,initialLocation(30,30,0.1,\"south\"),Moore).basicModel(50)[0]\n",
    "SIR9_M = models(\"sir\",0.2,0.5,initialLocation(30,30,0.1,\"southeast\"),Moore).basicModel(50)[0]\n",
    "SIR10_M = models(\"sir\",0.2,0.5,initialLocation(30,30,0.1,\"random\"),Moore).basicModel(50)[0]\n",
    "\n",
    "var_sm = [SIR1_M[0], SIR2_M[0], SIR3_M[0], SIR4_M[0], SIR5_M[0], SIR6_M[0], SIR7_M[0], SIR8_M[0], SIR9_M[0], SIR10_M[0]]\n",
    "var_rm = [SIR1_M[1], SIR2_M[1], SIR3_M[1], SIR4_M[1], SIR5_M[1], SIR6_M[1], SIR7_M[1], SIR8_M[1], SIR9_M[1], SIR10_M[1]]\n",
    "var_im = [SIR1_M[2], SIR2_M[2], SIR3_M[2], SIR4_M[2], SIR5_M[2], SIR6_M[2], SIR7_M[2], SIR8_M[2], SIR9_M[2], SIR10_M[2]]\n",
    "\n",
    "col_dis = [\"g\", \"gold\", \"peru\", \"c\", \"magenta\", \"darkorange\", \"royalblue\", \"mediumorchid\", \"r\", \"lime\"]\n",
    "eti_dis = [\"northwest\", \"north\", \"northeast\", \"west\", \"central\", \"east\", \"southwest\", \"south\", \"southeast\", \"random\"]\n",
    "\n",
    "plt.subplot(1,3,1)\n",
    "graficas(var_sm, eti_dis, col_dis,\"Initial condition - State S\")\n",
    "\n",
    "plt.subplot(1,3,2)\n",
    "graficas(var_im, eti_dis, col_dis,\"Initial condition - State I\")\n",
    "\n",
    "plt.subplot(1,3,3)\n",
    "graficas(var_rm, eti_dis, col_dis,\"Initial condition - State R\")"
   ]
  },
  {
   "cell_type": "markdown",
   "id": "ff9b40e4",
   "metadata": {},
   "source": [
    "La posibilidad de modelar diferentes condiciones iniciales de ubicación para individuos infectados es una cualidad presente únicamente en la implementación del modelo $SIR$ en AC. Por otro lado, al igual que en el caso del modelo $SIS$, la implementación nos permite definir zonas de riesgo basándonos en el comportamiento de las poblaciones hasta un determinado tiempo. \n",
    "\n",
    "Del lado izquierdo de la siguiente figura podemos observar el comportamiento de la población infectada en un periodo de 30 días, este mapa de calor nos permite visualizar que el tiempo promedio de infección corresponde con el descrito por los parámetros que definen a la enfermedad y por otro lado, tenemos el mapa de calor de la población recuperada, este mapa nos permite visualizar las zonas que se recuperaron primero y que por tanto, fueron las primeras en ser alcanzadas por la enfermedad."
   ]
  },
  {
   "cell_type": "code",
   "execution_count": null,
   "id": "a5b60976",
   "metadata": {},
   "outputs": [],
   "source": [
    "evolutionsOfSystem1 = models(\"sir\",0.2,0.5,initialLocation(30,30,0.1,position = \"northwest\"),Moore).basicModel(10)[2]\n",
    "evolutionsOfSystem2 = models(\"sir\",0.2,0.5,initialLocation(30,30,0.1,position = \"northwest\"),Von_Neumann).basicModel(10)[2]\n",
    "\n",
    "plt.subplot(2,2,1)\n",
    "heatmap(evolutionsOfSystem1,1)\n",
    "\n",
    "plt.subplot(2,2,2)\n",
    "heatmap(evolutionsOfSystem1,2)\n",
    "\n",
    "plt.subplot(2,2,3)\n",
    "heatmap(evolutionsOfSystem2,1)\n",
    "\n",
    "plt.subplot(2,2,4)\n",
    "heatmap(evolutionsOfSystem2,2)\n",
    "\n",
    "plt.show()"
   ]
  }
 ],
 "metadata": {
  "kernelspec": {
   "display_name": "Python 3",
   "language": "python",
   "name": "python3"
  },
  "language_info": {
   "codemirror_mode": {
    "name": "ipython",
    "version": 3
   },
   "file_extension": ".py",
   "mimetype": "text/x-python",
   "name": "python",
   "nbconvert_exporter": "python",
   "pygments_lexer": "ipython3",
   "version": "3.8.8"
  }
 },
 "nbformat": 4,
 "nbformat_minor": 5
}
