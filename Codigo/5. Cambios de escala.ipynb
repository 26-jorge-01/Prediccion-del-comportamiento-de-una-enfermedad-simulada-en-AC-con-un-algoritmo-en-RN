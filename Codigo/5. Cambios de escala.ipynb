{
 "cells": [
  {
   "cell_type": "markdown",
   "id": "2afd7283",
   "metadata": {},
   "source": [
    "# Variaciones en la escala del sistema\n",
    "\n",
    "Es importante preguntarnos si cambiar la escala de un sistema altera de alguna manera la evolución del sistema. Al igual que en el análisis en la variación de condiciones de frontera, consideraremos una serie de ejemplos para visualizar si existe o no, una variación en la evolución de la enfermedad.\n",
    "\n",
    "En cada uno de los siguientes ejemplos se realizaron 4 cambios de escala sobre el tipo de sistema en cuestión, posteriormente se aplicaron las implementaciones de los modelos $SIS$ y $SIR$ tomando como punto de partida una enfermedad con parámetros $\\alpha=0.2$ y $\\beta=0.5$, una población infectada inicial del $10\\%$ con una ubicación inicial del tipo aleatoria.\n",
    "\n",
    "*   **Cambios de escala sobre la linea:** Se considero un sistema inicial de 100 individuos y se realizaron 4 cambios de escala de modo que las cantidades de individuos fueran 200, 300, 400 y 500 individuos por cada cambio respectivamente."
   ]
  },
  {
   "cell_type": "code",
   "execution_count": null,
   "id": "1cb57c18",
   "metadata": {},
   "outputs": [],
   "source": [
    "import numpy as np\n",
    "import matplotlib.pyplot as plt\n",
    "from IPython.core.pylabtools import figsize\n",
    "from EpidemiologicalModels.DefineSpaceInCA import *\n",
    "from EpidemiologicalModels.epidemiologicalModels import *"
   ]
  },
  {
   "cell_type": "code",
   "execution_count": null,
   "id": "e77cbb92",
   "metadata": {},
   "outputs": [],
   "source": [
    "L1 = np.zeros((1,100))\n",
    "L2 = np.zeros((1,200))\n",
    "L3 = np.zeros((1,300))\n",
    "L4 = np.zeros((1,400))\n",
    "L5 = np.zeros((1,500))\n",
    "\n",
    "plt.subplot(5,1,1)\n",
    "plt.imshow(color(L1),cmap=\"nipy_spectral\", interpolation='nearest')\n",
    "\n",
    "plt.subplot(5,1,2)\n",
    "plt.imshow(color(L2),cmap=\"nipy_spectral\", interpolation='nearest')\n",
    "\n",
    "plt.subplot(5,1,3)\n",
    "plt.imshow(color(L3),cmap=\"nipy_spectral\", interpolation='nearest')\n",
    "\n",
    "plt.subplot(5,1,4)\n",
    "plt.imshow(color(L4),cmap=\"nipy_spectral\", interpolation='nearest')\n",
    "\n",
    "plt.subplot(5,1,5)\n",
    "plt.imshow(color(L5),cmap=\"nipy_spectral\", interpolation='nearest')\n",
    "\n",
    "plt.show()"
   ]
  },
  {
   "cell_type": "code",
   "execution_count": null,
   "id": "e7b2bf3f",
   "metadata": {},
   "outputs": [],
   "source": [
    "SISL1=models(\"sis\",0.2,0.5,L1,Moore).mediumCurves(0.1,30,10)\n",
    "# SIRL1=models(\"sir\",0.2,0.5,L1,Moore).mediumCurves(0.1,30,10)[0]\n",
    "\n",
    "SISL2=models(\"sis\",0.2,0.5,L2,Moore).mediumCurves(0.1,30,10)\n",
    "# SIRL2=models(\"sir\",0.2,0.5,L2,Moore).mediumCurves(0.1,30,10)[0]\n",
    "\n",
    "SISL3=models(\"sis\",0.2,0.5,L3,Moore).mediumCurves(0.1,30,10)\n",
    "# SIRL3=models(\"sir\",0.2,0.5,L3,Moore).mediumCurves(0.1,30,10)[0]\n",
    "\n",
    "SISL4=models(\"sis\",0.2,0.5,L4,Moore).mediumCurves(0.1,30,10)\n",
    "# SIRL4=models(\"sir\",0.2,0.5,L4,Moore).mediumCurves(0.1,30,10)[0]\n",
    "\n",
    "SISL5=models(\"sis\",0.2,0.5,L5,Moore).mediumCurves(0.1,30,10)\n",
    "# SIRL5=models(\"sir\",0.2,0.5,L5,Moore).mediumCurves(0.1,30,10)[0]\n",
    "\n",
    "var_sis=[SISL1[0][1],SISL2[0][1],SISL3[0][1],SISL4[0][1],SISL5[0][1]]\n",
    "# var_sir=[SIRL1[1],SIRL2[1],SIRL3[1],SIRL4[1],SIRL5[1]]\n",
    "\n",
    "col_esc = [\"purple\", \"steelblue\", \"darkorange\", \"firebrick\", \"seagreen\"]\n",
    "eti_esc = [\"es1\", \"es2\", \"es3\", \"es4\", \"es5\"]\n",
    "col_dif = [\"purple\", \"steelblue\", \"darkorange\", \"firebrick\"]\n",
    "eti_dif = [\"E5-E1\", \"E5-E2\", \"E5-E3\", \"E5-E4\"]\n",
    "\n",
    "plt.subplot(1,2,1)\n",
    "graficas(var_sis,eti_esc,col_esc,\"SIS en una linea\")\n",
    "\n",
    "# plt.subplot(1,2,2)\n",
    "# graficas(var_sir,eti_esc,col_esc,\"SIR en una linea\")\n",
    "\n",
    "plt.show()"
   ]
  },
  {
   "cell_type": "markdown",
   "id": "e6428a8c",
   "metadata": {},
   "source": [
    "Si graficamos las diferencias presentes entre cada escala y la escala mayor (es este caso la escala de 500 individuos) obtenemos:"
   ]
  },
  {
   "cell_type": "code",
   "execution_count": null,
   "id": "52b29a7e",
   "metadata": {},
   "outputs": [],
   "source": [
    "var_difs = [variationsBetweenScales(SISL1[1][0], SISL5[1][0]), variationsBetweenScales(SISL2[1][0], SISL5[1][0]), \n",
    "            variationsBetweenScales(SISL3[1][0], SISL5[1][0]), variationsBetweenScales(SISL4[1][0], SISL5[1][0])]\n",
    "# var_difsi = [variationsBetweenScales(SIRL1[1][0], SIRL5[1][0]), variationsBetweenScales(SIRL2[1][0], SIRL5[1][0]), \n",
    "#              variationsBetweenScales(SIRL3[1][0], SIRL5[1][0]), variationsBetweenScales(SIRL4[1][0], SIRL5[1][0])]\n",
    "\n",
    "plt.subplot(1,2,1)\n",
    "graficas(var_difs,eti_dif,col_dif,\"Estado I - SIS en la linea\", limit=False)\n",
    "\n",
    "# plt.subplot(1,2,2)\n",
    "# graficas(var_difsi,eti_dif,col_dif,\"Estado I - SIR en la linea\", limit=False)\n",
    "\n",
    "plt.show()"
   ]
  },
  {
   "cell_type": "markdown",
   "id": "0f4da028",
   "metadata": {},
   "source": [
    "*   **Cambios de escala sobre el cuadrado:** En este caso se tomo un sistema cuadrado inicial de 100 individuos, los 4 cambios de escala analizados representan poblaciones de 625, 2500, 5625 y 10000 individuos respectivamente."
   ]
  },
  {
   "cell_type": "code",
   "execution_count": null,
   "id": "ffeb230b",
   "metadata": {},
   "outputs": [],
   "source": [
    "# C1 = np.zeros((10, 10))\n",
    "# C2 = np.zeros((25, 25))\n",
    "# C3 = np.zeros((50, 50))\n",
    "# C4 = np.zeros((75, 75))\n",
    "# C5 = np.zeros((100, 100))\n",
    "\n",
    "# plt.subplot(2,3,1)\n",
    "# plt.imshow(color(C1),cmap=\"nipy_spectral\", interpolation='nearest')\n",
    "\n",
    "# plt.subplot(2,3,2)\n",
    "# plt.imshow(color(C2),cmap=\"nipy_spectral\", interpolation='nearest')\n",
    "\n",
    "# plt.subplot(2,3,3)\n",
    "# plt.imshow(color(C3),cmap=\"nipy_spectral\", interpolation='nearest')\n",
    "\n",
    "# plt.subplot(2,3,4)\n",
    "# plt.imshow(color(C4),cmap=\"nipy_spectral\", interpolation='nearest')\n",
    "\n",
    "# plt.subplot(2,3,5)\n",
    "# plt.imshow(color(C5),cmap=\"nipy_spectral\", interpolation='nearest')\n",
    "\n",
    "# plt.show()"
   ]
  },
  {
   "cell_type": "code",
   "execution_count": null,
   "id": "19de63f3",
   "metadata": {},
   "outputs": [],
   "source": [
    "# SISC1=SIS_MediumCurves(0.2,0.5,10,10,0.1,C1,1,1,Moore)\n",
    "# SIRC1=SIR_MediumCurves(0.2,0.5,10,10,0.1,C1,1,1,Moore)\n",
    "\n",
    "# SISC2=SIS_MediumCurves(0.2,0.5,10,10,0.1,C2,1,1,Moore)\n",
    "# SIRC2=SIR_MediumCurves(0.2,0.5,10,10,0.1,C2,1,1,Moore)\n",
    "\n",
    "# SISC3=SIS_MediumCurves(0.2,0.5,10,10,0.1,C3,1,1,Moore)\n",
    "# SIRC3=SIR_MediumCurves(0.2,0.5,10,10,0.1,C3,1,1,Moore)\n",
    "\n",
    "# SISC4=SIS_MediumCurves(0.2,0.5,10,10,0.1,C4,1,1,Moore)\n",
    "# SIRC4=SIR_MediumCurves(0.2,0.5,10,10,0.1,C4,1,1,Moore)\n",
    "\n",
    "# SISC5=SIS_MediumCurves(0.2,0.5,10,10,0.1,C5,1,1,Moore)\n",
    "# SIRC5=SIR_MediumCurves(0.2,0.5,10,10,0.1,C5,1,1,Moore)\n",
    "\n",
    "# var_sis=[SISC1[1],SISC2[1],SISC3[1],SISC4[1],SISC5[1]]\n",
    "# var_sir=[SIRC1[2],SIRC2[2],SIRC3[2],SIRC4[2],SIRC5[2]]\n",
    "\n",
    "# plt.subplot(1,2,1)\n",
    "# graficas(var_sis,eti_esc,col_esc,\"SIS en un cuadrado\")\n",
    "\n",
    "# plt.subplot(1,2,2)\n",
    "# graficas(var_sir,eti_esc,col_esc,\"SIR en un cuadrado\")\n",
    "\n",
    "# plt.show()"
   ]
  },
  {
   "cell_type": "markdown",
   "id": "2065be5b",
   "metadata": {},
   "source": [
    "Al igual que en el ejemplo anterior, graficaremos las diferencias encontradas al realizar los cambios de escala tomando como escala de comparación a la que cuenta con 10000 individuos."
   ]
  },
  {
   "cell_type": "code",
   "execution_count": null,
   "id": "43a52b60",
   "metadata": {},
   "outputs": [],
   "source": [
    "# plt.subplot(1,2,1)\n",
    "# var_difs = [variationsBetweenScales(SISC1[3], SISC5[3]), variationsBetweenScales(SISC2[3], SISC5[3]), \n",
    "#             variationsBetweenScales(SISC3[3], SISC5[3]), variationsBetweenScales(SISC4[3], SISC5[3])]\n",
    "# graficas(var_difs,eti_dif,col_dif,\"Estado I - SIS en el cuadrado\",limit=False)\n",
    "\n",
    "# plt.subplot(1,2,2)\n",
    "# var_difsi = [variationsBetweenScales(SIRC1[3], SIRC5[3]), variationsBetweenScales(SIRC2[3], SIRC5[3]), \n",
    "#              variationsBetweenScales(SIRC3[3], SIRC5[3]), variationsBetweenScales(SIRC4[3], SIRC5[3])]\n",
    "# graficas(var_difsi,eti_dif,col_dif,\"Estado I - SIR en el cuadrado\", limit=False)\n",
    "\n",
    "# plt.show()"
   ]
  },
  {
   "cell_type": "markdown",
   "id": "08d624b3",
   "metadata": {},
   "source": [
    "En los ejemplos posteriores se tomaron escalas de manera que el tamaño del sistema o su cantidad de individuos en cada escala, coincidiera con los planteados en el ejemplo de cambios de escala en el cuadrado.\n",
    "\n",
    "*   **Cambios de escala sobre una región rectangular:** Para este ejercicio se consideraron cambios de escala de tal manera que sus tamaños coincidieran con las escalas tomadas en el caso del cuadrado, obteniendo así:"
   ]
  },
  {
   "cell_type": "code",
   "execution_count": null,
   "id": "ffa6edc5",
   "metadata": {},
   "outputs": [],
   "source": [
    "# Re1 = np.zeros((5,20))\n",
    "# Re2 = np.zeros((13,52))\n",
    "# Re3 = np.zeros((25,100))\n",
    "# Re4 = np.zeros((38,152))\n",
    "# Re5 = np.zeros((50,200))\n",
    "\n",
    "# plt.subplot(2,3,1)\n",
    "# plt.imshow(color(Re1),cmap=\"nipy_spectral\", interpolation='nearest')\n",
    "\n",
    "# plt.subplot(2,3,2)\n",
    "# plt.imshow(color(Re2),cmap=\"nipy_spectral\", interpolation='nearest')\n",
    "\n",
    "# plt.subplot(2,3,3)\n",
    "# plt.imshow(color(Re3),cmap=\"nipy_spectral\", interpolation='nearest')\n",
    "\n",
    "# plt.subplot(2,3,4)\n",
    "# plt.imshow(color(Re4),cmap=\"nipy_spectral\", interpolation='nearest')\n",
    "\n",
    "# plt.subplot(2,3,5)\n",
    "# plt.imshow(color(Re5),cmap=\"nipy_spectral\", interpolation='nearest')\n",
    "\n",
    "# plt.show()"
   ]
  },
  {
   "cell_type": "code",
   "execution_count": null,
   "id": "d82c9d54",
   "metadata": {},
   "outputs": [],
   "source": [
    "# SISRe1=SIS_MediumCurves(0.2,0.5,10,10,0.1,Re1,1,1,Moore)\n",
    "# SIRRe1=SIR_MediumCurves(0.2,0.5,10,10,0.1,Re1,1,1,Moore)\n",
    "\n",
    "# SISRe2=SIS_MediumCurves(0.2,0.5,10,10,0.1,Re2,1,1,Moore)\n",
    "# SIRRe2=SIR_MediumCurves(0.2,0.5,10,10,0.1,Re2,1,1,Moore)\n",
    "\n",
    "# SISRe3=SIS_MediumCurves(0.2,0.5,10,10,0.1,Re3,1,1,Moore)\n",
    "# SIRRe3=SIR_MediumCurves(0.2,0.5,10,10,0.1,Re3,1,1,Moore)\n",
    "\n",
    "# SISRe4=SIS_MediumCurves(0.2,0.5,10,10,0.1,Re4,1,1,Moore)\n",
    "# SIRRe4=SIR_MediumCurves(0.2,0.5,10,10,0.1,Re4,1,1,Moore)\n",
    "\n",
    "# SISRe5=SIS_MediumCurves(0.2,0.5,10,10,0.1,Re5,1,1,Moore)\n",
    "# SIRRe5=SIR_MediumCurves(0.2,0.5,10,10,0.1,Re5,1,1,Moore)\n",
    "\n",
    "# plt.subplot(1,2,1)\n",
    "# var_sis=[SISRe1[1],SISRe2[1],SISRe3[1],SISRe4[1],SISRe5[1]]\n",
    "# graficas(var_sis,eti_esc,col_esc,\"SIS en un rectangulo\")\n",
    "\n",
    "# plt.subplot(1,2,2)\n",
    "# var_sir=[SIRRe1[2],SIRRe2[2],SIRRe3[2],SIRRe4[2],SIRRe5[2]]\n",
    "# graficas(var_sir,eti_esc,col_esc,\"SIR en un rectangulo\")\n",
    "\n",
    "# plt.show()"
   ]
  },
  {
   "cell_type": "markdown",
   "id": "090e0fd2",
   "metadata": {},
   "source": [
    "Si graficamos las diferencias entre escalas de manera análoga a como ocurría en los ejemplos anteriores obtenemos:"
   ]
  },
  {
   "cell_type": "code",
   "execution_count": null,
   "id": "6a641cb0",
   "metadata": {},
   "outputs": [],
   "source": [
    "# plt.subplot(1,2,1)\n",
    "# var_difs=[variationsBetweenScales(SISRe1[3],SISRe5[3]),variationsBetweenScales(SISRe2[3],SISRe5[3]),variationsBetweenScales(SISRe3[3],SISRe5[3]),scale_differences(SISRe4[3],SISRe5[3])]\n",
    "# graficas(var_difs,eti_dif,col_dif,\"Estado I - SIS en el rectangulo\", limit=False)\n",
    "\n",
    "# plt.subplot(1,2,2)\n",
    "# var_difsi=[variationsBetweenScales(SIRRe1[3],SIRRe5[3]),variationsBetweenScales(SIRRe2[3],SIRRe5[3]),variationsBetweenScales(SIRRe3[3],SIRRe5[3]),scale_differences(SIRRe4[3],SIRRe5[3])]\n",
    "# graficas(var_difsi,eti_dif,col_dif,\"Estado I - SIR en el rectangulo\")\n",
    "\n",
    "# plt.show()"
   ]
  },
  {
   "cell_type": "markdown",
   "id": "70b8719e",
   "metadata": {},
   "source": [
    "*   **Cambios de escala en una región tipo rombo:**"
   ]
  },
  {
   "cell_type": "code",
   "execution_count": null,
   "id": "92efe6fa",
   "metadata": {},
   "outputs": [],
   "source": [
    "# Ro1=-np.ones((11,20));   Ro1=rombo(1,20,5,0,Ro1)\n",
    "# Ro2=-np.ones((32,50));   Ro2=rombo(1,50,16,0,Ro2)\n",
    "# Ro3=-np.ones((60,100));  Ro3=rombo(1,100,30,1,Ro3)\n",
    "# Ro4=-np.ones((80,150));  Ro4=rombo(1,150,40,0,Ro4)\n",
    "# Ro5=-np.ones((110,200)); Ro5=rombo(1,200,55,0,Ro5)\n",
    "\n",
    "# plt.subplot(2,3,1)\n",
    "# plt.imshow(color(Ro1),cmap=\"nipy_spectral\", interpolation='nearest')\n",
    "\n",
    "# plt.subplot(2,3,2)\n",
    "# plt.imshow(color(Ro2),cmap=\"nipy_spectral\", interpolation='nearest')\n",
    "\n",
    "# plt.subplot(2,3,3)\n",
    "# plt.imshow(color(Ro3),cmap=\"nipy_spectral\", interpolation='nearest')\n",
    "\n",
    "# plt.subplot(2,3,4)\n",
    "# plt.imshow(color(Ro4),cmap=\"nipy_spectral\", interpolation='nearest')\n",
    "\n",
    "# plt.subplot(2,3,5)\n",
    "# plt.imshow(color(Ro5),cmap=\"nipy_spectral\", interpolation='nearest')\n",
    "\n",
    "# plt.show()"
   ]
  },
  {
   "cell_type": "code",
   "execution_count": null,
   "id": "103bcd81",
   "metadata": {},
   "outputs": [],
   "source": [
    "# SISRo1=SIS_MediumCurves(0.2,0.5,10,10,0.1,Ro1,1,1,Moore)\n",
    "# SIRRo1=SIR_MediumCurves(0.2,0.5,10,10,0.1,Ro1,1,1,Moore)\n",
    "\n",
    "# SISRo2=SIS_MediumCurves(0.2,0.5,10,10,0.1,Ro2,1,1,Moore)\n",
    "# SIRRo2=SIR_MediumCurves(0.2,0.5,10,10,0.1,Ro2,1,1,Moore)\n",
    "\n",
    "# SISRo3=SIS_MediumCurves(0.2,0.5,10,10,0.1,Ro3,1,1,Moore)\n",
    "# SIRRo3=SIR_MediumCurves(0.2,0.5,10,10,0.1,Ro3,1,1,Moore)\n",
    "\n",
    "# SISRo4=SIS_MediumCurves(0.2,0.5,10,10,0.1,Ro4,1,1,Moore)\n",
    "# SIRRo4=SIR_MediumCurves(0.2,0.5,10,10,0.1,Ro4,1,1,Moore)\n",
    "\n",
    "# SISRo5=SIS_MediumCurves(0.2,0.5,10,10,0.1,Ro5,1,1,Moore)\n",
    "# SIRRo5=SIR_MediumCurves(0.2,0.5,10,10,0.1,Ro5,1,1,Moore)\n",
    "\n",
    "# plt.subplot(1,2,1)\n",
    "# var_sis=[SISRo1[1],SISRo2[1],SISRo3[1],SISRo4[1],SISRo5[1]]\n",
    "# graficas(var_sis,eti_esc,col_esc,\"SIS en un rombo\")\n",
    "\n",
    "# plt.subplot(1,2,2)\n",
    "# var_sir=[SIRRo1[2],SIRRo2[2],SIRRo3[2],SIRRo4[2],SIRRo5[2]]\n",
    "# graficas(var_sir,eti_esc,col_esc,\"SIR en un rombo\")\n",
    "\n",
    "# plt.show()"
   ]
  },
  {
   "cell_type": "markdown",
   "id": "31d2c9fb",
   "metadata": {},
   "source": [
    "Podemos apreciar las diferencias presentes al realizar los cambios de escala mediante las siguiente gráficas:"
   ]
  },
  {
   "cell_type": "code",
   "execution_count": null,
   "id": "c8d008d3",
   "metadata": {},
   "outputs": [],
   "source": [
    "# plt.subplot(1,2,1)\n",
    "# var_difs=[variationsBetweenScales(SISRo1[3],SISRo5[3]),variationsBetweenScales(SISRo2[3],SISRo5[3]),\n",
    "#           variationsBetweenScales(SISRo3[3],SISRo5[3]),variationsBetweenScales(SISRo4[3],SISRo5[3])]\n",
    "# graficas(var_difs,eti_dif,col_dif,\"Estado I - SIS en el rombo\", limit=False)\n",
    "\n",
    "# plt.subplot(1,2,2)\n",
    "# var_difsi=[variationsBetweenScales(SIRRo1[3],SIRRo5[3]),variationsBetweenScales(SIRRo2[3],SIRRo5[3]),\n",
    "#            variationsBetweenScales(SIRRo3[3],SIRRo5[3]),variationsBetweenScales(SIRRo4[3],SIRRo5[3])]\n",
    "# graficas(var_difsi,eti_dif,col_dif,\"Estado I - SIR en el rombo\", limit=False)\n",
    "\n",
    "# plt.show()"
   ]
  },
  {
   "cell_type": "markdown",
   "id": "6eb5251f",
   "metadata": {},
   "source": [
    "*   **Cambios de escala en una región triangular:**"
   ]
  },
  {
   "cell_type": "code",
   "execution_count": null,
   "id": "d733ded5",
   "metadata": {},
   "outputs": [],
   "source": [
    "# T1=-np.ones((10,19)); T1=triangulo(1,19,9,0,T1)\n",
    "# T2=-np.ones((25,49)); T2=triangulo(1,49,24,0,T2)\n",
    "# T3=-np.ones((50,99)); T3=triangulo(1,99,49,0,T3)\n",
    "# T4=-np.ones((75,149)); T4=triangulo(1,149,74,0,T4)\n",
    "# T5=-np.ones((100,199)); T5=triangulo(1,199,99,0,T5)\n",
    "\n",
    "# plt.subplot(2,3,1)\n",
    "# plt.imshow(color(T1),cmap=\"nipy_spectral\", interpolation='nearest')\n",
    "\n",
    "# plt.subplot(2,3,2)\n",
    "# plt.imshow(color(T2),cmap=\"nipy_spectral\", interpolation='nearest')\n",
    "\n",
    "# plt.subplot(2,3,3)\n",
    "# plt.imshow(color(T3),cmap=\"nipy_spectral\", interpolation='nearest')\n",
    "\n",
    "# plt.subplot(2,3,4)\n",
    "# plt.imshow(color(T4),cmap=\"nipy_spectral\", interpolation='nearest')\n",
    "\n",
    "# plt.subplot(2,3,5)\n",
    "# plt.imshow(color(T5),cmap=\"nipy_spectral\", interpolation='nearest')\n",
    "\n",
    "# plt.show()"
   ]
  },
  {
   "cell_type": "code",
   "execution_count": null,
   "id": "e6a81c13",
   "metadata": {},
   "outputs": [],
   "source": [
    "# SIST1=SIS_MediumCurves(0.2,0.5,10,10,0.1,T1,1,1,Moore)\n",
    "# SIRT1=SIR_MediumCurves(0.2,0.5,10,10,0.1,T1,1,1,Moore)\n",
    "\n",
    "# SIST2=SIS_MediumCurves(0.2,0.5,10,10,0.1,T2,1,1,Moore)\n",
    "# SIRT2=SIR_MediumCurves(0.2,0.5,10,10,0.1,T2,1,1,Moore)\n",
    "\n",
    "# SIST3=SIS_MediumCurves(0.2,0.5,10,10,0.1,T3,1,1,Moore)\n",
    "# SIRT3=SIR_MediumCurves(0.2,0.5,10,10,0.1,T3,1,1,Moore)\n",
    "\n",
    "# SIST4=SIS_MediumCurves(0.2,0.5,10,10,0.1,T4,1,1,Moore)\n",
    "# SIRT4=SIR_MediumCurves(0.2,0.5,10,10,0.1,T4,1,1,Moore)\n",
    "\n",
    "# SIST5=SIS_MediumCurves(0.2,0.5,10,10,0.1,T5,1,1,Moore)\n",
    "# SIRT5=SIR_MediumCurves(0.2,0.5,10,10,0.1,T5,1,1,Moore)\n",
    "\n",
    "# plt.subplot(1,2,1)\n",
    "# var_sis=[SIST1[1],SIST2[1],SIST3[1],SIST4[1],SIST5[1]]\n",
    "# graficas(var_sis,eti_esc,col_esc,\"SIS en un triangulo\")\n",
    "\n",
    "# plt.subplot(1,2,2)\n",
    "# var_sir=[SIRT1[2],SIRT2[2],SIRT3[2],SIRT4[2],SIRT5[2]]\n",
    "# graficas(var_sir,eti_esc,col_esc,\"SIR en un triangulo\")\n",
    "\n",
    "# plt.show()"
   ]
  },
  {
   "cell_type": "markdown",
   "id": "f5de8ec0",
   "metadata": {},
   "source": [
    "Al igual que en los ejemplos anteriores, realizamos una comparación con respecto a la escala de 10000 individuos, dicha comparación se puede visualizar mediante la siguiente gráfica:"
   ]
  },
  {
   "cell_type": "code",
   "execution_count": null,
   "id": "a519d3f7",
   "metadata": {},
   "outputs": [],
   "source": [
    "# plt.subplot(1,2,1)\n",
    "# var_difs=[variationsBetweenScales(SIST1[3],SIST5[3]),variationsBetweenScales(SIST2[3],SIST5[3]),\n",
    "#           variationsBetweenScales(SIST3[3],SIST5[3]),variationsBetweenScales(SIST4[3],SIST5[3])]\n",
    "# graficas(var_difs,eti_dif,col_dif,\"Estado I - SIS en el triangulo\",limit=False)\n",
    "\n",
    "# plt.subplot(1,2,2)\n",
    "# var_difsi=[variationsBetweenScales(SIRT1[3],SIRT5[3]),variationsBetweenScales(SIRT2[3],SIRT5[3]),\n",
    "#            variationsBetweenScales(SIRT3[3],SIRT5[3]),variationsBetweenScales(SIRT4[3],SIRT5[3])]\n",
    "# graficas(var_difsi,eti_dif,col_dif,\"Estado I - SIR en el triangulo\")\n",
    "\n",
    "# plt.show()"
   ]
  },
  {
   "cell_type": "markdown",
   "id": "09ab6d4c",
   "metadata": {},
   "source": [
    "En cada uno de los ejemplos anteriores, podemos observar que a medida que aumentaos la escala del sistema, la evolución de la enfermedad no presenta cambios significativos, esto nos indica que la evolución de la enfermedad (tanto en el modelo $SIS$ como en el modelo $SIR$) no posee una fuerte dependencia con respecto a los cambios de escala. \n",
    "\n",
    "Si tomamos las escalas con mayor numero de individuos  y las comparamos, podremos observar que todos los sistemas omitiendo el caso lineal se comportan de manera equivalente. Esto se debe a que al considerar un gran número de agentes estamos considerando implícitamente un gran número de vecindades, donde la mayoría de estás son del tipo Moore implicando así, un comportamiento similar justificado por cantidades similares de vecindades de Moore."
   ]
  },
  {
   "cell_type": "code",
   "execution_count": null,
   "id": "0ea2c066",
   "metadata": {},
   "outputs": [],
   "source": [
    "# var_1 = [SISL5[1],SISC5[1],SISRe5[1],SISRo5[1],SIST5[1]]\n",
    "# eti = [\"Linea\", \"Cuadrado\", \"Rectangulo\", \"Rombo\", \"triangulo\"]\n",
    "# col = [\"purple\", \"steelblue\", \"darkorange\", \"firebrick\", \"seagreen\"]\n",
    "# eti = [\"linea\", \"cuadrado\", \"rectangulo\", \"rombo\", \"triangulo\"]\n",
    "# graficas(var_1,eti,col,\"Escalas en el modelo SIS\")\n",
    "\n",
    "# plt.subplot(1,2,2)\n",
    "# var_2 = [SIRL5[2],SIRC5[2],SIRRe5[2],SIRRo5[2],SIRT5[2]]\n",
    "# graficas(var_2,eti,col,\"Escalas en el modelo SIR\")\n",
    "\n",
    "# plt.show()"
   ]
  }
 ],
 "metadata": {
  "kernelspec": {
   "display_name": "Python 3",
   "language": "python",
   "name": "python3"
  },
  "language_info": {
   "codemirror_mode": {
    "name": "ipython",
    "version": 3
   },
   "file_extension": ".py",
   "mimetype": "text/x-python",
   "name": "python",
   "nbconvert_exporter": "python",
   "pygments_lexer": "ipython3",
   "version": "3.8.8"
  }
 },
 "nbformat": 4,
 "nbformat_minor": 5
}
